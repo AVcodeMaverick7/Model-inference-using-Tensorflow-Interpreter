{
  "nbformat": 4,
  "nbformat_minor": 0,
  "metadata": {
    "kernelspec": {
      "display_name": "Python 3",
      "language": "python",
      "name": "python3"
    },
    "language_info": {
      "codemirror_mode": {
        "name": "ipython",
        "version": 3
      },
      "file_extension": ".py",
      "mimetype": "text/x-python",
      "name": "python",
      "nbconvert_exporter": "python",
      "pygments_lexer": "ipython3",
      "version": "3.7.3"
    },
    "colab": {
      "name": "HeartAttackPredictor_newer.ipynb",
      "provenance": [],
      "collapsed_sections": [],
      "toc_visible": true
    },
    "accelerator": "GPU",
    "widgets": {
      "application/vnd.jupyter.widget-state+json": {
        "2065d44fe1fb4cb7be28e0db87773222": {
          "model_module": "@jupyter-widgets/controls",
          "model_name": "HBoxModel",
          "state": {
            "_view_name": "HBoxView",
            "_dom_classes": [],
            "_model_name": "HBoxModel",
            "_view_module": "@jupyter-widgets/controls",
            "_model_module_version": "1.5.0",
            "_view_count": null,
            "_view_module_version": "1.5.0",
            "box_style": "",
            "layout": "IPY_MODEL_b88ca78ad5a94eaaaa77f4dce20296e3",
            "_model_module": "@jupyter-widgets/controls",
            "children": [
              "IPY_MODEL_3af53cee1a5a4b78a70f4e81b673ae83",
              "IPY_MODEL_ebc4a4b478674419882362ae35fac2d2"
            ]
          }
        },
        "b88ca78ad5a94eaaaa77f4dce20296e3": {
          "model_module": "@jupyter-widgets/base",
          "model_name": "LayoutModel",
          "state": {
            "_view_name": "LayoutView",
            "grid_template_rows": null,
            "right": null,
            "justify_content": null,
            "_view_module": "@jupyter-widgets/base",
            "overflow": null,
            "_model_module_version": "1.2.0",
            "_view_count": null,
            "flex_flow": null,
            "width": null,
            "min_width": null,
            "border": null,
            "align_items": null,
            "bottom": null,
            "_model_module": "@jupyter-widgets/base",
            "top": null,
            "grid_column": null,
            "overflow_y": null,
            "overflow_x": null,
            "grid_auto_flow": null,
            "grid_area": null,
            "grid_template_columns": null,
            "flex": null,
            "_model_name": "LayoutModel",
            "justify_items": null,
            "grid_row": null,
            "max_height": null,
            "align_content": null,
            "visibility": null,
            "align_self": null,
            "height": null,
            "min_height": null,
            "padding": null,
            "grid_auto_rows": null,
            "grid_gap": null,
            "max_width": null,
            "order": null,
            "_view_module_version": "1.2.0",
            "grid_template_areas": null,
            "object_position": null,
            "object_fit": null,
            "grid_auto_columns": null,
            "margin": null,
            "display": null,
            "left": null
          }
        },
        "3af53cee1a5a4b78a70f4e81b673ae83": {
          "model_module": "@jupyter-widgets/controls",
          "model_name": "FloatProgressModel",
          "state": {
            "_view_name": "ProgressView",
            "style": "IPY_MODEL_bab8e5a300984513973c6c395c5ee0b0",
            "_dom_classes": [],
            "description": "100%",
            "_model_name": "FloatProgressModel",
            "bar_style": "success",
            "max": 10,
            "_view_module": "@jupyter-widgets/controls",
            "_model_module_version": "1.5.0",
            "value": 10,
            "_view_count": null,
            "_view_module_version": "1.5.0",
            "orientation": "horizontal",
            "min": 0,
            "description_tooltip": null,
            "_model_module": "@jupyter-widgets/controls",
            "layout": "IPY_MODEL_ff4e81c414594fb4a78bfad909454080"
          }
        },
        "ebc4a4b478674419882362ae35fac2d2": {
          "model_module": "@jupyter-widgets/controls",
          "model_name": "HTMLModel",
          "state": {
            "_view_name": "HTMLView",
            "style": "IPY_MODEL_731eae1d8763446cb60ce579983bd154",
            "_dom_classes": [],
            "description": "",
            "_model_name": "HTMLModel",
            "placeholder": "​",
            "_view_module": "@jupyter-widgets/controls",
            "_model_module_version": "1.5.0",
            "value": " 10/10 [04:58&lt;00:00, 29.82s/it]",
            "_view_count": null,
            "_view_module_version": "1.5.0",
            "description_tooltip": null,
            "_model_module": "@jupyter-widgets/controls",
            "layout": "IPY_MODEL_bff085cd4be54238b9ab06f0d6b6dd32"
          }
        },
        "bab8e5a300984513973c6c395c5ee0b0": {
          "model_module": "@jupyter-widgets/controls",
          "model_name": "ProgressStyleModel",
          "state": {
            "_view_name": "StyleView",
            "_model_name": "ProgressStyleModel",
            "description_width": "initial",
            "_view_module": "@jupyter-widgets/base",
            "_model_module_version": "1.5.0",
            "_view_count": null,
            "_view_module_version": "1.2.0",
            "bar_color": null,
            "_model_module": "@jupyter-widgets/controls"
          }
        },
        "ff4e81c414594fb4a78bfad909454080": {
          "model_module": "@jupyter-widgets/base",
          "model_name": "LayoutModel",
          "state": {
            "_view_name": "LayoutView",
            "grid_template_rows": null,
            "right": null,
            "justify_content": null,
            "_view_module": "@jupyter-widgets/base",
            "overflow": null,
            "_model_module_version": "1.2.0",
            "_view_count": null,
            "flex_flow": null,
            "width": null,
            "min_width": null,
            "border": null,
            "align_items": null,
            "bottom": null,
            "_model_module": "@jupyter-widgets/base",
            "top": null,
            "grid_column": null,
            "overflow_y": null,
            "overflow_x": null,
            "grid_auto_flow": null,
            "grid_area": null,
            "grid_template_columns": null,
            "flex": null,
            "_model_name": "LayoutModel",
            "justify_items": null,
            "grid_row": null,
            "max_height": null,
            "align_content": null,
            "visibility": null,
            "align_self": null,
            "height": null,
            "min_height": null,
            "padding": null,
            "grid_auto_rows": null,
            "grid_gap": null,
            "max_width": null,
            "order": null,
            "_view_module_version": "1.2.0",
            "grid_template_areas": null,
            "object_position": null,
            "object_fit": null,
            "grid_auto_columns": null,
            "margin": null,
            "display": null,
            "left": null
          }
        },
        "731eae1d8763446cb60ce579983bd154": {
          "model_module": "@jupyter-widgets/controls",
          "model_name": "DescriptionStyleModel",
          "state": {
            "_view_name": "StyleView",
            "_model_name": "DescriptionStyleModel",
            "description_width": "",
            "_view_module": "@jupyter-widgets/base",
            "_model_module_version": "1.5.0",
            "_view_count": null,
            "_view_module_version": "1.2.0",
            "_model_module": "@jupyter-widgets/controls"
          }
        },
        "bff085cd4be54238b9ab06f0d6b6dd32": {
          "model_module": "@jupyter-widgets/base",
          "model_name": "LayoutModel",
          "state": {
            "_view_name": "LayoutView",
            "grid_template_rows": null,
            "right": null,
            "justify_content": null,
            "_view_module": "@jupyter-widgets/base",
            "overflow": null,
            "_model_module_version": "1.2.0",
            "_view_count": null,
            "flex_flow": null,
            "width": null,
            "min_width": null,
            "border": null,
            "align_items": null,
            "bottom": null,
            "_model_module": "@jupyter-widgets/base",
            "top": null,
            "grid_column": null,
            "overflow_y": null,
            "overflow_x": null,
            "grid_auto_flow": null,
            "grid_area": null,
            "grid_template_columns": null,
            "flex": null,
            "_model_name": "LayoutModel",
            "justify_items": null,
            "grid_row": null,
            "max_height": null,
            "align_content": null,
            "visibility": null,
            "align_self": null,
            "height": null,
            "min_height": null,
            "padding": null,
            "grid_auto_rows": null,
            "grid_gap": null,
            "max_width": null,
            "order": null,
            "_view_module_version": "1.2.0",
            "grid_template_areas": null,
            "object_position": null,
            "object_fit": null,
            "grid_auto_columns": null,
            "margin": null,
            "display": null,
            "left": null
          }
        }
      }
    }
  },
  "cells": [
    {
      "cell_type": "markdown",
      "metadata": {
        "id": "3XKzshRzHJJe"
      },
      "source": [
        "## HEART ATTACK PREDICTOR"
      ]
    },
    {
      "cell_type": "code",
      "metadata": {
        "id": "7Ao1wc7CH5lg",
        "colab": {
          "base_uri": "https://localhost:8080/"
        },
        "outputId": "d60b7759-ef18-4323-cecd-e3b00a5800f7"
      },
      "source": [
        "!pip install -q tensorflow-gpu --upgrade"
      ],
      "execution_count": null,
      "outputs": [
        {
          "output_type": "stream",
          "text": [
            "\u001b[K     |████████████████████████████████| 454.3MB 41kB/s \n",
            "\u001b[?25h"
          ],
          "name": "stdout"
        }
      ]
    },
    {
      "cell_type": "markdown",
      "metadata": {
        "id": "3quae1qk1CWR"
      },
      "source": [
        "# IMPORTING MODULES"
      ]
    },
    {
      "cell_type": "code",
      "metadata": {
        "id": "mXBscD9zHJJg",
        "colab": {
          "base_uri": "https://localhost:8080/"
        },
        "outputId": "50979529-e904-4112-aaf0-4e313040b39e"
      },
      "source": [
        "# Importing required libraries \n",
        "\n",
        "import pandas as pd  # data processing, CSV file I/O (e.i. pd.read_csv)\n",
        "import pandas_profiling as pp\n",
        "import numpy as np\n",
        "from tqdm import tqdm_notebook as tqdm\n",
        "\n",
        "# Preprocessing\n",
        "from sklearn.model_selection import train_test_split\n",
        "from sklearn.model_selection import cross_val_score, RepeatedStratifiedKFold,cross_validate\n",
        "from sklearn.preprocessing import StandardScaler, MinMaxScaler\n",
        "from sklearn.pipeline import make_pipeline\n",
        "from sklearn.model_selection import GridSearchCV\n",
        "\n",
        "# Feature Selection & Feature extraction\n",
        "from sklearn.feature_selection import chi2\n",
        "from sklearn.decomposition import PCA\n",
        "\n",
        "\n",
        "#Modelling\n",
        "from sklearn.linear_model import LogisticRegression\n",
        "from sklearn.tree import DecisionTreeClassifier\n",
        "from sklearn.ensemble import RandomForestClassifier\n",
        "from sklearn.svm import SVC\n",
        "from sklearn.ensemble import GradientBoostingClassifier\n",
        "from sklearn.naive_bayes import GaussianNB\n",
        "from sklearn.neural_network import MLPClassifier\n",
        "from sklearn.neighbors import KNeighborsClassifier\n",
        "from sklearn.linear_model import SGDClassifier\n",
        "\n",
        "from xgboost import XGBClassifier\n",
        "\n",
        "\n",
        "# Stacking Models\n",
        "from mlxtend.classifier import StackingCVClassifier\n",
        "\n",
        "#Metrics & utils\n",
        "from sklearn.metrics import confusion_matrix, classification_report\n",
        "from sklearn.metrics import roc_curve, auc #plot_roc_curve\n",
        "from sklearn.metrics import accuracy_score, precision_score, recall_score\n",
        "\n",
        "\n",
        "# Plotting \n",
        "import seaborn as sns\n",
        "import matplotlib.pyplot as plt\n",
        "%matplotlib inline\n",
        "\n",
        "\n",
        "# Ignore warnings\n",
        "import warnings\n",
        "warnings.filterwarnings('ignore')\n",
        "\n",
        "## Misc\n",
        "import joblib  #import pickle\n",
        "from time import time\n",
        "from scipy import stats\n",
        "import os\n",
        "\n",
        "# Tensorflow and Keras\n",
        "\n",
        "import tensorflow as tf\n",
        "import tensorflow.keras.backend as K\n",
        "from tensorflow.keras.models import Sequential\n",
        "from tensorflow.keras.layers import Dense, BatchNormalization, Dropout, LeakyReLU\n",
        "from tensorflow.keras.optimizers import Adam,RMSprop,Nadam,Adadelta,SGD\n",
        "from tensorflow.keras.losses import BinaryCrossentropy\n",
        "from tensorflow.keras.callbacks import ReduceLROnPlateau, EarlyStopping\n",
        "from tensorflow.keras import regularizers\n",
        "\n",
        "\n",
        "import sys\n",
        "print()\n",
        "print(sys.version)\n"
      ],
      "execution_count": null,
      "outputs": [
        {
          "output_type": "stream",
          "text": [
            "/usr/local/lib/python3.7/dist-packages/sklearn/externals/six.py:31: FutureWarning: The module is deprecated in version 0.21 and will be removed in version 0.23 since we've dropped support for Python 2.7. Please rely on the official version of six (https://pypi.org/project/six/).\n",
            "  \"(https://pypi.org/project/six/).\", FutureWarning)\n"
          ],
          "name": "stderr"
        },
        {
          "output_type": "stream",
          "text": [
            "\n",
            "3.7.10 (default, May  3 2021, 02:48:31) \n",
            "[GCC 7.5.0]\n"
          ],
          "name": "stdout"
        }
      ]
    },
    {
      "cell_type": "code",
      "metadata": {
        "id": "_XQgLbFLIZOl",
        "colab": {
          "base_uri": "https://localhost:8080/"
        },
        "outputId": "921d127e-81e5-43bb-de2c-9c1d7a5f190f"
      },
      "source": [
        "from google.colab import drive\n",
        "drive.mount('/content/drive/')"
      ],
      "execution_count": null,
      "outputs": [
        {
          "output_type": "stream",
          "text": [
            "Mounted at /content/drive/\n"
          ],
          "name": "stdout"
        }
      ]
    },
    {
      "cell_type": "code",
      "metadata": {
        "colab": {
          "base_uri": "https://localhost:8080/"
        },
        "id": "Qprwl_4kpkiD",
        "outputId": "3fbde783-63af-4fcc-9f33-e5359fed1ee0"
      },
      "source": [
        "path = '/content/drive/My Drive/Colab Notebooks/Proceedit/'\n",
        "\n",
        "print('Current working directory')\n",
        "print(os.getcwd())\n",
        "print('')\n",
        "print('Changed to working directory')\n",
        "os.chdir(path)\n",
        "print(os.getcwd())"
      ],
      "execution_count": null,
      "outputs": [
        {
          "output_type": "stream",
          "text": [
            "Current working directory\n",
            "/content\n",
            "\n",
            "Changed to working directory\n",
            "/content/drive/My Drive/Colab Notebooks/Proceedit\n"
          ],
          "name": "stdout"
        }
      ]
    },
    {
      "cell_type": "code",
      "metadata": {
        "id": "uat7ajIwqzdO"
      },
      "source": [
        "# project_path = r'/content/drive/My Drive/Colab Notebooks/Proceedit'\n",
        "files = ['cleveland_expanded_data','hungarian_expanded_data','longbeachva_expanded_data',\\\n",
        "         'switzerland_expanded_data']\n",
        "\n",
        "def load_data(file,file_path=path):\n",
        "    csvfile = os.path.join(file_path,file +'.csv')\n",
        "    return pd.read_csv(csvfile)"
      ],
      "execution_count": null,
      "outputs": []
    },
    {
      "cell_type": "markdown",
      "metadata": {
        "id": "TYyLNoL8NlfJ"
      },
      "source": [
        "# DATASET"
      ]
    },
    {
      "cell_type": "code",
      "metadata": {
        "colab": {
          "base_uri": "https://localhost:8080/",
          "height": 249
        },
        "id": "bNRCbzUtUbYM",
        "outputId": "7cb9d7b0-b251-401d-cde8-ae8965f14e0e"
      },
      "source": [
        "cleve = load_data(files[0])\n",
        "hung = load_data(files[1])\n",
        "long = load_data(files[2])\n",
        "switz = load_data(files[3])\n",
        "total_df = pd.concat([cleve,hung,long,switz],ignore_index=True)\n",
        "total_df.to_csv('total_df.csv')\n",
        "\n",
        "print('TOTAL CONCATENATED DATASET SIZE : {}'.format(np.sum([cleve.shape[0],hung.shape[0],long.shape[0],switz.shape[0]])))\n",
        "total_df.head()"
      ],
      "execution_count": null,
      "outputs": [
        {
          "output_type": "stream",
          "text": [
            "TOTAL CONCATENATED DATASET SIZE : 899\n"
          ],
          "name": "stdout"
        },
        {
          "output_type": "execute_result",
          "data": {
            "text/html": [
              "<div>\n",
              "<style scoped>\n",
              "    .dataframe tbody tr th:only-of-type {\n",
              "        vertical-align: middle;\n",
              "    }\n",
              "\n",
              "    .dataframe tbody tr th {\n",
              "        vertical-align: top;\n",
              "    }\n",
              "\n",
              "    .dataframe thead th {\n",
              "        text-align: right;\n",
              "    }\n",
              "</style>\n",
              "<table border=\"1\" class=\"dataframe\">\n",
              "  <thead>\n",
              "    <tr style=\"text-align: right;\">\n",
              "      <th></th>\n",
              "      <th>ID</th>\n",
              "      <th>CCF</th>\n",
              "      <th>AGE</th>\n",
              "      <th>SEX</th>\n",
              "      <th>PAINLOC</th>\n",
              "      <th>PAINEXER</th>\n",
              "      <th>RELREST</th>\n",
              "      <th>PNCADEN</th>\n",
              "      <th>CP</th>\n",
              "      <th>TRESTBPS</th>\n",
              "      <th>HTN</th>\n",
              "      <th>CHOL</th>\n",
              "      <th>SMOKE</th>\n",
              "      <th>CIGS</th>\n",
              "      <th>YEARS</th>\n",
              "      <th>FBS</th>\n",
              "      <th>DM</th>\n",
              "      <th>FAMHIST</th>\n",
              "      <th>RESTECG</th>\n",
              "      <th>EKGMO</th>\n",
              "      <th>EKGDAY</th>\n",
              "      <th>EKGYR</th>\n",
              "      <th>DIG</th>\n",
              "      <th>PROP</th>\n",
              "      <th>NITR</th>\n",
              "      <th>PRO</th>\n",
              "      <th>DIURETIC</th>\n",
              "      <th>PROTO</th>\n",
              "      <th>THALDUR</th>\n",
              "      <th>THALTIME</th>\n",
              "      <th>MET</th>\n",
              "      <th>THALACH</th>\n",
              "      <th>THALREST</th>\n",
              "      <th>TPEAKBPS</th>\n",
              "      <th>TPEAKBPD</th>\n",
              "      <th>DUMMY</th>\n",
              "      <th>TRESTBPD</th>\n",
              "      <th>EXANG</th>\n",
              "      <th>XHYPO</th>\n",
              "      <th>OLDPEAK</th>\n",
              "      <th>SLOPE</th>\n",
              "      <th>RLDV5</th>\n",
              "      <th>RLDV5E</th>\n",
              "      <th>CA</th>\n",
              "      <th>RESTCKM</th>\n",
              "      <th>EXERCKM</th>\n",
              "      <th>RESTEF</th>\n",
              "      <th>RESTWM</th>\n",
              "      <th>EXEREF</th>\n",
              "      <th>EXERWM</th>\n",
              "      <th>THAL</th>\n",
              "      <th>THALSEV</th>\n",
              "      <th>THALPUL</th>\n",
              "      <th>EARLPUL</th>\n",
              "      <th>CMO</th>\n",
              "      <th>CDAY</th>\n",
              "      <th>CYR</th>\n",
              "      <th>NUM</th>\n",
              "      <th>LMT</th>\n",
              "      <th>LADPROX</th>\n",
              "      <th>LADDIST</th>\n",
              "      <th>DIAG</th>\n",
              "      <th>CXMAIN</th>\n",
              "      <th>RAMUS</th>\n",
              "      <th>OM1</th>\n",
              "      <th>OM2</th>\n",
              "      <th>RCAPROX</th>\n",
              "      <th>RCADIST</th>\n",
              "      <th>LVX1</th>\n",
              "      <th>LVX2</th>\n",
              "      <th>LVX3</th>\n",
              "      <th>LVX4</th>\n",
              "      <th>LVF</th>\n",
              "      <th>CATHEF</th>\n",
              "      <th>JUNK</th>\n",
              "      <th>Unnamed: 75</th>\n",
              "      <th>#REF!</th>\n",
              "    </tr>\n",
              "  </thead>\n",
              "  <tbody>\n",
              "    <tr>\n",
              "      <th>0</th>\n",
              "      <td>1</td>\n",
              "      <td>0</td>\n",
              "      <td>63</td>\n",
              "      <td>1</td>\n",
              "      <td>-9</td>\n",
              "      <td>-9</td>\n",
              "      <td>-9</td>\n",
              "      <td>-9</td>\n",
              "      <td>1</td>\n",
              "      <td>145</td>\n",
              "      <td>1</td>\n",
              "      <td>233</td>\n",
              "      <td>-9</td>\n",
              "      <td>50</td>\n",
              "      <td>20</td>\n",
              "      <td>1</td>\n",
              "      <td>-9</td>\n",
              "      <td>1</td>\n",
              "      <td>2</td>\n",
              "      <td>2</td>\n",
              "      <td>3</td>\n",
              "      <td>81</td>\n",
              "      <td>0</td>\n",
              "      <td>0</td>\n",
              "      <td>0</td>\n",
              "      <td>0</td>\n",
              "      <td>0</td>\n",
              "      <td>1</td>\n",
              "      <td>10.5</td>\n",
              "      <td>6.0</td>\n",
              "      <td>13.0</td>\n",
              "      <td>150</td>\n",
              "      <td>60</td>\n",
              "      <td>190</td>\n",
              "      <td>90</td>\n",
              "      <td>145</td>\n",
              "      <td>85</td>\n",
              "      <td>0</td>\n",
              "      <td>0</td>\n",
              "      <td>2.3</td>\n",
              "      <td>3</td>\n",
              "      <td>-9</td>\n",
              "      <td>172</td>\n",
              "      <td>0</td>\n",
              "      <td>-9</td>\n",
              "      <td>-9</td>\n",
              "      <td>-9.0</td>\n",
              "      <td>-9</td>\n",
              "      <td>-9.0</td>\n",
              "      <td>-9</td>\n",
              "      <td>6</td>\n",
              "      <td>-9</td>\n",
              "      <td>-9</td>\n",
              "      <td>-9</td>\n",
              "      <td>2</td>\n",
              "      <td>16</td>\n",
              "      <td>81</td>\n",
              "      <td>0</td>\n",
              "      <td>1</td>\n",
              "      <td>1</td>\n",
              "      <td>1</td>\n",
              "      <td>-9</td>\n",
              "      <td>1</td>\n",
              "      <td>-9</td>\n",
              "      <td>1</td>\n",
              "      <td>-9</td>\n",
              "      <td>1</td>\n",
              "      <td>1</td>\n",
              "      <td>1</td>\n",
              "      <td>1</td>\n",
              "      <td>1</td>\n",
              "      <td>1</td>\n",
              "      <td>1</td>\n",
              "      <td>-9.0</td>\n",
              "      <td>-9.0</td>\n",
              "      <td>name</td>\n",
              "      <td>NaN</td>\n",
              "    </tr>\n",
              "    <tr>\n",
              "      <th>1</th>\n",
              "      <td>2</td>\n",
              "      <td>0</td>\n",
              "      <td>67</td>\n",
              "      <td>1</td>\n",
              "      <td>-9</td>\n",
              "      <td>-9</td>\n",
              "      <td>-9</td>\n",
              "      <td>-9</td>\n",
              "      <td>4</td>\n",
              "      <td>160</td>\n",
              "      <td>1</td>\n",
              "      <td>286</td>\n",
              "      <td>-9</td>\n",
              "      <td>40</td>\n",
              "      <td>40</td>\n",
              "      <td>0</td>\n",
              "      <td>-9</td>\n",
              "      <td>1</td>\n",
              "      <td>2</td>\n",
              "      <td>3</td>\n",
              "      <td>5</td>\n",
              "      <td>81</td>\n",
              "      <td>0</td>\n",
              "      <td>1</td>\n",
              "      <td>0</td>\n",
              "      <td>0</td>\n",
              "      <td>0</td>\n",
              "      <td>1</td>\n",
              "      <td>9.5</td>\n",
              "      <td>6.0</td>\n",
              "      <td>13.0</td>\n",
              "      <td>108</td>\n",
              "      <td>64</td>\n",
              "      <td>160</td>\n",
              "      <td>90</td>\n",
              "      <td>160</td>\n",
              "      <td>90</td>\n",
              "      <td>1</td>\n",
              "      <td>0</td>\n",
              "      <td>1.5</td>\n",
              "      <td>2</td>\n",
              "      <td>-9</td>\n",
              "      <td>185</td>\n",
              "      <td>3</td>\n",
              "      <td>-9</td>\n",
              "      <td>-9</td>\n",
              "      <td>-9.0</td>\n",
              "      <td>-9</td>\n",
              "      <td>-9.0</td>\n",
              "      <td>-9</td>\n",
              "      <td>3</td>\n",
              "      <td>-9</td>\n",
              "      <td>-9</td>\n",
              "      <td>-9</td>\n",
              "      <td>2</td>\n",
              "      <td>5</td>\n",
              "      <td>81</td>\n",
              "      <td>2</td>\n",
              "      <td>1</td>\n",
              "      <td>2</td>\n",
              "      <td>2</td>\n",
              "      <td>-9</td>\n",
              "      <td>2</td>\n",
              "      <td>-9</td>\n",
              "      <td>1</td>\n",
              "      <td>-9</td>\n",
              "      <td>1</td>\n",
              "      <td>1</td>\n",
              "      <td>1</td>\n",
              "      <td>1</td>\n",
              "      <td>1</td>\n",
              "      <td>1</td>\n",
              "      <td>1</td>\n",
              "      <td>-9.0</td>\n",
              "      <td>-9.0</td>\n",
              "      <td>name</td>\n",
              "      <td>NaN</td>\n",
              "    </tr>\n",
              "    <tr>\n",
              "      <th>2</th>\n",
              "      <td>3</td>\n",
              "      <td>0</td>\n",
              "      <td>67</td>\n",
              "      <td>1</td>\n",
              "      <td>-9</td>\n",
              "      <td>-9</td>\n",
              "      <td>-9</td>\n",
              "      <td>-9</td>\n",
              "      <td>4</td>\n",
              "      <td>120</td>\n",
              "      <td>1</td>\n",
              "      <td>229</td>\n",
              "      <td>-9</td>\n",
              "      <td>20</td>\n",
              "      <td>35</td>\n",
              "      <td>0</td>\n",
              "      <td>-9</td>\n",
              "      <td>1</td>\n",
              "      <td>2</td>\n",
              "      <td>2</td>\n",
              "      <td>19</td>\n",
              "      <td>81</td>\n",
              "      <td>0</td>\n",
              "      <td>1</td>\n",
              "      <td>0</td>\n",
              "      <td>0</td>\n",
              "      <td>0</td>\n",
              "      <td>1</td>\n",
              "      <td>8.5</td>\n",
              "      <td>6.0</td>\n",
              "      <td>10.0</td>\n",
              "      <td>129</td>\n",
              "      <td>78</td>\n",
              "      <td>140</td>\n",
              "      <td>80</td>\n",
              "      <td>120</td>\n",
              "      <td>80</td>\n",
              "      <td>1</td>\n",
              "      <td>0</td>\n",
              "      <td>2.6</td>\n",
              "      <td>2</td>\n",
              "      <td>-9</td>\n",
              "      <td>150</td>\n",
              "      <td>2</td>\n",
              "      <td>-9</td>\n",
              "      <td>-9</td>\n",
              "      <td>-9.0</td>\n",
              "      <td>-9</td>\n",
              "      <td>-9.0</td>\n",
              "      <td>-9</td>\n",
              "      <td>7</td>\n",
              "      <td>-9</td>\n",
              "      <td>-9</td>\n",
              "      <td>-9</td>\n",
              "      <td>2</td>\n",
              "      <td>20</td>\n",
              "      <td>81</td>\n",
              "      <td>1</td>\n",
              "      <td>1</td>\n",
              "      <td>1</td>\n",
              "      <td>1</td>\n",
              "      <td>-9</td>\n",
              "      <td>1</td>\n",
              "      <td>-9</td>\n",
              "      <td>1</td>\n",
              "      <td>-9</td>\n",
              "      <td>2</td>\n",
              "      <td>2</td>\n",
              "      <td>1</td>\n",
              "      <td>1</td>\n",
              "      <td>1</td>\n",
              "      <td>7</td>\n",
              "      <td>3</td>\n",
              "      <td>-9.0</td>\n",
              "      <td>-9.0</td>\n",
              "      <td>name</td>\n",
              "      <td>NaN</td>\n",
              "    </tr>\n",
              "    <tr>\n",
              "      <th>3</th>\n",
              "      <td>4</td>\n",
              "      <td>0</td>\n",
              "      <td>37</td>\n",
              "      <td>1</td>\n",
              "      <td>-9</td>\n",
              "      <td>-9</td>\n",
              "      <td>-9</td>\n",
              "      <td>-9</td>\n",
              "      <td>3</td>\n",
              "      <td>130</td>\n",
              "      <td>0</td>\n",
              "      <td>250</td>\n",
              "      <td>-9</td>\n",
              "      <td>0</td>\n",
              "      <td>0</td>\n",
              "      <td>0</td>\n",
              "      <td>-9</td>\n",
              "      <td>1</td>\n",
              "      <td>0</td>\n",
              "      <td>2</td>\n",
              "      <td>13</td>\n",
              "      <td>81</td>\n",
              "      <td>0</td>\n",
              "      <td>1</td>\n",
              "      <td>0</td>\n",
              "      <td>0</td>\n",
              "      <td>0</td>\n",
              "      <td>1</td>\n",
              "      <td>13.0</td>\n",
              "      <td>13.0</td>\n",
              "      <td>17.0</td>\n",
              "      <td>187</td>\n",
              "      <td>84</td>\n",
              "      <td>195</td>\n",
              "      <td>68</td>\n",
              "      <td>130</td>\n",
              "      <td>78</td>\n",
              "      <td>0</td>\n",
              "      <td>0</td>\n",
              "      <td>3.5</td>\n",
              "      <td>3</td>\n",
              "      <td>-9</td>\n",
              "      <td>167</td>\n",
              "      <td>0</td>\n",
              "      <td>-9</td>\n",
              "      <td>-9</td>\n",
              "      <td>-9.0</td>\n",
              "      <td>-9</td>\n",
              "      <td>-9.0</td>\n",
              "      <td>-9</td>\n",
              "      <td>3</td>\n",
              "      <td>-9</td>\n",
              "      <td>-9</td>\n",
              "      <td>-9</td>\n",
              "      <td>2</td>\n",
              "      <td>4</td>\n",
              "      <td>81</td>\n",
              "      <td>0</td>\n",
              "      <td>1</td>\n",
              "      <td>1</td>\n",
              "      <td>1</td>\n",
              "      <td>-9</td>\n",
              "      <td>1</td>\n",
              "      <td>-9</td>\n",
              "      <td>1</td>\n",
              "      <td>-9</td>\n",
              "      <td>1</td>\n",
              "      <td>1</td>\n",
              "      <td>1</td>\n",
              "      <td>1</td>\n",
              "      <td>1</td>\n",
              "      <td>1</td>\n",
              "      <td>1</td>\n",
              "      <td>-9.0</td>\n",
              "      <td>-9.0</td>\n",
              "      <td>name</td>\n",
              "      <td>NaN</td>\n",
              "    </tr>\n",
              "    <tr>\n",
              "      <th>4</th>\n",
              "      <td>6</td>\n",
              "      <td>0</td>\n",
              "      <td>41</td>\n",
              "      <td>0</td>\n",
              "      <td>-9</td>\n",
              "      <td>-9</td>\n",
              "      <td>-9</td>\n",
              "      <td>-9</td>\n",
              "      <td>2</td>\n",
              "      <td>130</td>\n",
              "      <td>1</td>\n",
              "      <td>204</td>\n",
              "      <td>-9</td>\n",
              "      <td>0</td>\n",
              "      <td>0</td>\n",
              "      <td>0</td>\n",
              "      <td>-9</td>\n",
              "      <td>1</td>\n",
              "      <td>2</td>\n",
              "      <td>2</td>\n",
              "      <td>7</td>\n",
              "      <td>81</td>\n",
              "      <td>0</td>\n",
              "      <td>0</td>\n",
              "      <td>0</td>\n",
              "      <td>0</td>\n",
              "      <td>0</td>\n",
              "      <td>1</td>\n",
              "      <td>7.0</td>\n",
              "      <td>-9.0</td>\n",
              "      <td>9.0</td>\n",
              "      <td>172</td>\n",
              "      <td>71</td>\n",
              "      <td>160</td>\n",
              "      <td>74</td>\n",
              "      <td>130</td>\n",
              "      <td>86</td>\n",
              "      <td>0</td>\n",
              "      <td>0</td>\n",
              "      <td>1.4</td>\n",
              "      <td>1</td>\n",
              "      <td>-9</td>\n",
              "      <td>40</td>\n",
              "      <td>0</td>\n",
              "      <td>-9</td>\n",
              "      <td>-9</td>\n",
              "      <td>-9.0</td>\n",
              "      <td>-9</td>\n",
              "      <td>-9.0</td>\n",
              "      <td>-9</td>\n",
              "      <td>3</td>\n",
              "      <td>-9</td>\n",
              "      <td>-9</td>\n",
              "      <td>-9</td>\n",
              "      <td>2</td>\n",
              "      <td>18</td>\n",
              "      <td>81</td>\n",
              "      <td>0</td>\n",
              "      <td>1</td>\n",
              "      <td>1</td>\n",
              "      <td>1</td>\n",
              "      <td>-9</td>\n",
              "      <td>1</td>\n",
              "      <td>-9</td>\n",
              "      <td>1</td>\n",
              "      <td>-9</td>\n",
              "      <td>1</td>\n",
              "      <td>1</td>\n",
              "      <td>1</td>\n",
              "      <td>1</td>\n",
              "      <td>1</td>\n",
              "      <td>1</td>\n",
              "      <td>1</td>\n",
              "      <td>-9.0</td>\n",
              "      <td>-9.0</td>\n",
              "      <td>name</td>\n",
              "      <td>NaN</td>\n",
              "    </tr>\n",
              "  </tbody>\n",
              "</table>\n",
              "</div>"
            ],
            "text/plain": [
              "   ID  CCF  AGE  SEX  PAINLOC  ...  LVF  CATHEF  JUNK  Unnamed: 75  #REF!\n",
              "0   1    0   63    1       -9  ...    1    -9.0  -9.0         name    NaN\n",
              "1   2    0   67    1       -9  ...    1    -9.0  -9.0         name    NaN\n",
              "2   3    0   67    1       -9  ...    3    -9.0  -9.0         name    NaN\n",
              "3   4    0   37    1       -9  ...    1    -9.0  -9.0         name    NaN\n",
              "4   6    0   41    0       -9  ...    1    -9.0  -9.0         name    NaN\n",
              "\n",
              "[5 rows x 77 columns]"
            ]
          },
          "metadata": {
            "tags": []
          },
          "execution_count": 6
        }
      ]
    },
    {
      "cell_type": "code",
      "metadata": {
        "colab": {
          "base_uri": "https://localhost:8080/"
        },
        "id": "NpX1UCDYq0nt",
        "outputId": "aff585a5-040c-47b1-ff77-b7583736d995"
      },
      "source": [
        "# final concatenated dataframe for Cleveland + Hungarian + longbeach + Switzerland dataset\n",
        "# creating two copies \n",
        "\n",
        "data = total_df.copy() \n",
        "\n",
        "total_dataset = total_df.copy()\n",
        "\n",
        "total_dataset.to_csv('total_4_reduced_dataset.csv')\n",
        "\n",
        "print('Total Number of patients involved in the original {0} study is {1} with {2} features '.format('cleveland_hungarian',len(data),len(data.columns)))\n",
        "\n",
        "# data.drop(columns=['ID','CCF','Unnamed: 75'],inplace=True)\n",
        "\n",
        "# target variable conversion to 0 & 1\n",
        "data['NUM'] = np.where((data['NUM']>0),1,0)\n",
        "\n",
        "# columns after applying ChiSquared selector for Feature selection\n",
        "\n",
        "# data = data[['CHOL','OLDPEAK','CP','CXMAIN','THALTIME','LADDIST','RCAPROX','LADPROX','EXANG','THALACH','SLOPE','RLDV5E','OM1','NUM']]\n",
        "\n",
        "print('------')\n",
        "print('Total Number of patients involved in the reduced {0} study is {1} with {2} features '.format('cleveland_hungarian',len(data),len(data.columns)))\n",
        "# data.head()\n"
      ],
      "execution_count": null,
      "outputs": [
        {
          "output_type": "stream",
          "text": [
            "Total Number of patients involved in the original cleveland_hungarian study is 899 with 77 features \n",
            "------\n",
            "Total Number of patients involved in the reduced cleveland_hungarian study is 899 with 77 features \n"
          ],
          "name": "stdout"
        }
      ]
    },
    {
      "cell_type": "markdown",
      "metadata": {
        "id": "OHWP0fylHJJr"
      },
      "source": [
        "#### Attribute Description\n",
        "- age: The person's age in years\n",
        "- sex: The person's sex (1 = male, 0 = female)\n",
        "- cp: The chest pain experienced (Value 1: typical angina, Value 2: atypical angina, Value 3: non-anginal pain, Value 4: asymptomatic)\n",
        "- trestbps: The person's resting blood pressure (mm Hg on admission to the hospital)\n",
        "- chol: The person's cholesterol measurement in mg/dl\n",
        "- fbs: The person's fasting blood sugar (> 120 mg/dl, 1 = true; 0 = false)\n",
        "- restecg: Resting electrocardiographic measurement (0 = normal, 1 = having ST-T wave abnormality, 2 = showing probable or definite left ventricular hypertrophy by Estes' criteria)\n",
        "- thalach: The person's maximum heart rate achieved\n",
        "- exang: Exercise induced angina (1 = yes; 0 = no)\n",
        "- oldpeak: ST depression induced by exercise relative to rest ('ST' relates to positions on the ECG plot. See more here)\n",
        "- slope: the slope of the peak exercise ST segment (Value 1: upsloping, Value 2: flat, Value 3: downsloping)\n",
        "- ca: The number of major vessels (0-3)\n",
        "- thal: A blood disorder called thalassemia (3 = normal; 6 = fixed defect; 7 = reversable defect)\n",
        "- target: Heart disease (0 = no, 1 = yes)"
      ]
    },
    {
      "cell_type": "markdown",
      "metadata": {
        "id": "4zWUfi0JNy1r"
      },
      "source": [
        "### MISSING VALUES & DUPLICATES"
      ]
    },
    {
      "cell_type": "code",
      "metadata": {
        "colab": {
          "base_uri": "https://localhost:8080/"
        },
        "id": "OBtiWHeysON1",
        "outputId": "e4011c61-fde1-45e3-dfe1-dd69fed5a1eb"
      },
      "source": [
        "def check_missing_duplicated(data):\n",
        "    # checking NA and Missing values\n",
        "    print('Number of NA\\'s in the dataset')\n",
        "    print(data.isna().sum())\n",
        "    print('')\n",
        "    print('Total missing values in the dataset')\n",
        "    print(data.isnull().sum())\n",
        "\n",
        "    # check for duplicates\n",
        "\n",
        "    print('')\n",
        "    print('Number of duplicates')\n",
        "    print(data.duplicated().sum())\n",
        "    duplicate_data = data[data.duplicated(keep=False)].sort_values(by=['CHOL'], ascending= False) \n",
        "    duplicate_data.head()\n",
        "    \n",
        "    # dropping duplicates\n",
        "    data.drop_duplicates(inplace=True)\n",
        "    print('Duplicates count after dropping : {}'.format(data.duplicated().sum()))\n",
        "    print('Number of observations after dropping duplicates : {}'.format(len(data)))\n",
        "    \n",
        "check_missing_duplicated(data)"
      ],
      "execution_count": null,
      "outputs": [
        {
          "output_type": "stream",
          "text": [
            "Number of NA's in the dataset\n",
            "ID               0\n",
            "CCF              0\n",
            "AGE              0\n",
            "SEX              0\n",
            "PAINLOC          0\n",
            "              ... \n",
            "LVF              0\n",
            "CATHEF           0\n",
            "JUNK             0\n",
            "Unnamed: 75    123\n",
            "#REF!          776\n",
            "Length: 77, dtype: int64\n",
            "\n",
            "Total missing values in the dataset\n",
            "ID               0\n",
            "CCF              0\n",
            "AGE              0\n",
            "SEX              0\n",
            "PAINLOC          0\n",
            "              ... \n",
            "LVF              0\n",
            "CATHEF           0\n",
            "JUNK             0\n",
            "Unnamed: 75    123\n",
            "#REF!          776\n",
            "Length: 77, dtype: int64\n",
            "\n",
            "Number of duplicates\n",
            "0\n",
            "Duplicates count after dropping : 0\n",
            "Number of observations after dropping duplicates : 899\n"
          ],
          "name": "stdout"
        }
      ]
    },
    {
      "cell_type": "code",
      "metadata": {
        "colab": {
          "base_uri": "https://localhost:8080/",
          "height": 716
        },
        "id": "ZGnrSJRapGg1",
        "outputId": "ae8239a2-04e7-4c83-82e6-2462b0e61195"
      },
      "source": [
        "# plot histograms for each variable\n",
        "data.hist(figsize = (12, 12))\n",
        "plt.show()"
      ],
      "execution_count": null,
      "outputs": [
        {
          "output_type": "display_data",
          "data": {
            "image/png": "[encoded data removed]",
            "text/plain": [
              "<Figure size 864x864 with 81 Axes>"
            ]
          },
          "metadata": {
            "tags": [],
            "needs_background": "light"
          }
        }
      ]
    },
    {
      "cell_type": "code",
      "metadata": {
        "id": "v88QJgR-pGmI"
      },
      "source": [
        ""
      ],
      "execution_count": null,
      "outputs": []
    },
    {
      "cell_type": "code",
      "metadata": {
        "colab": {
          "base_uri": "https://localhost:8080/",
          "height": 390
        },
        "id": "lxZTUYtfpHfb",
        "outputId": "dc6fbefe-1c8b-4325-d0e2-07ec5d5ae477"
      },
      "source": [
        "pd.crosstab(data['AGE'],data['NUM']).plot(kind=\"bar\",figsize=(20,6))\n",
        "plt.title('Heart Disease Frequency for Ages')\n",
        "plt.xlabel('Age')\n",
        "plt.ylabel('Frequency')\n",
        "plt.show()"
      ],
      "execution_count": null,
      "outputs": [
        {
          "output_type": "display_data",
          "data": {
            "image/png": "[encoded data removed]",
            "text/plain": [
              "<Figure size 1440x432 with 1 Axes>"
            ]
          },
          "metadata": {
            "tags": [],
            "needs_background": "light"
          }
        }
      ]
    },
    {
      "cell_type": "code",
      "metadata": {
        "id": "Yre8zt1bpHiY"
      },
      "source": [
        ""
      ],
      "execution_count": null,
      "outputs": []
    },
    {
      "cell_type": "code",
      "metadata": {
        "id": "togjc_I8440j"
      },
      "source": [
        "# FUNCTION TO FILL WITH RANDOM VALUES FOR MISSING VALUES (-9's)\n",
        "# np.random.randint(2,size = ch_copy_pre[col].value_counts().values[0]))\n",
        "\n",
        "def fill_missing(value):\n",
        "    \n",
        "    for i in range(len(ch_copy_pre)):\n",
        "        \n",
        "        if value == -9: \n",
        "            value = np.random.choice(ch_copy_pre[ch_copy_pre[col] != -9][col])\n",
        "            \n",
        "        else:\n",
        "            value = value\n",
        "    \n",
        "    return value"
      ],
      "execution_count": null,
      "outputs": []
    },
    {
      "cell_type": "markdown",
      "metadata": {
        "id": "LDvJTFHor1YX"
      },
      "source": [
        "### PREPROCESSING DATAFRAME"
      ]
    },
    {
      "cell_type": "code",
      "metadata": {
        "id": "w6QC7n6C_EAn",
        "colab": {
          "base_uri": "https://localhost:8080/",
          "height": 400
        },
        "outputId": "a3b57c42-339d-45e6-9fb7-728083b936ee"
      },
      "source": [
        "# PREPROCESSING DATAFRAME\n",
        "# Experiment with Raw Data + SIX ML Classifiers \n",
        "\n",
        "#Feature Selection for Cleveland + Hungarian + Longbeach + switzerland Dataset\n",
        "\n",
        "ch_copy_pre = total_dataset.copy()\n",
        "\n",
        "\n",
        "print('Total Number of observations in our analysis [BEFORE] : {}'.format(len(ch_copy_pre)))\n",
        "print('Total Number of columns Before Feature Selection      : {}'.format(len(ch_copy_pre.columns)))\n",
        "\n",
        "\n",
        "# Pre-processing condition for variables\n",
        "\n",
        "#  Dropping columns as mentioned in table-4 along with excluded features mentioned in the paper\n",
        "\n",
        "column_names = ['ID','CCF','PAINLOC','PNCADEN','SMOKE','DM','FAMHIST','EKGMO','EKGDAY','EKGYR','DUMMY', \\\n",
        "                        'RESTCKM', 'EXERCKM','RESTEF','RESTWM', 'EXEREF', 'EXERWM','THALSEV', 'THALPUL', 'EARLPUL',\\\n",
        "                         'CMO', 'CDAY', 'CYR','LVX1', 'LVX2','LVX3', 'LVX4','LVF','RLDV5','DIAG','RAMUS','OM2',\\\n",
        "                          'CATHEF', 'JUNK','Unnamed: 75','#REF!']\n",
        "\n",
        "ch_copy_pre = ch_copy_pre.drop(columns= column_names)\n",
        "\n",
        "print('')\n",
        "print('Number of columns dropped as described in the table-4 : {}'.format(len(column_names)))\n",
        "\n",
        "\n",
        "# 1. target variable conversion to 0 & 1\n",
        "ch_copy_pre['NUM'] = np.where((ch_copy_pre['NUM']>0),1,0)\n",
        "\n",
        "# 2a. CONTINUOUS VARIABLES : Applying Imputation for data consistency \n",
        "\n",
        "ch_copy_pre['THALDUR'] = ch_copy_pre['THALDUR'].replace(-9,round((ch_copy_pre['THALDUR']!=-9).mean(),1))\n",
        "ch_copy_pre['THALTIME'] = ch_copy_pre['THALTIME'].replace(-9,round((ch_copy_pre['THALTIME']!=-9).mean(),1))\n",
        "ch_copy_pre['OLDPEAK'] = ch_copy_pre['OLDPEAK'].replace(-9,round((ch_copy_pre['OLDPEAK']!=-9).mean(),1))\n",
        "ch_copy_pre['CHOL'] = ch_copy_pre['CHOL'].replace(0,int(ch_copy_pre['CHOL'].mean()))\n",
        "ch_copy_pre['TRESTBPS'] = ch_copy_pre['TRESTBPS'].replace(0,int(ch_copy_pre['CHOL'].mean()))\n",
        "ch_copy_pre['YEARS'] = ch_copy_pre['YEARS'].replace(0,int(ch_copy_pre['YEARS'].mean()))\n",
        "ch_copy_pre['CIGS'] = ch_copy_pre['CIGS'].replace(0,int(ch_copy_pre['CIGS'].mean()))\n",
        "\n",
        "\n",
        "ch_copy_pre['PROTO'] = ch_copy_pre['PROTO'].apply(lambda x: 150 if x > 125 else x)\n",
        "\n",
        "ch_copy_pre['PROTO'] = ch_copy_pre['PROTO'].map({-9:1,1:1,2:2,3:3,4:4,5:5,6:6,150:7,125:8,100:9,75:10,50:11,12:12,25:12})\n",
        "\n",
        "ch_copy_pre['OLDPEAK'] = ch_copy_pre['OLDPEAK'].apply(lambda x: np.abs(x) if x < 0 else x)\n",
        "\n",
        "cont_col = ['CHOL','CIGS', 'YEARS','MET','THALACH','THALREST','TPEAKBPS','TRESTBPS','TPEAKBPD','TRESTBPD','RLDV5E']\n",
        "\n",
        "for col in cont_col:\n",
        "    ch_copy_pre[col] = ch_copy_pre[col].replace(-9,int(ch_copy_pre[col].mean()))\n",
        "   \n",
        "# 2b. CATEGORICAL VARIABLES : Applying Imputation for data consistency\n",
        "# choosing unique label based on categories present\n",
        "# [DANGER AREA WITH -9]\n",
        "\n",
        "categ_col = ['SEX', 'PAINEXER', 'RELREST','HTN','FBS','DIG', 'PROP', 'NITR', 'PRO','DIURETIC','EXANG', 'XHYPO',\\\n",
        "            'LMT','LADPROX','LADDIST', 'CXMAIN', 'OM1', 'RCAPROX', 'RCADIST','RESTECG','SLOPE','CA','THAL']\n",
        "\n",
        "for col in categ_col:\n",
        "    ch_copy_pre[col] = ch_copy_pre[col].apply(fill_missing)\n",
        "    \n",
        "\n",
        "ch_copy_pre['SLOPE'] = ch_copy_pre['SLOPE'].apply(lambda x: 1 if x == 0 else x)\n",
        "ch_copy_pre['CA'] = ch_copy_pre['CA'].apply(lambda x: 3 if x > 3 else x)\n",
        "ch_copy_pre['THAL'] = ch_copy_pre['THAL'].apply(lambda x : 3 if x <=3 else (6 if (x > 3 and x <= 6) else x))\n",
        "\n",
        "ch_copy_pre['LADPROX'] = np.where((ch_copy_pre['LADPROX']>1),1,0)\n",
        "ch_copy_pre['LADDIST'] = np.where((ch_copy_pre['LADDIST']>1),1,0)\n",
        "ch_copy_pre['CXMAIN'] = np.where((ch_copy_pre['CXMAIN']>1),1,0)\n",
        "ch_copy_pre['OM1'] = np.where((ch_copy_pre['OM1']>1),1,0)\n",
        "ch_copy_pre['RCAPROX'] = np.where((ch_copy_pre['RCAPROX']>1),1,0)\n",
        "\n",
        "# 5. drop if Thaltime > thaldur\n",
        "# 6. drop if thalach < thalrest\n",
        "print('')\n",
        "print('Total Number of rows dropped (where THALTIME > THALDUR) : {}'.format(len(ch_copy_pre[ch_copy_pre['THALTIME'] > ch_copy_pre['THALDUR']])))\n",
        "ch_copy_pre = ch_copy_pre.drop(ch_copy_pre[ch_copy_pre['THALTIME'] > ch_copy_pre['THALDUR']].index)\n",
        "\n",
        "print('Total Number of rows dropped (where THALACH < THALREST) : {}'.format(len(ch_copy_pre[ch_copy_pre['THALACH'] < ch_copy_pre['THALREST']])))\n",
        "ch_copy_pre = ch_copy_pre.drop(ch_copy_pre[ch_copy_pre['THALACH'] < ch_copy_pre['THALREST']].index)\n",
        "\n",
        "print('')\n",
        "\n",
        "# 7. if oldpeak = 0 then convert thaltime = 0\n",
        "ch_copy_pre.loc[(ch_copy_pre['OLDPEAK']==0),'THALTIME'] = 0\n",
        "\n",
        "\n",
        "# resetting index\n",
        "\n",
        "ch_copy_pre.reset_index(inplace=True)\n",
        "ch_copy_pre.drop(columns='index',inplace=True)\n",
        "\n",
        "print('')\n",
        "print('Total Number of observations in our analysis [AFTER]  : {}'.format(len(ch_copy_pre)))\n",
        "print('Total Number of columns After Feature Selection       : {}'.format(len(ch_copy_pre.columns)))\n",
        "\n",
        "# saving the dataset as csv after feature selection\n",
        "ch_copy_pre.to_csv('har_cleve_hung_longbeach_switz_reduced_preprocessed.csv')\n",
        "\n",
        "ch_copy_pre.head()\n"
      ],
      "execution_count": null,
      "outputs": [
        {
          "output_type": "stream",
          "text": [
            "Total Number of observations in our analysis [BEFORE] : 899\n",
            "Total Number of columns Before Feature Selection      : 77\n",
            "\n",
            "Number of columns dropped as described in the table-4 : 36\n",
            "\n",
            "Total Number of rows dropped (where THALTIME > THALDUR) : 27\n",
            "Total Number of rows dropped (where THALACH < THALREST) : 1\n",
            "\n",
            "\n",
            "Total Number of observations in our analysis [AFTER]  : 871\n",
            "Total Number of columns After Feature Selection       : 41\n"
          ],
          "name": "stdout"
        },
        {
          "output_type": "execute_result",
          "data": {
            "text/html": [
              "<div>\n",
              "<style scoped>\n",
              "    .dataframe tbody tr th:only-of-type {\n",
              "        vertical-align: middle;\n",
              "    }\n",
              "\n",
              "    .dataframe tbody tr th {\n",
              "        vertical-align: top;\n",
              "    }\n",
              "\n",
              "    .dataframe thead th {\n",
              "        text-align: right;\n",
              "    }\n",
              "</style>\n",
              "<table border=\"1\" class=\"dataframe\">\n",
              "  <thead>\n",
              "    <tr style=\"text-align: right;\">\n",
              "      <th></th>\n",
              "      <th>AGE</th>\n",
              "      <th>SEX</th>\n",
              "      <th>PAINEXER</th>\n",
              "      <th>RELREST</th>\n",
              "      <th>CP</th>\n",
              "      <th>TRESTBPS</th>\n",
              "      <th>HTN</th>\n",
              "      <th>CHOL</th>\n",
              "      <th>CIGS</th>\n",
              "      <th>YEARS</th>\n",
              "      <th>FBS</th>\n",
              "      <th>RESTECG</th>\n",
              "      <th>DIG</th>\n",
              "      <th>PROP</th>\n",
              "      <th>NITR</th>\n",
              "      <th>PRO</th>\n",
              "      <th>DIURETIC</th>\n",
              "      <th>PROTO</th>\n",
              "      <th>THALDUR</th>\n",
              "      <th>THALTIME</th>\n",
              "      <th>MET</th>\n",
              "      <th>THALACH</th>\n",
              "      <th>THALREST</th>\n",
              "      <th>TPEAKBPS</th>\n",
              "      <th>TPEAKBPD</th>\n",
              "      <th>TRESTBPD</th>\n",
              "      <th>EXANG</th>\n",
              "      <th>XHYPO</th>\n",
              "      <th>OLDPEAK</th>\n",
              "      <th>SLOPE</th>\n",
              "      <th>RLDV5E</th>\n",
              "      <th>CA</th>\n",
              "      <th>THAL</th>\n",
              "      <th>NUM</th>\n",
              "      <th>LMT</th>\n",
              "      <th>LADPROX</th>\n",
              "      <th>LADDIST</th>\n",
              "      <th>CXMAIN</th>\n",
              "      <th>OM1</th>\n",
              "      <th>RCAPROX</th>\n",
              "      <th>RCADIST</th>\n",
              "    </tr>\n",
              "  </thead>\n",
              "  <tbody>\n",
              "    <tr>\n",
              "      <th>0</th>\n",
              "      <td>63</td>\n",
              "      <td>1</td>\n",
              "      <td>1</td>\n",
              "      <td>0</td>\n",
              "      <td>1</td>\n",
              "      <td>145</td>\n",
              "      <td>1</td>\n",
              "      <td>233</td>\n",
              "      <td>50</td>\n",
              "      <td>20</td>\n",
              "      <td>1</td>\n",
              "      <td>2</td>\n",
              "      <td>0</td>\n",
              "      <td>0</td>\n",
              "      <td>0</td>\n",
              "      <td>0</td>\n",
              "      <td>0</td>\n",
              "      <td>1</td>\n",
              "      <td>10.5</td>\n",
              "      <td>6.0</td>\n",
              "      <td>13.0</td>\n",
              "      <td>150</td>\n",
              "      <td>60</td>\n",
              "      <td>190</td>\n",
              "      <td>90</td>\n",
              "      <td>85</td>\n",
              "      <td>0</td>\n",
              "      <td>0</td>\n",
              "      <td>2.3</td>\n",
              "      <td>3</td>\n",
              "      <td>172</td>\n",
              "      <td>0</td>\n",
              "      <td>6</td>\n",
              "      <td>0</td>\n",
              "      <td>1</td>\n",
              "      <td>0</td>\n",
              "      <td>0</td>\n",
              "      <td>0</td>\n",
              "      <td>0</td>\n",
              "      <td>0</td>\n",
              "      <td>1</td>\n",
              "    </tr>\n",
              "    <tr>\n",
              "      <th>1</th>\n",
              "      <td>67</td>\n",
              "      <td>1</td>\n",
              "      <td>0</td>\n",
              "      <td>1</td>\n",
              "      <td>4</td>\n",
              "      <td>160</td>\n",
              "      <td>1</td>\n",
              "      <td>286</td>\n",
              "      <td>40</td>\n",
              "      <td>40</td>\n",
              "      <td>0</td>\n",
              "      <td>2</td>\n",
              "      <td>0</td>\n",
              "      <td>1</td>\n",
              "      <td>0</td>\n",
              "      <td>0</td>\n",
              "      <td>0</td>\n",
              "      <td>1</td>\n",
              "      <td>9.5</td>\n",
              "      <td>6.0</td>\n",
              "      <td>13.0</td>\n",
              "      <td>108</td>\n",
              "      <td>64</td>\n",
              "      <td>160</td>\n",
              "      <td>90</td>\n",
              "      <td>90</td>\n",
              "      <td>1</td>\n",
              "      <td>0</td>\n",
              "      <td>1.5</td>\n",
              "      <td>2</td>\n",
              "      <td>185</td>\n",
              "      <td>3</td>\n",
              "      <td>3</td>\n",
              "      <td>1</td>\n",
              "      <td>1</td>\n",
              "      <td>1</td>\n",
              "      <td>1</td>\n",
              "      <td>1</td>\n",
              "      <td>0</td>\n",
              "      <td>0</td>\n",
              "      <td>1</td>\n",
              "    </tr>\n",
              "    <tr>\n",
              "      <th>2</th>\n",
              "      <td>67</td>\n",
              "      <td>1</td>\n",
              "      <td>1</td>\n",
              "      <td>1</td>\n",
              "      <td>4</td>\n",
              "      <td>120</td>\n",
              "      <td>1</td>\n",
              "      <td>229</td>\n",
              "      <td>20</td>\n",
              "      <td>35</td>\n",
              "      <td>0</td>\n",
              "      <td>2</td>\n",
              "      <td>0</td>\n",
              "      <td>1</td>\n",
              "      <td>0</td>\n",
              "      <td>0</td>\n",
              "      <td>0</td>\n",
              "      <td>1</td>\n",
              "      <td>8.5</td>\n",
              "      <td>6.0</td>\n",
              "      <td>10.0</td>\n",
              "      <td>129</td>\n",
              "      <td>78</td>\n",
              "      <td>140</td>\n",
              "      <td>80</td>\n",
              "      <td>80</td>\n",
              "      <td>1</td>\n",
              "      <td>0</td>\n",
              "      <td>2.6</td>\n",
              "      <td>2</td>\n",
              "      <td>150</td>\n",
              "      <td>2</td>\n",
              "      <td>7</td>\n",
              "      <td>1</td>\n",
              "      <td>1</td>\n",
              "      <td>0</td>\n",
              "      <td>0</td>\n",
              "      <td>0</td>\n",
              "      <td>0</td>\n",
              "      <td>1</td>\n",
              "      <td>2</td>\n",
              "    </tr>\n",
              "    <tr>\n",
              "      <th>3</th>\n",
              "      <td>37</td>\n",
              "      <td>1</td>\n",
              "      <td>1</td>\n",
              "      <td>1</td>\n",
              "      <td>3</td>\n",
              "      <td>130</td>\n",
              "      <td>0</td>\n",
              "      <td>250</td>\n",
              "      <td>5</td>\n",
              "      <td>5</td>\n",
              "      <td>0</td>\n",
              "      <td>0</td>\n",
              "      <td>0</td>\n",
              "      <td>1</td>\n",
              "      <td>0</td>\n",
              "      <td>0</td>\n",
              "      <td>0</td>\n",
              "      <td>1</td>\n",
              "      <td>13.0</td>\n",
              "      <td>13.0</td>\n",
              "      <td>17.0</td>\n",
              "      <td>187</td>\n",
              "      <td>84</td>\n",
              "      <td>195</td>\n",
              "      <td>68</td>\n",
              "      <td>78</td>\n",
              "      <td>0</td>\n",
              "      <td>0</td>\n",
              "      <td>3.5</td>\n",
              "      <td>3</td>\n",
              "      <td>167</td>\n",
              "      <td>0</td>\n",
              "      <td>3</td>\n",
              "      <td>0</td>\n",
              "      <td>1</td>\n",
              "      <td>0</td>\n",
              "      <td>0</td>\n",
              "      <td>0</td>\n",
              "      <td>0</td>\n",
              "      <td>0</td>\n",
              "      <td>1</td>\n",
              "    </tr>\n",
              "    <tr>\n",
              "      <th>4</th>\n",
              "      <td>41</td>\n",
              "      <td>0</td>\n",
              "      <td>1</td>\n",
              "      <td>1</td>\n",
              "      <td>2</td>\n",
              "      <td>130</td>\n",
              "      <td>1</td>\n",
              "      <td>204</td>\n",
              "      <td>5</td>\n",
              "      <td>5</td>\n",
              "      <td>0</td>\n",
              "      <td>2</td>\n",
              "      <td>0</td>\n",
              "      <td>0</td>\n",
              "      <td>0</td>\n",
              "      <td>0</td>\n",
              "      <td>0</td>\n",
              "      <td>1</td>\n",
              "      <td>7.0</td>\n",
              "      <td>0.5</td>\n",
              "      <td>9.0</td>\n",
              "      <td>172</td>\n",
              "      <td>71</td>\n",
              "      <td>160</td>\n",
              "      <td>74</td>\n",
              "      <td>86</td>\n",
              "      <td>0</td>\n",
              "      <td>0</td>\n",
              "      <td>1.4</td>\n",
              "      <td>1</td>\n",
              "      <td>40</td>\n",
              "      <td>0</td>\n",
              "      <td>3</td>\n",
              "      <td>0</td>\n",
              "      <td>1</td>\n",
              "      <td>0</td>\n",
              "      <td>0</td>\n",
              "      <td>0</td>\n",
              "      <td>0</td>\n",
              "      <td>0</td>\n",
              "      <td>1</td>\n",
              "    </tr>\n",
              "  </tbody>\n",
              "</table>\n",
              "</div>"
            ],
            "text/plain": [
              "   AGE  SEX  PAINEXER  RELREST  CP  ...  LADDIST  CXMAIN  OM1  RCAPROX  RCADIST\n",
              "0   63    1         1        0   1  ...        0       0    0        0        1\n",
              "1   67    1         0        1   4  ...        1       1    0        0        1\n",
              "2   67    1         1        1   4  ...        0       0    0        1        2\n",
              "3   37    1         1        1   3  ...        0       0    0        0        1\n",
              "4   41    0         1        1   2  ...        0       0    0        0        1\n",
              "\n",
              "[5 rows x 41 columns]"
            ]
          },
          "metadata": {
            "tags": []
          },
          "execution_count": 10
        }
      ]
    },
    {
      "cell_type": "code",
      "metadata": {
        "id": "zadMsPY4qI-j"
      },
      "source": [
        ""
      ],
      "execution_count": null,
      "outputs": []
    },
    {
      "cell_type": "markdown",
      "metadata": {
        "id": "i0ilLo95qfUe"
      },
      "source": [
        "# CHI SQUARED ANALYSIS¶"
      ]
    },
    {
      "cell_type": "code",
      "metadata": {
        "id": "lAHOuJUYU2xM",
        "colab": {
          "base_uri": "https://localhost:8080/"
        },
        "outputId": "fec4fcf1-a64e-42fc-ec09-35c244961ee1"
      },
      "source": [
        "from sklearn.feature_selection import SelectKBest,chi2\n",
        "from scipy import stats\n",
        "\n",
        "#Preparing the data for ChiSquared statistical analysis \n",
        "\n",
        "chi_X = ch_copy_pre.drop('NUM',axis=1)\n",
        "chi_y = ch_copy_pre['NUM']\n",
        "\n",
        "# Convert to categorical data by converting data to integers\n",
        "# X = X.astype(int)\n",
        "\n",
        "# Select 13 features with highest chi-squared statistics\n",
        "chi2_selector = SelectKBest(chi2, k=22)\n",
        "chi2_selector.fit_transform(chi_X,chi_y)\n",
        "\n",
        "\n",
        "# Look at scores returned from the selector for each feature\n",
        "chi2_scores = pd.DataFrame(list(zip(ch_copy_pre.columns, chi2_selector.scores_, chi2_selector.pvalues_)), columns=['Feature', 'ChiScore', 'P-value'])\n",
        "chi2_scores\n",
        "\n",
        "# you can see that the kbest returned from SelectKBest \n",
        "#+ were the features with the _highest_ score\n",
        "kbest = np.asarray(chi_X.columns)[chi2_selector.get_support()]\n",
        "kbest"
      ],
      "execution_count": null,
      "outputs": [
        {
          "output_type": "execute_result",
          "data": {
            "text/plain": [
              "array(['AGE', 'PAINEXER', 'CP', 'TRESTBPS', 'CIGS', 'YEARS', 'THALDUR',\n",
              "       'THALTIME', 'MET', 'THALACH', 'THALREST', 'TPEAKBPS', 'EXANG',\n",
              "       'OLDPEAK', 'RLDV5E', 'CA', 'THAL', 'LADPROX', 'LADDIST', 'CXMAIN',\n",
              "       'OM1', 'RCAPROX'], dtype=object)"
            ]
          },
          "metadata": {
            "tags": []
          },
          "execution_count": 11
        }
      ]
    },
    {
      "cell_type": "code",
      "metadata": {
        "colab": {
          "base_uri": "https://localhost:8080/",
          "height": 1000
        },
        "id": "vubSBXiVqmtm",
        "outputId": "582fab01-dede-4390-f572-ff1da3653bec"
      },
      "source": [
        "print('P-VALUES')\n",
        "print(chi2_scores)\n",
        "print('')\n",
        "print('PLOTTING P-VALUES')\n",
        "chi2_scores['P-value'][0:22].sort_values(ascending = False).plot.bar()"
      ],
      "execution_count": null,
      "outputs": [
        {
          "output_type": "stream",
          "text": [
            "P-VALUES\n",
            "     Feature     ChiScore        P-value\n",
            "0        AGE   118.126957   1.626376e-27\n",
            "1        SEX    19.080684   1.253067e-05\n",
            "2   PAINEXER    40.578165   1.889059e-10\n",
            "3    RELREST    28.882981   7.688551e-08\n",
            "4         CP    50.998725   9.242597e-13\n",
            "5   TRESTBPS    35.827969   2.155314e-09\n",
            "6        HTN     1.908277   1.671547e-01\n",
            "7       CHOL     0.225823   6.346383e-01\n",
            "8       CIGS   110.743419   6.734671e-26\n",
            "9      YEARS   123.216924   1.250069e-28\n",
            "10       FBS    13.391538   2.527621e-04\n",
            "11   RESTECG     3.505677   6.115885e-02\n",
            "12       DIG     0.420592   5.166416e-01\n",
            "13      PROP    23.204253   1.456748e-06\n",
            "14      NITR    27.537866   1.540488e-07\n",
            "15       PRO    19.509916   1.000788e-05\n",
            "16  DIURETIC     4.359912   3.679421e-02\n",
            "17     PROTO     2.600797   1.068100e-01\n",
            "18   THALDUR   141.671908   1.147152e-32\n",
            "19  THALTIME   155.553687   1.059736e-35\n",
            "20       MET  2629.355261   0.000000e+00\n",
            "21   THALACH   607.066071  4.862810e-134\n",
            "22  THALREST   105.559056   9.211143e-25\n",
            "23  TPEAKBPS    38.764298   4.781946e-10\n",
            "24  TPEAKBPD     1.115790   2.908267e-01\n",
            "25  TRESTBPD     0.014597   9.038336e-01\n",
            "26     EXANG   109.580548   1.210830e-25\n",
            "27     XHYPO    11.948519   5.469083e-04\n",
            "28   OLDPEAK   162.597274   3.063394e-37\n",
            "29     SLOPE    11.210341   8.134279e-04\n",
            "30    RLDV5E   119.228752   9.332239e-28\n",
            "31        CA    29.846992   4.675217e-08\n",
            "32      THAL    31.911571   1.613531e-08\n",
            "33       NUM    19.830909   8.460346e-06\n",
            "34       LMT    69.690199   6.939003e-17\n",
            "35   LADPROX    72.579825   1.604105e-17\n",
            "36   LADDIST    66.339766   3.795242e-16\n",
            "37    CXMAIN    44.449669   2.609811e-11\n",
            "38       OM1    92.333057   7.325045e-22\n",
            "39   RCAPROX     4.398460   3.597140e-02\n",
            "\n",
            "PLOTTING P-VALUES\n"
          ],
          "name": "stdout"
        },
        {
          "output_type": "execute_result",
          "data": {
            "text/plain": [
              "<matplotlib.axes._subplots.AxesSubplot at 0x7f36b3a74490>"
            ]
          },
          "metadata": {
            "tags": []
          },
          "execution_count": 12
        },
        {
          "output_type": "display_data",
          "data": {
            "image/png": "[encoded data removed]",
            "text/plain": [
              "<Figure size 432x288 with 1 Axes>"
            ]
          },
          "metadata": {
            "tags": [],
            "needs_background": "light"
          }
        }
      ]
    },
    {
      "cell_type": "markdown",
      "metadata": {
        "id": "GQ0YNOcZq3cD"
      },
      "source": [
        "## FEATURE SELECTION AFTER CHI-SQUARED ANALYSIS"
      ]
    },
    {
      "cell_type": "code",
      "metadata": {
        "colab": {
          "base_uri": "https://localhost:8080/",
          "height": 748
        },
        "id": "PARUTeuOqmzm",
        "outputId": "ab288355-b921-49ab-de22-fb0b353b909a"
      },
      "source": [
        "## working with features that are identified by ChiSquare + Few Additional features\n",
        "\n",
        "# 22 features \n",
        "subset_ch_copy_pre = ch_copy_pre[['CHOL','CP','CIGS','YEARS','PAINEXER','RELREST','RESTECG','PROTO','OLDPEAK','CXMAIN','CA',\\\n",
        "                                  'THALDUR','THAL','THALTIME','LADDIST','RCAPROX','LADPROX',\n",
        "                                  'EXANG','THALACH','SLOPE', 'RLDV5E','OM1','NUM']]\n",
        "\n",
        "subset_ch_copy_pre.to_csv('subset_ch_copy.csv',index=False)\n",
        "subset_ch_copy_pre.corr()"
      ],
      "execution_count": null,
      "outputs": [
        {
          "output_type": "execute_result",
          "data": {
            "text/html": [
              "<div>\n",
              "<style scoped>\n",
              "    .dataframe tbody tr th:only-of-type {\n",
              "        vertical-align: middle;\n",
              "    }\n",
              "\n",
              "    .dataframe tbody tr th {\n",
              "        vertical-align: top;\n",
              "    }\n",
              "\n",
              "    .dataframe thead th {\n",
              "        text-align: right;\n",
              "    }\n",
              "</style>\n",
              "<table border=\"1\" class=\"dataframe\">\n",
              "  <thead>\n",
              "    <tr style=\"text-align: right;\">\n",
              "      <th></th>\n",
              "      <th>CHOL</th>\n",
              "      <th>CP</th>\n",
              "      <th>CIGS</th>\n",
              "      <th>YEARS</th>\n",
              "      <th>PAINEXER</th>\n",
              "      <th>RELREST</th>\n",
              "      <th>RESTECG</th>\n",
              "      <th>PROTO</th>\n",
              "      <th>OLDPEAK</th>\n",
              "      <th>CXMAIN</th>\n",
              "      <th>CA</th>\n",
              "      <th>THALDUR</th>\n",
              "      <th>THAL</th>\n",
              "      <th>THALTIME</th>\n",
              "      <th>LADDIST</th>\n",
              "      <th>RCAPROX</th>\n",
              "      <th>LADPROX</th>\n",
              "      <th>EXANG</th>\n",
              "      <th>THALACH</th>\n",
              "      <th>SLOPE</th>\n",
              "      <th>RLDV5E</th>\n",
              "      <th>OM1</th>\n",
              "      <th>NUM</th>\n",
              "    </tr>\n",
              "  </thead>\n",
              "  <tbody>\n",
              "    <tr>\n",
              "      <th>CHOL</th>\n",
              "      <td>1.000000</td>\n",
              "      <td>0.022291</td>\n",
              "      <td>-0.044566</td>\n",
              "      <td>0.011270</td>\n",
              "      <td>0.067458</td>\n",
              "      <td>0.000670</td>\n",
              "      <td>0.097594</td>\n",
              "      <td>-0.078394</td>\n",
              "      <td>0.039517</td>\n",
              "      <td>0.063144</td>\n",
              "      <td>0.016814</td>\n",
              "      <td>0.031244</td>\n",
              "      <td>-0.046667</td>\n",
              "      <td>0.090416</td>\n",
              "      <td>0.007699</td>\n",
              "      <td>0.087035</td>\n",
              "      <td>0.020652</td>\n",
              "      <td>0.044523</td>\n",
              "      <td>0.069304</td>\n",
              "      <td>-0.001307</td>\n",
              "      <td>0.085047</td>\n",
              "      <td>0.032418</td>\n",
              "      <td>-0.004402</td>\n",
              "    </tr>\n",
              "    <tr>\n",
              "      <th>CP</th>\n",
              "      <td>0.022291</td>\n",
              "      <td>1.000000</td>\n",
              "      <td>0.094421</td>\n",
              "      <td>0.090681</td>\n",
              "      <td>0.580855</td>\n",
              "      <td>0.572466</td>\n",
              "      <td>0.038058</td>\n",
              "      <td>-0.006451</td>\n",
              "      <td>0.239752</td>\n",
              "      <td>0.134053</td>\n",
              "      <td>0.061932</td>\n",
              "      <td>-0.224659</td>\n",
              "      <td>0.129650</td>\n",
              "      <td>0.109806</td>\n",
              "      <td>0.143511</td>\n",
              "      <td>0.151667</td>\n",
              "      <td>0.170939</td>\n",
              "      <td>0.405970</td>\n",
              "      <td>-0.336900</td>\n",
              "      <td>0.152997</td>\n",
              "      <td>-0.034267</td>\n",
              "      <td>0.100120</td>\n",
              "      <td>0.470125</td>\n",
              "    </tr>\n",
              "    <tr>\n",
              "      <th>CIGS</th>\n",
              "      <td>-0.044566</td>\n",
              "      <td>0.094421</td>\n",
              "      <td>1.000000</td>\n",
              "      <td>0.609395</td>\n",
              "      <td>0.009846</td>\n",
              "      <td>0.059092</td>\n",
              "      <td>0.130624</td>\n",
              "      <td>-0.359429</td>\n",
              "      <td>0.057876</td>\n",
              "      <td>-0.020043</td>\n",
              "      <td>0.024752</td>\n",
              "      <td>-0.196680</td>\n",
              "      <td>0.024304</td>\n",
              "      <td>-0.056318</td>\n",
              "      <td>-0.076778</td>\n",
              "      <td>-0.014060</td>\n",
              "      <td>-0.078433</td>\n",
              "      <td>0.055689</td>\n",
              "      <td>0.020806</td>\n",
              "      <td>-0.018538</td>\n",
              "      <td>0.216741</td>\n",
              "      <td>0.002939</td>\n",
              "      <td>0.093193</td>\n",
              "    </tr>\n",
              "    <tr>\n",
              "      <th>YEARS</th>\n",
              "      <td>0.011270</td>\n",
              "      <td>0.090681</td>\n",
              "      <td>0.609395</td>\n",
              "      <td>1.000000</td>\n",
              "      <td>0.045406</td>\n",
              "      <td>0.120607</td>\n",
              "      <td>0.141435</td>\n",
              "      <td>-0.423939</td>\n",
              "      <td>0.097226</td>\n",
              "      <td>-0.018745</td>\n",
              "      <td>0.057219</td>\n",
              "      <td>-0.276929</td>\n",
              "      <td>0.011025</td>\n",
              "      <td>-0.039617</td>\n",
              "      <td>-0.073770</td>\n",
              "      <td>-0.026800</td>\n",
              "      <td>-0.061323</td>\n",
              "      <td>0.073147</td>\n",
              "      <td>-0.034926</td>\n",
              "      <td>-0.054669</td>\n",
              "      <td>0.186690</td>\n",
              "      <td>0.035096</td>\n",
              "      <td>0.108796</td>\n",
              "    </tr>\n",
              "    <tr>\n",
              "      <th>PAINEXER</th>\n",
              "      <td>0.067458</td>\n",
              "      <td>0.580855</td>\n",
              "      <td>0.009846</td>\n",
              "      <td>0.045406</td>\n",
              "      <td>1.000000</td>\n",
              "      <td>0.458693</td>\n",
              "      <td>0.042401</td>\n",
              "      <td>-0.034392</td>\n",
              "      <td>0.208907</td>\n",
              "      <td>0.063643</td>\n",
              "      <td>-0.018549</td>\n",
              "      <td>-0.159999</td>\n",
              "      <td>0.021025</td>\n",
              "      <td>0.100752</td>\n",
              "      <td>0.067310</td>\n",
              "      <td>0.106867</td>\n",
              "      <td>0.080818</td>\n",
              "      <td>0.297979</td>\n",
              "      <td>-0.203628</td>\n",
              "      <td>0.080944</td>\n",
              "      <td>0.054804</td>\n",
              "      <td>0.000799</td>\n",
              "      <td>0.341473</td>\n",
              "    </tr>\n",
              "    <tr>\n",
              "      <th>RELREST</th>\n",
              "      <td>0.000670</td>\n",
              "      <td>0.572466</td>\n",
              "      <td>0.059092</td>\n",
              "      <td>0.120607</td>\n",
              "      <td>0.458693</td>\n",
              "      <td>1.000000</td>\n",
              "      <td>-0.000346</td>\n",
              "      <td>-0.066447</td>\n",
              "      <td>0.181148</td>\n",
              "      <td>0.095678</td>\n",
              "      <td>0.058801</td>\n",
              "      <td>-0.164842</td>\n",
              "      <td>0.005739</td>\n",
              "      <td>0.035177</td>\n",
              "      <td>0.063591</td>\n",
              "      <td>0.080182</td>\n",
              "      <td>0.077277</td>\n",
              "      <td>0.254904</td>\n",
              "      <td>-0.203994</td>\n",
              "      <td>0.089842</td>\n",
              "      <td>0.036175</td>\n",
              "      <td>0.042392</td>\n",
              "      <td>0.313435</td>\n",
              "    </tr>\n",
              "    <tr>\n",
              "      <th>RESTECG</th>\n",
              "      <td>0.097594</td>\n",
              "      <td>0.038058</td>\n",
              "      <td>0.130624</td>\n",
              "      <td>0.141435</td>\n",
              "      <td>0.042401</td>\n",
              "      <td>-0.000346</td>\n",
              "      <td>1.000000</td>\n",
              "      <td>-0.361761</td>\n",
              "      <td>0.113632</td>\n",
              "      <td>-0.055045</td>\n",
              "      <td>0.044882</td>\n",
              "      <td>-0.176223</td>\n",
              "      <td>-0.033157</td>\n",
              "      <td>-0.025084</td>\n",
              "      <td>-0.048833</td>\n",
              "      <td>-0.011695</td>\n",
              "      <td>-0.058771</td>\n",
              "      <td>0.027293</td>\n",
              "      <td>0.045722</td>\n",
              "      <td>0.000510</td>\n",
              "      <td>0.289827</td>\n",
              "      <td>0.031593</td>\n",
              "      <td>0.061318</td>\n",
              "    </tr>\n",
              "    <tr>\n",
              "      <th>PROTO</th>\n",
              "      <td>-0.078394</td>\n",
              "      <td>-0.006451</td>\n",
              "      <td>-0.359429</td>\n",
              "      <td>-0.423939</td>\n",
              "      <td>-0.034392</td>\n",
              "      <td>-0.066447</td>\n",
              "      <td>-0.361761</td>\n",
              "      <td>1.000000</td>\n",
              "      <td>-0.159631</td>\n",
              "      <td>0.191546</td>\n",
              "      <td>0.015980</td>\n",
              "      <td>0.138785</td>\n",
              "      <td>0.151444</td>\n",
              "      <td>-0.066988</td>\n",
              "      <td>0.118770</td>\n",
              "      <td>0.238258</td>\n",
              "      <td>0.256215</td>\n",
              "      <td>0.071864</td>\n",
              "      <td>-0.251893</td>\n",
              "      <td>0.128799</td>\n",
              "      <td>-0.576153</td>\n",
              "      <td>0.027110</td>\n",
              "      <td>0.029014</td>\n",
              "    </tr>\n",
              "    <tr>\n",
              "      <th>OLDPEAK</th>\n",
              "      <td>0.039517</td>\n",
              "      <td>0.239752</td>\n",
              "      <td>0.057876</td>\n",
              "      <td>0.097226</td>\n",
              "      <td>0.208907</td>\n",
              "      <td>0.181148</td>\n",
              "      <td>0.113632</td>\n",
              "      <td>-0.159631</td>\n",
              "      <td>1.000000</td>\n",
              "      <td>0.125817</td>\n",
              "      <td>0.122270</td>\n",
              "      <td>-0.271590</td>\n",
              "      <td>0.096142</td>\n",
              "      <td>0.464494</td>\n",
              "      <td>0.186487</td>\n",
              "      <td>0.164688</td>\n",
              "      <td>0.109148</td>\n",
              "      <td>0.395557</td>\n",
              "      <td>-0.171177</td>\n",
              "      <td>0.329669</td>\n",
              "      <td>0.167670</td>\n",
              "      <td>0.130060</td>\n",
              "      <td>0.399659</td>\n",
              "    </tr>\n",
              "    <tr>\n",
              "      <th>CXMAIN</th>\n",
              "      <td>0.063144</td>\n",
              "      <td>0.134053</td>\n",
              "      <td>-0.020043</td>\n",
              "      <td>-0.018745</td>\n",
              "      <td>0.063643</td>\n",
              "      <td>0.095678</td>\n",
              "      <td>-0.055045</td>\n",
              "      <td>0.191546</td>\n",
              "      <td>0.125817</td>\n",
              "      <td>1.000000</td>\n",
              "      <td>0.050269</td>\n",
              "      <td>-0.038330</td>\n",
              "      <td>0.140792</td>\n",
              "      <td>0.015939</td>\n",
              "      <td>0.140201</td>\n",
              "      <td>0.251494</td>\n",
              "      <td>0.121851</td>\n",
              "      <td>0.182085</td>\n",
              "      <td>-0.182074</td>\n",
              "      <td>0.150816</td>\n",
              "      <td>-0.180674</td>\n",
              "      <td>0.148531</td>\n",
              "      <td>0.330592</td>\n",
              "    </tr>\n",
              "    <tr>\n",
              "      <th>CA</th>\n",
              "      <td>0.016814</td>\n",
              "      <td>0.061932</td>\n",
              "      <td>0.024752</td>\n",
              "      <td>0.057219</td>\n",
              "      <td>-0.018549</td>\n",
              "      <td>0.058801</td>\n",
              "      <td>0.044882</td>\n",
              "      <td>0.015980</td>\n",
              "      <td>0.122270</td>\n",
              "      <td>0.050269</td>\n",
              "      <td>1.000000</td>\n",
              "      <td>-0.096161</td>\n",
              "      <td>0.081537</td>\n",
              "      <td>0.061978</td>\n",
              "      <td>0.130297</td>\n",
              "      <td>0.112476</td>\n",
              "      <td>0.055408</td>\n",
              "      <td>0.051285</td>\n",
              "      <td>-0.096393</td>\n",
              "      <td>0.054719</td>\n",
              "      <td>0.001456</td>\n",
              "      <td>0.049081</td>\n",
              "      <td>0.163512</td>\n",
              "    </tr>\n",
              "    <tr>\n",
              "      <th>THALDUR</th>\n",
              "      <td>0.031244</td>\n",
              "      <td>-0.224659</td>\n",
              "      <td>-0.196680</td>\n",
              "      <td>-0.276929</td>\n",
              "      <td>-0.159999</td>\n",
              "      <td>-0.164842</td>\n",
              "      <td>-0.176223</td>\n",
              "      <td>0.138785</td>\n",
              "      <td>-0.271590</td>\n",
              "      <td>-0.038330</td>\n",
              "      <td>-0.096161</td>\n",
              "      <td>1.000000</td>\n",
              "      <td>-0.049403</td>\n",
              "      <td>0.133944</td>\n",
              "      <td>-0.000163</td>\n",
              "      <td>-0.081171</td>\n",
              "      <td>-0.103304</td>\n",
              "      <td>-0.276171</td>\n",
              "      <td>0.434980</td>\n",
              "      <td>-0.150493</td>\n",
              "      <td>-0.057527</td>\n",
              "      <td>-0.012971</td>\n",
              "      <td>-0.280371</td>\n",
              "    </tr>\n",
              "    <tr>\n",
              "      <th>THAL</th>\n",
              "      <td>-0.046667</td>\n",
              "      <td>0.129650</td>\n",
              "      <td>0.024304</td>\n",
              "      <td>0.011025</td>\n",
              "      <td>0.021025</td>\n",
              "      <td>0.005739</td>\n",
              "      <td>-0.033157</td>\n",
              "      <td>0.151444</td>\n",
              "      <td>0.096142</td>\n",
              "      <td>0.140792</td>\n",
              "      <td>0.081537</td>\n",
              "      <td>-0.049403</td>\n",
              "      <td>1.000000</td>\n",
              "      <td>0.060122</td>\n",
              "      <td>0.134884</td>\n",
              "      <td>0.132921</td>\n",
              "      <td>0.143996</td>\n",
              "      <td>0.158903</td>\n",
              "      <td>-0.159728</td>\n",
              "      <td>0.132033</td>\n",
              "      <td>-0.122989</td>\n",
              "      <td>0.081131</td>\n",
              "      <td>0.227082</td>\n",
              "    </tr>\n",
              "    <tr>\n",
              "      <th>THALTIME</th>\n",
              "      <td>0.090416</td>\n",
              "      <td>0.109806</td>\n",
              "      <td>-0.056318</td>\n",
              "      <td>-0.039617</td>\n",
              "      <td>0.100752</td>\n",
              "      <td>0.035177</td>\n",
              "      <td>-0.025084</td>\n",
              "      <td>-0.066988</td>\n",
              "      <td>0.464494</td>\n",
              "      <td>0.015939</td>\n",
              "      <td>0.061978</td>\n",
              "      <td>0.133944</td>\n",
              "      <td>0.060122</td>\n",
              "      <td>1.000000</td>\n",
              "      <td>0.202686</td>\n",
              "      <td>0.015492</td>\n",
              "      <td>0.033411</td>\n",
              "      <td>0.220355</td>\n",
              "      <td>0.008390</td>\n",
              "      <td>0.105705</td>\n",
              "      <td>0.121906</td>\n",
              "      <td>0.013209</td>\n",
              "      <td>0.185522</td>\n",
              "    </tr>\n",
              "    <tr>\n",
              "      <th>LADDIST</th>\n",
              "      <td>0.007699</td>\n",
              "      <td>0.143511</td>\n",
              "      <td>-0.076778</td>\n",
              "      <td>-0.073770</td>\n",
              "      <td>0.067310</td>\n",
              "      <td>0.063591</td>\n",
              "      <td>-0.048833</td>\n",
              "      <td>0.118770</td>\n",
              "      <td>0.186487</td>\n",
              "      <td>0.140201</td>\n",
              "      <td>0.130297</td>\n",
              "      <td>-0.000163</td>\n",
              "      <td>0.134884</td>\n",
              "      <td>0.202686</td>\n",
              "      <td>1.000000</td>\n",
              "      <td>0.130836</td>\n",
              "      <td>0.032504</td>\n",
              "      <td>0.125838</td>\n",
              "      <td>-0.134478</td>\n",
              "      <td>0.073596</td>\n",
              "      <td>-0.032029</td>\n",
              "      <td>0.112220</td>\n",
              "      <td>0.331616</td>\n",
              "    </tr>\n",
              "    <tr>\n",
              "      <th>RCAPROX</th>\n",
              "      <td>0.087035</td>\n",
              "      <td>0.151667</td>\n",
              "      <td>-0.014060</td>\n",
              "      <td>-0.026800</td>\n",
              "      <td>0.106867</td>\n",
              "      <td>0.080182</td>\n",
              "      <td>-0.011695</td>\n",
              "      <td>0.238258</td>\n",
              "      <td>0.164688</td>\n",
              "      <td>0.251494</td>\n",
              "      <td>0.112476</td>\n",
              "      <td>-0.081171</td>\n",
              "      <td>0.132921</td>\n",
              "      <td>0.015492</td>\n",
              "      <td>0.130836</td>\n",
              "      <td>1.000000</td>\n",
              "      <td>0.181813</td>\n",
              "      <td>0.204717</td>\n",
              "      <td>-0.206908</td>\n",
              "      <td>0.158273</td>\n",
              "      <td>-0.193748</td>\n",
              "      <td>0.155285</td>\n",
              "      <td>0.398306</td>\n",
              "    </tr>\n",
              "    <tr>\n",
              "      <th>LADPROX</th>\n",
              "      <td>0.020652</td>\n",
              "      <td>0.170939</td>\n",
              "      <td>-0.078433</td>\n",
              "      <td>-0.061323</td>\n",
              "      <td>0.080818</td>\n",
              "      <td>0.077277</td>\n",
              "      <td>-0.058771</td>\n",
              "      <td>0.256215</td>\n",
              "      <td>0.109148</td>\n",
              "      <td>0.121851</td>\n",
              "      <td>0.055408</td>\n",
              "      <td>-0.103304</td>\n",
              "      <td>0.143996</td>\n",
              "      <td>0.033411</td>\n",
              "      <td>0.032504</td>\n",
              "      <td>0.181813</td>\n",
              "      <td>1.000000</td>\n",
              "      <td>0.202889</td>\n",
              "      <td>-0.234012</td>\n",
              "      <td>0.101748</td>\n",
              "      <td>-0.207448</td>\n",
              "      <td>0.104635</td>\n",
              "      <td>0.342814</td>\n",
              "    </tr>\n",
              "    <tr>\n",
              "      <th>EXANG</th>\n",
              "      <td>0.044523</td>\n",
              "      <td>0.405970</td>\n",
              "      <td>0.055689</td>\n",
              "      <td>0.073147</td>\n",
              "      <td>0.297979</td>\n",
              "      <td>0.254904</td>\n",
              "      <td>0.027293</td>\n",
              "      <td>0.071864</td>\n",
              "      <td>0.395557</td>\n",
              "      <td>0.182085</td>\n",
              "      <td>0.051285</td>\n",
              "      <td>-0.276171</td>\n",
              "      <td>0.158903</td>\n",
              "      <td>0.220355</td>\n",
              "      <td>0.125838</td>\n",
              "      <td>0.204717</td>\n",
              "      <td>0.202889</td>\n",
              "      <td>1.000000</td>\n",
              "      <td>-0.346677</td>\n",
              "      <td>0.213150</td>\n",
              "      <td>-0.037853</td>\n",
              "      <td>0.112583</td>\n",
              "      <td>0.452152</td>\n",
              "    </tr>\n",
              "    <tr>\n",
              "      <th>THALACH</th>\n",
              "      <td>0.069304</td>\n",
              "      <td>-0.336900</td>\n",
              "      <td>0.020806</td>\n",
              "      <td>-0.034926</td>\n",
              "      <td>-0.203628</td>\n",
              "      <td>-0.203994</td>\n",
              "      <td>0.045722</td>\n",
              "      <td>-0.251893</td>\n",
              "      <td>-0.171177</td>\n",
              "      <td>-0.182074</td>\n",
              "      <td>-0.096393</td>\n",
              "      <td>0.434980</td>\n",
              "      <td>-0.159728</td>\n",
              "      <td>0.008390</td>\n",
              "      <td>-0.134478</td>\n",
              "      <td>-0.206908</td>\n",
              "      <td>-0.234012</td>\n",
              "      <td>-0.346677</td>\n",
              "      <td>1.000000</td>\n",
              "      <td>-0.233321</td>\n",
              "      <td>0.216884</td>\n",
              "      <td>-0.096617</td>\n",
              "      <td>-0.387567</td>\n",
              "    </tr>\n",
              "    <tr>\n",
              "      <th>SLOPE</th>\n",
              "      <td>-0.001307</td>\n",
              "      <td>0.152997</td>\n",
              "      <td>-0.018538</td>\n",
              "      <td>-0.054669</td>\n",
              "      <td>0.080944</td>\n",
              "      <td>0.089842</td>\n",
              "      <td>0.000510</td>\n",
              "      <td>0.128799</td>\n",
              "      <td>0.329669</td>\n",
              "      <td>0.150816</td>\n",
              "      <td>0.054719</td>\n",
              "      <td>-0.150493</td>\n",
              "      <td>0.132033</td>\n",
              "      <td>0.105705</td>\n",
              "      <td>0.073596</td>\n",
              "      <td>0.158273</td>\n",
              "      <td>0.101748</td>\n",
              "      <td>0.213150</td>\n",
              "      <td>-0.233321</td>\n",
              "      <td>1.000000</td>\n",
              "      <td>-0.140683</td>\n",
              "      <td>0.119800</td>\n",
              "      <td>0.244651</td>\n",
              "    </tr>\n",
              "    <tr>\n",
              "      <th>RLDV5E</th>\n",
              "      <td>0.085047</td>\n",
              "      <td>-0.034267</td>\n",
              "      <td>0.216741</td>\n",
              "      <td>0.186690</td>\n",
              "      <td>0.054804</td>\n",
              "      <td>0.036175</td>\n",
              "      <td>0.289827</td>\n",
              "      <td>-0.576153</td>\n",
              "      <td>0.167670</td>\n",
              "      <td>-0.180674</td>\n",
              "      <td>0.001456</td>\n",
              "      <td>-0.057527</td>\n",
              "      <td>-0.122989</td>\n",
              "      <td>0.121906</td>\n",
              "      <td>-0.032029</td>\n",
              "      <td>-0.193748</td>\n",
              "      <td>-0.207448</td>\n",
              "      <td>-0.037853</td>\n",
              "      <td>0.216884</td>\n",
              "      <td>-0.140683</td>\n",
              "      <td>1.000000</td>\n",
              "      <td>-0.016666</td>\n",
              "      <td>-0.048718</td>\n",
              "    </tr>\n",
              "    <tr>\n",
              "      <th>OM1</th>\n",
              "      <td>0.032418</td>\n",
              "      <td>0.100120</td>\n",
              "      <td>0.002939</td>\n",
              "      <td>0.035096</td>\n",
              "      <td>0.000799</td>\n",
              "      <td>0.042392</td>\n",
              "      <td>0.031593</td>\n",
              "      <td>0.027110</td>\n",
              "      <td>0.130060</td>\n",
              "      <td>0.148531</td>\n",
              "      <td>0.049081</td>\n",
              "      <td>-0.012971</td>\n",
              "      <td>0.081131</td>\n",
              "      <td>0.013209</td>\n",
              "      <td>0.112220</td>\n",
              "      <td>0.155285</td>\n",
              "      <td>0.104635</td>\n",
              "      <td>0.112583</td>\n",
              "      <td>-0.096617</td>\n",
              "      <td>0.119800</td>\n",
              "      <td>-0.016666</td>\n",
              "      <td>1.000000</td>\n",
              "      <td>0.248812</td>\n",
              "    </tr>\n",
              "    <tr>\n",
              "      <th>NUM</th>\n",
              "      <td>-0.004402</td>\n",
              "      <td>0.470125</td>\n",
              "      <td>0.093193</td>\n",
              "      <td>0.108796</td>\n",
              "      <td>0.341473</td>\n",
              "      <td>0.313435</td>\n",
              "      <td>0.061318</td>\n",
              "      <td>0.029014</td>\n",
              "      <td>0.399659</td>\n",
              "      <td>0.330592</td>\n",
              "      <td>0.163512</td>\n",
              "      <td>-0.280371</td>\n",
              "      <td>0.227082</td>\n",
              "      <td>0.185522</td>\n",
              "      <td>0.331616</td>\n",
              "      <td>0.398306</td>\n",
              "      <td>0.342814</td>\n",
              "      <td>0.452152</td>\n",
              "      <td>-0.387567</td>\n",
              "      <td>0.244651</td>\n",
              "      <td>-0.048718</td>\n",
              "      <td>0.248812</td>\n",
              "      <td>1.000000</td>\n",
              "    </tr>\n",
              "  </tbody>\n",
              "</table>\n",
              "</div>"
            ],
            "text/plain": [
              "              CHOL        CP      CIGS  ...    RLDV5E       OM1       NUM\n",
              "CHOL      1.000000  0.022291 -0.044566  ...  0.085047  0.032418 -0.004402\n",
              "CP        0.022291  1.000000  0.094421  ... -0.034267  0.100120  0.470125\n",
              "CIGS     -0.044566  0.094421  1.000000  ...  0.216741  0.002939  0.093193\n",
              "YEARS     0.011270  0.090681  0.609395  ...  0.186690  0.035096  0.108796\n",
              "PAINEXER  0.067458  0.580855  0.009846  ...  0.054804  0.000799  0.341473\n",
              "RELREST   0.000670  0.572466  0.059092  ...  0.036175  0.042392  0.313435\n",
              "RESTECG   0.097594  0.038058  0.130624  ...  0.289827  0.031593  0.061318\n",
              "PROTO    -0.078394 -0.006451 -0.359429  ... -0.576153  0.027110  0.029014\n",
              "OLDPEAK   0.039517  0.239752  0.057876  ...  0.167670  0.130060  0.399659\n",
              "CXMAIN    0.063144  0.134053 -0.020043  ... -0.180674  0.148531  0.330592\n",
              "CA        0.016814  0.061932  0.024752  ...  0.001456  0.049081  0.163512\n",
              "THALDUR   0.031244 -0.224659 -0.196680  ... -0.057527 -0.012971 -0.280371\n",
              "THAL     -0.046667  0.129650  0.024304  ... -0.122989  0.081131  0.227082\n",
              "THALTIME  0.090416  0.109806 -0.056318  ...  0.121906  0.013209  0.185522\n",
              "LADDIST   0.007699  0.143511 -0.076778  ... -0.032029  0.112220  0.331616\n",
              "RCAPROX   0.087035  0.151667 -0.014060  ... -0.193748  0.155285  0.398306\n",
              "LADPROX   0.020652  0.170939 -0.078433  ... -0.207448  0.104635  0.342814\n",
              "EXANG     0.044523  0.405970  0.055689  ... -0.037853  0.112583  0.452152\n",
              "THALACH   0.069304 -0.336900  0.020806  ...  0.216884 -0.096617 -0.387567\n",
              "SLOPE    -0.001307  0.152997 -0.018538  ... -0.140683  0.119800  0.244651\n",
              "RLDV5E    0.085047 -0.034267  0.216741  ...  1.000000 -0.016666 -0.048718\n",
              "OM1       0.032418  0.100120  0.002939  ... -0.016666  1.000000  0.248812\n",
              "NUM      -0.004402  0.470125  0.093193  ... -0.048718  0.248812  1.000000\n",
              "\n",
              "[23 rows x 23 columns]"
            ]
          },
          "metadata": {
            "tags": []
          },
          "execution_count": 13
        }
      ]
    },
    {
      "cell_type": "markdown",
      "metadata": {
        "id": "E0dsTZowsBgq"
      },
      "source": [
        "## CORRELATION"
      ]
    },
    {
      "cell_type": "code",
      "metadata": {
        "colab": {
          "base_uri": "https://localhost:8080/",
          "height": 1000
        },
        "id": "HYwo1OM4rE-P",
        "outputId": "0c973ff8-f96b-4a49-84e3-ac282e92c9c1"
      },
      "source": [
        "# correlation among identified features \n",
        "\n",
        "plt.figure(figsize=(30,25))\n",
        "sns.heatmap(subset_ch_copy_pre.corr(),annot=True)\n",
        "plt.savefig('correlation_11.png')\n",
        "plt.show()"
      ],
      "execution_count": null,
      "outputs": [
        {
          "output_type": "display_data",
          "data": {
            "image/png": "[encoded data removed]",
            "text/plain": [
              "<Figure size 2160x1800 with 2 Axes>"
            ]
          },
          "metadata": {
            "tags": [],
            "needs_background": "light"
          }
        }
      ]
    },
    {
      "cell_type": "markdown",
      "metadata": {
        "id": "IGAF1INLVnRP"
      },
      "source": [
        "### TOP 5 CORRELATION PAIRS"
      ]
    },
    {
      "cell_type": "code",
      "metadata": {
        "scrolled": true,
        "id": "TojmcmnJHJJx",
        "colab": {
          "base_uri": "https://localhost:8080/",
          "height": 343
        },
        "outputId": "55cda390-4e4f-49f3-f1d5-9f72f6c1aae7"
      },
      "source": [
        "# map features to their absolute correlation values\n",
        "corr_matrix = data.corr().unstack()\n",
        "\n",
        "# set equality (self correlation) as zero\n",
        "corr_matrix[corr_matrix == 1] = 0\n",
        "\n",
        "# of each feature, find the max correlation\n",
        "# and sort the resulting array in ascending order\n",
        "corr = corr_matrix.sort_values(ascending=False)\n",
        "\n",
        "column_name = {0:'Pearson Coefficient'}\n",
        "corr = pd.DataFrame(corr,columns=column_name)\n",
        "corr.rename(columns=column_name,inplace=True)\n",
        "\n",
        "corr.head(10)\n",
        "\n",
        "# display the highly correlated features\n",
        "# display(corr[corr > 0.8])"
      ],
      "execution_count": null,
      "outputs": [
        {
          "output_type": "execute_result",
          "data": {
            "text/html": [
              "<div>\n",
              "<style scoped>\n",
              "    .dataframe tbody tr th:only-of-type {\n",
              "        vertical-align: middle;\n",
              "    }\n",
              "\n",
              "    .dataframe tbody tr th {\n",
              "        vertical-align: top;\n",
              "    }\n",
              "\n",
              "    .dataframe thead th {\n",
              "        text-align: right;\n",
              "    }\n",
              "</style>\n",
              "<table border=\"1\" class=\"dataframe\">\n",
              "  <thead>\n",
              "    <tr style=\"text-align: right;\">\n",
              "      <th></th>\n",
              "      <th></th>\n",
              "      <th>Pearson Coefficient</th>\n",
              "    </tr>\n",
              "  </thead>\n",
              "  <tbody>\n",
              "    <tr>\n",
              "      <th>PAINEXER</th>\n",
              "      <th>PAINLOC</th>\n",
              "      <td>0.995861</td>\n",
              "    </tr>\n",
              "    <tr>\n",
              "      <th>PAINLOC</th>\n",
              "      <th>PAINEXER</th>\n",
              "      <td>0.995861</td>\n",
              "    </tr>\n",
              "    <tr>\n",
              "      <th>PAINEXER</th>\n",
              "      <th>RELREST</th>\n",
              "      <td>0.988676</td>\n",
              "    </tr>\n",
              "    <tr>\n",
              "      <th rowspan=\"2\" valign=\"top\">RELREST</th>\n",
              "      <th>PAINEXER</th>\n",
              "      <td>0.988676</td>\n",
              "    </tr>\n",
              "    <tr>\n",
              "      <th>PAINLOC</th>\n",
              "      <td>0.986169</td>\n",
              "    </tr>\n",
              "    <tr>\n",
              "      <th>PAINLOC</th>\n",
              "      <th>RELREST</th>\n",
              "      <td>0.986169</td>\n",
              "    </tr>\n",
              "    <tr>\n",
              "      <th>NITR</th>\n",
              "      <th>PRO</th>\n",
              "      <td>0.964188</td>\n",
              "    </tr>\n",
              "    <tr>\n",
              "      <th>PRO</th>\n",
              "      <th>NITR</th>\n",
              "      <td>0.964188</td>\n",
              "    </tr>\n",
              "    <tr>\n",
              "      <th>RAMUS</th>\n",
              "      <th>OM2</th>\n",
              "      <td>0.963870</td>\n",
              "    </tr>\n",
              "    <tr>\n",
              "      <th>OM2</th>\n",
              "      <th>RAMUS</th>\n",
              "      <td>0.963870</td>\n",
              "    </tr>\n",
              "  </tbody>\n",
              "</table>\n",
              "</div>"
            ],
            "text/plain": [
              "                   Pearson Coefficient\n",
              "PAINEXER PAINLOC              0.995861\n",
              "PAINLOC  PAINEXER             0.995861\n",
              "PAINEXER RELREST              0.988676\n",
              "RELREST  PAINEXER             0.988676\n",
              "         PAINLOC              0.986169\n",
              "PAINLOC  RELREST              0.986169\n",
              "NITR     PRO                  0.964188\n",
              "PRO      NITR                 0.964188\n",
              "RAMUS    OM2                  0.963870\n",
              "OM2      RAMUS                0.963870"
            ]
          },
          "metadata": {
            "tags": []
          },
          "execution_count": 14
        }
      ]
    },
    {
      "cell_type": "code",
      "metadata": {
        "id": "i57eyD08rYtR"
      },
      "source": [
        ""
      ],
      "execution_count": null,
      "outputs": []
    },
    {
      "cell_type": "markdown",
      "metadata": {
        "id": "q-ckEj4Erfg_"
      },
      "source": [
        "# PRINCIPAL COMPONENT ANALYSIS"
      ]
    },
    {
      "cell_type": "code",
      "metadata": {
        "colab": {
          "base_uri": "https://localhost:8080/"
        },
        "id": "K-8asUmgrYvV",
        "outputId": "3ee268f3-0071-4e85-a126-8cb4e2439c26"
      },
      "source": [
        "# Feature Extraction using PCA \n",
        "# k = 11 as described in the paper\n",
        "\n",
        "\n",
        "#Preparing the data for PCA analysis \n",
        "\n",
        "pca_X = subset_ch_copy_pre.drop('NUM',axis=1)\n",
        "pca_y = subset_ch_copy_pre['NUM']\n",
        "\n",
        "\n",
        "# Scaling the Data and Creating the array\n",
        "scaler = StandardScaler()\n",
        "\n",
        "pca_X = scaler.fit_transform(pca_X.values)\n",
        "pca_y = pca_y.values\n",
        "\n",
        "# covariance matrix\n",
        "pca_cov_matrix = PCA(n_components=22)\n",
        "\n",
        "# calculate eigen values\n",
        "pca_cov_matrix.fit(pca_X)\n",
        "X_pc = pca_cov_matrix.transform(pca_X)\n",
        "\n",
        "variance_ratio = pca_cov_matrix.explained_variance_ratio_\n",
        "var=np.cumsum(np.round(variance_ratio,3)*100)\n",
        "\n",
        "\n",
        "print('Features with Eigen value One Criteria')\n",
        "print(pca_cov_matrix.explained_variance_)\n",
        "\n",
        "print('-------')\n",
        "print('Cumulative sum of variance explained with [n] features')\n",
        "print(var)\n",
        "\n",
        "\n",
        "# number of components\n",
        "pca_components = pca_cov_matrix.n_components_\n",
        "\n",
        "# get the index of the most important feature on EACH component\n",
        "\n",
        "most_important = [np.abs(pca_cov_matrix.components_[i]).argmax() for i in range(pca_components)]\n",
        "\n",
        "# print(most_important)\n",
        "\n",
        "initial_feature_names = subset_ch_copy_pre.columns\n",
        "# get the names\n",
        "most_important_names = [initial_feature_names[most_important[i]] for i in range(pca_components)]\n",
        "\n",
        "print('-------')\n",
        "print('Variance explained with feature names')\n",
        "print(most_important_names)\n",
        "\n",
        "# Dictionary of PCA Components with Features\n",
        "dic = {'PC{}'.format(i): most_important_names[i] for i in range(pca_components)}\n",
        "\n",
        "# build the dataframe with component and feature name (best feature of each component)\n",
        "df = pd.DataFrame(dic.items(),columns=['COMPONENT','FEATURE'])\n",
        "\n",
        "# DATASET after PCA\n",
        "\n",
        "# Reduced dataset after applying PCA \n",
        "pca_df = pd.DataFrame(X_pc,columns=dic.keys())\n",
        "\n",
        "pca_df['LABEL'] = subset_ch_copy_pre['NUM']\n",
        "\n",
        "pca_df.to_csv('pca_df.csv')\n",
        "print('')\n",
        "print('Number rows dropping : {}'.format(len(pca_df[pca_df['LABEL'].isna()].index)))\n",
        "\n",
        "pca_df = pca_df.drop(pca_df[pca_df['LABEL'].isna()].index)"
      ],
      "execution_count": null,
      "outputs": [
        {
          "output_type": "stream",
          "text": [
            "Features with Eigen value One Criteria\n",
            "[3.37978012 2.77318825 1.61813198 1.49331166 1.17928008 1.11355067\n",
            " 1.03073465 0.95317403 0.9050133  0.8616697  0.80556037 0.7877201\n",
            " 0.76678898 0.71303482 0.62531293 0.58369837 0.54839423 0.475968\n",
            " 0.39638835 0.39126949 0.32942337 0.29389391]\n",
            "-------\n",
            "Cumulative sum of variance explained with [n] features\n",
            "[ 15.3  27.9  35.2  42.   47.4  52.5  57.2  61.5  65.6  69.5  73.2  76.8\n",
            "  80.3  83.5  86.3  89.   91.5  93.7  95.5  97.3  98.8 100.1]\n",
            "-------\n",
            "Variance explained with feature names\n",
            "['CP', 'PROTO', 'THALTIME', 'PAINEXER', 'CHOL', 'THALDUR', 'CA', 'OM1', 'CA', 'LADDIST', 'SLOPE', 'CXMAIN', 'CHOL', 'LADPROX', 'RESTECG', 'RELREST', 'EXANG', 'PAINEXER', 'CP', 'PROTO', 'OLDPEAK', 'PROTO']\n",
            "\n",
            "Number rows dropping : 0\n"
          ],
          "name": "stdout"
        }
      ]
    },
    {
      "cell_type": "code",
      "metadata": {
        "colab": {
          "base_uri": "https://localhost:8080/",
          "height": 312
        },
        "id": "ScyFd155rYyV",
        "outputId": "7be1cc47-186f-4aae-8f5f-a2a37daf8fb3"
      },
      "source": [
        "plt.ylabel('% Variance Explained')\n",
        "plt.xlabel('Number of Features')\n",
        "plt.title('PCA Analysis')\n",
        "plt.ylim(30,102)\n",
        "plt.style.context('seaborn-whitegrid')\n",
        "\n",
        "\n",
        "plt.plot(var)"
      ],
      "execution_count": null,
      "outputs": [
        {
          "output_type": "execute_result",
          "data": {
            "text/plain": [
              "[<matplotlib.lines.Line2D at 0x7f7466fed630>]"
            ]
          },
          "metadata": {
            "tags": []
          },
          "execution_count": 19
        },
        {
          "output_type": "display_data",
          "data": {
            "image/png": "[encoded data removed]",
            "text/plain": [
              "<Figure size 432x288 with 1 Axes>"
            ]
          },
          "metadata": {
            "tags": [],
            "needs_background": "light"
          }
        }
      ]
    },
    {
      "cell_type": "markdown",
      "metadata": {
        "id": "7IpCHm7WWRMl"
      },
      "source": [
        "### DATASET AFTER PCA"
      ]
    },
    {
      "cell_type": "code",
      "metadata": {
        "id": "dbNk59JgtbBG",
        "colab": {
          "base_uri": "https://localhost:8080/",
          "height": 215
        },
        "outputId": "68d96a95-868f-4f34-f34b-6bd8358d82f0"
      },
      "source": [
        "pca_df.head()"
      ],
      "execution_count": null,
      "outputs": [
        {
          "output_type": "execute_result",
          "data": {
            "text/html": [
              "<div>\n",
              "<style scoped>\n",
              "    .dataframe tbody tr th:only-of-type {\n",
              "        vertical-align: middle;\n",
              "    }\n",
              "\n",
              "    .dataframe tbody tr th {\n",
              "        vertical-align: top;\n",
              "    }\n",
              "\n",
              "    .dataframe thead th {\n",
              "        text-align: right;\n",
              "    }\n",
              "</style>\n",
              "<table border=\"1\" class=\"dataframe\">\n",
              "  <thead>\n",
              "    <tr style=\"text-align: right;\">\n",
              "      <th></th>\n",
              "      <th>PC0</th>\n",
              "      <th>PC1</th>\n",
              "      <th>PC2</th>\n",
              "      <th>PC3</th>\n",
              "      <th>PC4</th>\n",
              "      <th>PC5</th>\n",
              "      <th>PC6</th>\n",
              "      <th>PC7</th>\n",
              "      <th>PC8</th>\n",
              "      <th>PC9</th>\n",
              "      <th>PC10</th>\n",
              "      <th>PC11</th>\n",
              "      <th>PC12</th>\n",
              "      <th>PC13</th>\n",
              "      <th>PC14</th>\n",
              "      <th>PC15</th>\n",
              "      <th>PC16</th>\n",
              "      <th>PC17</th>\n",
              "      <th>PC18</th>\n",
              "      <th>PC19</th>\n",
              "      <th>PC20</th>\n",
              "      <th>PC21</th>\n",
              "      <th>LABEL</th>\n",
              "    </tr>\n",
              "  </thead>\n",
              "  <tbody>\n",
              "    <tr>\n",
              "      <th>0</th>\n",
              "      <td>-0.553957</td>\n",
              "      <td>3.309257</td>\n",
              "      <td>1.076442</td>\n",
              "      <td>1.164557</td>\n",
              "      <td>-1.195938</td>\n",
              "      <td>1.164988</td>\n",
              "      <td>0.270752</td>\n",
              "      <td>-1.078428</td>\n",
              "      <td>-0.754988</td>\n",
              "      <td>-0.270216</td>\n",
              "      <td>0.285260</td>\n",
              "      <td>1.075757</td>\n",
              "      <td>0.278410</td>\n",
              "      <td>-1.976824</td>\n",
              "      <td>0.174844</td>\n",
              "      <td>0.786278</td>\n",
              "      <td>-0.514574</td>\n",
              "      <td>-0.679979</td>\n",
              "      <td>2.648414</td>\n",
              "      <td>-0.218403</td>\n",
              "      <td>0.146076</td>\n",
              "      <td>-0.674204</td>\n",
              "      <td>0</td>\n",
              "    </tr>\n",
              "    <tr>\n",
              "      <th>1</th>\n",
              "      <td>2.672568</td>\n",
              "      <td>3.076884</td>\n",
              "      <td>0.663009</td>\n",
              "      <td>1.135477</td>\n",
              "      <td>1.438540</td>\n",
              "      <td>-0.145024</td>\n",
              "      <td>-0.584657</td>\n",
              "      <td>1.297169</td>\n",
              "      <td>1.738238</td>\n",
              "      <td>0.194504</td>\n",
              "      <td>1.474786</td>\n",
              "      <td>-0.195640</td>\n",
              "      <td>-1.959125</td>\n",
              "      <td>-1.090265</td>\n",
              "      <td>-1.150110</td>\n",
              "      <td>-0.923020</td>\n",
              "      <td>-1.708429</td>\n",
              "      <td>0.246194</td>\n",
              "      <td>0.986080</td>\n",
              "      <td>-0.475562</td>\n",
              "      <td>0.375486</td>\n",
              "      <td>0.342977</td>\n",
              "      <td>1</td>\n",
              "    </tr>\n",
              "    <tr>\n",
              "      <th>2</th>\n",
              "      <td>1.010112</td>\n",
              "      <td>2.489207</td>\n",
              "      <td>0.935305</td>\n",
              "      <td>2.638303</td>\n",
              "      <td>-0.295561</td>\n",
              "      <td>0.048049</td>\n",
              "      <td>-0.420278</td>\n",
              "      <td>0.203172</td>\n",
              "      <td>-0.160439</td>\n",
              "      <td>-0.671302</td>\n",
              "      <td>-2.156266</td>\n",
              "      <td>1.073418</td>\n",
              "      <td>-0.631758</td>\n",
              "      <td>0.576967</td>\n",
              "      <td>-0.427481</td>\n",
              "      <td>-0.420881</td>\n",
              "      <td>-1.034642</td>\n",
              "      <td>0.527211</td>\n",
              "      <td>-0.691665</td>\n",
              "      <td>0.193267</td>\n",
              "      <td>0.511428</td>\n",
              "      <td>1.136007</td>\n",
              "      <td>1</td>\n",
              "    </tr>\n",
              "    <tr>\n",
              "      <th>3</th>\n",
              "      <td>-0.429622</td>\n",
              "      <td>1.468530</td>\n",
              "      <td>4.709719</td>\n",
              "      <td>-0.825847</td>\n",
              "      <td>-1.341202</td>\n",
              "      <td>1.543657</td>\n",
              "      <td>0.512025</td>\n",
              "      <td>-1.281017</td>\n",
              "      <td>0.727723</td>\n",
              "      <td>0.144149</td>\n",
              "      <td>0.693638</td>\n",
              "      <td>1.313049</td>\n",
              "      <td>0.570815</td>\n",
              "      <td>-0.774110</td>\n",
              "      <td>1.213798</td>\n",
              "      <td>0.405850</td>\n",
              "      <td>-0.112633</td>\n",
              "      <td>-0.485438</td>\n",
              "      <td>0.166241</td>\n",
              "      <td>0.316328</td>\n",
              "      <td>-0.270655</td>\n",
              "      <td>0.362129</td>\n",
              "      <td>0</td>\n",
              "    </tr>\n",
              "    <tr>\n",
              "      <th>4</th>\n",
              "      <td>-3.086520</td>\n",
              "      <td>0.705457</td>\n",
              "      <td>0.624665</td>\n",
              "      <td>0.480897</td>\n",
              "      <td>-1.313329</td>\n",
              "      <td>-1.017086</td>\n",
              "      <td>-0.223618</td>\n",
              "      <td>-0.236457</td>\n",
              "      <td>-0.842592</td>\n",
              "      <td>0.625319</td>\n",
              "      <td>-0.126843</td>\n",
              "      <td>-0.033492</td>\n",
              "      <td>-0.943376</td>\n",
              "      <td>0.565294</td>\n",
              "      <td>-0.667891</td>\n",
              "      <td>0.161065</td>\n",
              "      <td>1.499238</td>\n",
              "      <td>-0.194178</td>\n",
              "      <td>-0.584927</td>\n",
              "      <td>0.356296</td>\n",
              "      <td>0.623424</td>\n",
              "      <td>-0.250550</td>\n",
              "      <td>0</td>\n",
              "    </tr>\n",
              "  </tbody>\n",
              "</table>\n",
              "</div>"
            ],
            "text/plain": [
              "        PC0       PC1       PC2       PC3  ...      PC19      PC20      PC21  LABEL\n",
              "0 -0.553957  3.309257  1.076442  1.164557  ... -0.218403  0.146076 -0.674204      0\n",
              "1  2.672568  3.076884  0.663009  1.135477  ... -0.475562  0.375486  0.342977      1\n",
              "2  1.010112  2.489207  0.935305  2.638303  ...  0.193267  0.511428  1.136007      1\n",
              "3 -0.429622  1.468530  4.709719 -0.825847  ...  0.316328 -0.270655  0.362129      0\n",
              "4 -3.086520  0.705457  0.624665  0.480897  ...  0.356296  0.623424 -0.250550      0\n",
              "\n",
              "[5 rows x 23 columns]"
            ]
          },
          "metadata": {
            "tags": []
          },
          "execution_count": 21
        }
      ]
    },
    {
      "cell_type": "markdown",
      "metadata": {
        "id": "NLsuFCWOuPcg"
      },
      "source": [
        "# SPLITTING THE DATA INTO TRAINING & TEST DATASETS"
      ]
    },
    {
      "cell_type": "markdown",
      "metadata": {
        "id": "9vsUV4YIW1vw"
      },
      "source": [
        "### RAW INPUT"
      ]
    },
    {
      "cell_type": "code",
      "metadata": {
        "scrolled": true,
        "id": "HBokfqhnHJJs",
        "colab": {
          "base_uri": "https://localhost:8080/"
        },
        "outputId": "c6ff9baf-126c-4b8f-ae46-38fde96479c6"
      },
      "source": [
        "# input data \n",
        "X = subset_ch_copy_pre.drop('NUM',axis=1)\n",
        "y = subset_ch_copy_pre['NUM']\n",
        "\n",
        "# Making a copies of Original data for Testing\n",
        "Xx = X.values\n",
        "yy = y.values\n",
        "\n",
        "# Scaling the Data and Creating the array\n",
        "normalize = MinMaxScaler()\n",
        "scaler = StandardScaler()\n",
        "\n",
        "# X = normalize.fit_transform(X.values)\n",
        "X = scaler.fit_transform(X.values)\n",
        "\n",
        "y = y.values\n",
        "\n",
        "Xtrain, Xtest, ytrain, ytest = train_test_split(X,y,stratify=y,test_size=0.2,random_state=103)\n",
        "\n",
        "print('TRAINING SIZE : {}'.format(Xtrain.shape))\n",
        "\n",
        "print('TESTING SIZE : {}'.format(Xtest.shape))"
      ],
      "execution_count": null,
      "outputs": [
        {
          "output_type": "stream",
          "text": [
            "TRAINING SIZE : (696, 22)\n",
            "TESTING SIZE : (175, 22)\n"
          ],
          "name": "stdout"
        }
      ]
    },
    {
      "cell_type": "markdown",
      "metadata": {
        "id": "c2kl3vRFWtHO"
      },
      "source": [
        "### PCA INPUT DATA"
      ]
    },
    {
      "cell_type": "code",
      "metadata": {
        "id": "7V_lCUxPukVX",
        "colab": {
          "base_uri": "https://localhost:8080/"
        },
        "outputId": "62771bc3-3a2f-4dde-ddfc-48bddb40676c"
      },
      "source": [
        "# PCA Input data \n",
        "pc_X = pca_df.drop('LABEL',axis=1)\n",
        "pc_y = pca_df['LABEL']\n",
        "\n",
        "\n",
        "# Scaling the Data and Creating the array\n",
        "# scaler = StandardScaler()\n",
        "\n",
        "pc_X = scaler.fit_transform(pc_X.values)\n",
        "pc_y = pc_y.values\n",
        "\n",
        "\n",
        "Xtrain, Xtest, ytrain, ytest = train_test_split(pc_X,pc_y,stratify=pc_y,test_size=0.2,random_state=103)\n",
        "\n",
        "print('TRAINING SIZE : {}'.format(Xtrain.shape))\n",
        "\n",
        "print('TESTING SIZE : {}'.format(Xtest.shape))"
      ],
      "execution_count": null,
      "outputs": [
        {
          "output_type": "stream",
          "text": [
            "TRAINING SIZE : (696, 22)\n",
            "TESTING SIZE : (175, 22)\n"
          ],
          "name": "stdout"
        }
      ]
    },
    {
      "cell_type": "code",
      "metadata": {
        "id": "BzRg7Qm-vBR5"
      },
      "source": [
        ""
      ],
      "execution_count": null,
      "outputs": []
    },
    {
      "cell_type": "markdown",
      "metadata": {
        "id": "NG-AJmQ0vB-X"
      },
      "source": [
        "# MACHINE LEARNING MODELS ENSEMBLING / STACKING "
      ]
    },
    {
      "cell_type": "markdown",
      "metadata": {
        "id": "zK9KBSYRvmhW"
      },
      "source": [
        "### Stacking models with hyperparameter tuning"
      ]
    },
    {
      "cell_type": "code",
      "metadata": {
        "id": "bYGYWMvwuk9V"
      },
      "source": [
        "# stacking models with hyperparameter tuning\n",
        "\n",
        "def stacked_model():\n",
        "    \n",
        "    # BASE MODELS\n",
        "    \n",
        "    dt  = DecisionTreeClassifier(criterion='entropy')\n",
        "    \n",
        "    rfc =  RandomForestClassifier(n_estimators=500,max_features=0.25,criterion='entropy')\n",
        "    \n",
        "    gbc = GradientBoostingClassifier(loss = 'deviance',learning_rate = 0.1,n_estimators=500,max_depth=3,max_features='log2')\n",
        "    \n",
        "    nb = GaussianNB()\n",
        "    \n",
        "    svc = SVC(kernel='poly',C=0.01,gamma=0.1,degree=3,coef0=10.0)\n",
        "    \n",
        "    mlp = MLPClassifier(hidden_layer_sizes=(32,64,32), activation='relu',learning_rate='constant',solver='adam')\n",
        "    \n",
        "    xgb = XGBClassifier(learning_rate=0.01, n_estimators=25, max_depth=15,gamma=0.6, subsample=0.52,colsample_bytree=0.6,seed=27, \n",
        "                    reg_lambda=2, booster='dart', colsample_bylevel=0.6, colsample_bynode=0.5)\n",
        "    \n",
        "    \n",
        "    # META MODEL\n",
        "    # for classification problem by default the metamodel is LR, for Regression it is Linear Regression\n",
        "    \n",
        "    metamodel = LogisticRegression(C=1.5,penalty='l2',fit_intercept=True)\n",
        "    \n",
        "    \n",
        "    # STACKING OF CLASSIFIERS\n",
        "\n",
        "    model = StackingCVClassifier(classifiers=[rfc,gbc,mlp,svc,xgb],meta_classifier=metamodel)\n",
        "    \n",
        "    return model\n",
        "    "
      ],
      "execution_count": null,
      "outputs": []
    },
    {
      "cell_type": "markdown",
      "metadata": {
        "id": "q9oHyZD2vfcC"
      },
      "source": [
        "### Create a dictionary for models"
      ]
    },
    {
      "cell_type": "code",
      "metadata": {
        "id": "eDMzZNzbvPcG"
      },
      "source": [
        "# create a dictionary for models\n",
        "\n",
        "def loading_models():\n",
        "    models = dict()\n",
        "    models['Logistic Regression'] = LogisticRegression(C=1.5,penalty='l2',fit_intercept=True)\n",
        "    models['k-Nearest'] = KNeighborsClassifier()\n",
        "    models['Decision Tree'] = DecisionTreeClassifier()\n",
        "    models['Random Forest'] = RandomForestClassifier(n_estimators=500,max_features=0.25,criterion='entropy')\n",
        "    models['Support Vector'] = SVC(C=0.01,gamma=0.1,kernel=\"poly\",degree=3,coef0=10.0)\n",
        "    models['Naive Bayes']  = GaussianNB()\n",
        "    models['Gradient Boosting'] =  GradientBoostingClassifier(loss = 'deviance',learning_rate = 0.1,n_estimators=500,max_depth=3,max_features='log2')\n",
        "    models['MultiLayer Perceptron'] = MLPClassifier(hidden_layer_sizes=(10,50,100,50,10), activation='relu',\n",
        "                         learning_rate='constant',solver='adam')\n",
        "    models['Xtreme Gradient'] = XGBClassifier(learning_rate=0.01, n_estimators=25, max_depth=15,gamma=0.6, subsample=0.52,colsample_bytree=0.6,seed=27, \n",
        "                    reg_lambda=2, booster='dart', colsample_bylevel=0.6, colsample_bynode=0.5)\n",
        "\n",
        "    models['Stacked Model'] = stacked_model()\n",
        "    return models"
      ],
      "execution_count": null,
      "outputs": []
    },
    {
      "cell_type": "code",
      "metadata": {
        "id": "vBF7DMcjvPl7"
      },
      "source": [
        ""
      ],
      "execution_count": null,
      "outputs": []
    },
    {
      "cell_type": "markdown",
      "metadata": {
        "id": "oASoN1CSvbFt"
      },
      "source": [
        "### Evaluate the models using cross-validation"
      ]
    },
    {
      "cell_type": "code",
      "metadata": {
        "id": "_lsMkvS6HJJ7"
      },
      "source": [
        "# evaluate the models using cross-validation\n",
        "from sklearn.model_selection import cross_validate\n",
        "\n",
        "def evaluating_model(model,X,y):\n",
        "    scoring = ['accuracy','precision','recall','f1']\n",
        "    cv = RepeatedStratifiedKFold(n_splits=10,n_repeats=3,random_state=1)\n",
        "    scores = cross_validate(model,X,y,cv=cv,scoring=scoring,n_jobs=-1,error_score='raise')\n",
        "    return scores"
      ],
      "execution_count": null,
      "outputs": []
    },
    {
      "cell_type": "markdown",
      "metadata": {
        "id": "x0kfx0hlvxSd"
      },
      "source": [
        "### Machine Learning Models results"
      ]
    },
    {
      "cell_type": "code",
      "metadata": {
        "id": "iPQtzFfrHJJ-",
        "colab": {
          "base_uri": "https://localhost:8080/",
          "height": 392,
          "referenced_widgets": [
            "2065d44fe1fb4cb7be28e0db87773222",
            "b88ca78ad5a94eaaaa77f4dce20296e3",
            "3af53cee1a5a4b78a70f4e81b673ae83",
            "ebc4a4b478674419882362ae35fac2d2",
            "bab8e5a300984513973c6c395c5ee0b0",
            "ff4e81c414594fb4a78bfad909454080",
            "731eae1d8763446cb60ce579983bd154",
            "bff085cd4be54238b9ab06f0d6b6dd32"
          ]
        },
        "outputId": "26a11d9b-a604-4eb4-c005-eac887f21711"
      },
      "source": [
        "# Results: Experiment 4 trial 1 with raw data + PCA \n",
        "\n",
        "models = loading_models()\n",
        "\n",
        "# evaluate the  models and store the results\n",
        "results,names = list(),list()\n",
        "\n",
        "for name,model in tqdm(models.items()):\n",
        "\n",
        "    scores = evaluating_model(model,X,y)\n",
        "    results.append(scores)\n",
        "    names.append(name)\n",
        "\n",
        "    \n",
        "# Final Results\n",
        "      \n",
        "results_df = pd.DataFrame(columns=['ACCURACY(%)','PRECISION(%)','RECALL(%)','F1_SCORE(%)'],)\n",
        "\n",
        "for dic,name in zip(results,names):\n",
        "    accuracy = np.mean((dic['test_accuracy']*100))\n",
        "    precision = np.mean(dic['test_precision']*100)\n",
        "    recall = np.mean(dic['test_recall']*100)\n",
        "    f1_score = np.mean(dic['test_f1']*100)\n",
        "    \n",
        "    results_df.loc[name] = [accuracy,precision,recall,f1_score]\n",
        "\n",
        "# results_df.to_csv('results_df_ex.csv')\n",
        "results_df.round(1).sort_values('ACCURACY(%)',ascending=True)"
      ],
      "execution_count": null,
      "outputs": [
        {
          "output_type": "display_data",
          "data": {
            "application/vnd.jupyter.widget-view+json": {
              "model_id": "2065d44fe1fb4cb7be28e0db87773222",
              "version_minor": 0,
              "version_major": 2
            },
            "text/plain": [
              "HBox(children=(FloatProgress(value=0.0, max=10.0), HTML(value='')))"
            ]
          },
          "metadata": {
            "tags": []
          }
        },
        {
          "output_type": "stream",
          "text": [
            "\n"
          ],
          "name": "stdout"
        },
        {
          "output_type": "execute_result",
          "data": {
            "text/html": [
              "<div>\n",
              "<style scoped>\n",
              "    .dataframe tbody tr th:only-of-type {\n",
              "        vertical-align: middle;\n",
              "    }\n",
              "\n",
              "    .dataframe tbody tr th {\n",
              "        vertical-align: top;\n",
              "    }\n",
              "\n",
              "    .dataframe thead th {\n",
              "        text-align: right;\n",
              "    }\n",
              "</style>\n",
              "<table border=\"1\" class=\"dataframe\">\n",
              "  <thead>\n",
              "    <tr style=\"text-align: right;\">\n",
              "      <th></th>\n",
              "      <th>ACCURACY(%)</th>\n",
              "      <th>PRECISION(%)</th>\n",
              "      <th>RECALL(%)</th>\n",
              "      <th>F1_SCORE(%)</th>\n",
              "    </tr>\n",
              "  </thead>\n",
              "  <tbody>\n",
              "    <tr>\n",
              "      <th>MultiLayer Perceptron</th>\n",
              "      <td>85.3</td>\n",
              "      <td>87.4</td>\n",
              "      <td>85.5</td>\n",
              "      <td>86.3</td>\n",
              "    </tr>\n",
              "    <tr>\n",
              "      <th>Xtreme Gradient</th>\n",
              "      <td>86.0</td>\n",
              "      <td>87.9</td>\n",
              "      <td>86.3</td>\n",
              "      <td>87.0</td>\n",
              "    </tr>\n",
              "    <tr>\n",
              "      <th>Naive Bayes</th>\n",
              "      <td>86.2</td>\n",
              "      <td>87.6</td>\n",
              "      <td>87.1</td>\n",
              "      <td>87.3</td>\n",
              "    </tr>\n",
              "    <tr>\n",
              "      <th>k-Nearest</th>\n",
              "      <td>86.4</td>\n",
              "      <td>93.4</td>\n",
              "      <td>80.9</td>\n",
              "      <td>86.5</td>\n",
              "    </tr>\n",
              "    <tr>\n",
              "      <th>Logistic Regression</th>\n",
              "      <td>86.5</td>\n",
              "      <td>88.1</td>\n",
              "      <td>87.1</td>\n",
              "      <td>87.5</td>\n",
              "    </tr>\n",
              "    <tr>\n",
              "      <th>Decision Tree</th>\n",
              "      <td>87.1</td>\n",
              "      <td>88.4</td>\n",
              "      <td>87.9</td>\n",
              "      <td>88.0</td>\n",
              "    </tr>\n",
              "    <tr>\n",
              "      <th>Random Forest</th>\n",
              "      <td>90.2</td>\n",
              "      <td>92.1</td>\n",
              "      <td>90.0</td>\n",
              "      <td>90.9</td>\n",
              "    </tr>\n",
              "    <tr>\n",
              "      <th>Support Vector</th>\n",
              "      <td>91.6</td>\n",
              "      <td>93.3</td>\n",
              "      <td>91.3</td>\n",
              "      <td>92.2</td>\n",
              "    </tr>\n",
              "    <tr>\n",
              "      <th>Stacked Model</th>\n",
              "      <td>92.1</td>\n",
              "      <td>92.8</td>\n",
              "      <td>92.8</td>\n",
              "      <td>92.7</td>\n",
              "    </tr>\n",
              "    <tr>\n",
              "      <th>Gradient Boosting</th>\n",
              "      <td>92.3</td>\n",
              "      <td>93.5</td>\n",
              "      <td>92.3</td>\n",
              "      <td>92.8</td>\n",
              "    </tr>\n",
              "  </tbody>\n",
              "</table>\n",
              "</div>"
            ],
            "text/plain": [
              "                       ACCURACY(%)  PRECISION(%)  RECALL(%)  F1_SCORE(%)\n",
              "MultiLayer Perceptron         85.3          87.4       85.5         86.3\n",
              "Xtreme Gradient               86.0          87.9       86.3         87.0\n",
              "Naive Bayes                   86.2          87.6       87.1         87.3\n",
              "k-Nearest                     86.4          93.4       80.9         86.5\n",
              "Logistic Regression           86.5          88.1       87.1         87.5\n",
              "Decision Tree                 87.1          88.4       87.9         88.0\n",
              "Random Forest                 90.2          92.1       90.0         90.9\n",
              "Support Vector                91.6          93.3       91.3         92.2\n",
              "Stacked Model                 92.1          92.8       92.8         92.7\n",
              "Gradient Boosting             92.3          93.5       92.3         92.8"
            ]
          },
          "metadata": {
            "tags": []
          },
          "execution_count": 19
        }
      ]
    },
    {
      "cell_type": "markdown",
      "metadata": {
        "id": "w6mmyjLuY_KP"
      },
      "source": [
        "# FINALIZING THE MODEL FOR DEPLOYMENT"
      ]
    },
    {
      "cell_type": "code",
      "metadata": {
        "id": "nH7UFL7tb8_a",
        "colab": {
          "base_uri": "https://localhost:8080/"
        },
        "outputId": "d86cbe1c-8ff8-4720-a163-107913180b1a"
      },
      "source": [
        "# Model Performance on the Test data\n",
        "# Picked only the final estimator after stacking is performed\n",
        "stackedModel = stacked_model()\n",
        "stackedModel.fit(Xtrain,ytrain)\n",
        "print('Final stacked Model Accuracy : {:0.2f} %'.format(stackedModel.score(Xtest,ytest)*100))"
      ],
      "execution_count": null,
      "outputs": [
        {
          "output_type": "stream",
          "text": [
            "Final stacked Model Accuracy : 91.43 %\n"
          ],
          "name": "stdout"
        }
      ]
    },
    {
      "cell_type": "markdown",
      "metadata": {
        "id": "qSsgtoSPZS2i"
      },
      "source": [
        "## RESULTS\n",
        "### CONFUSION MATRIX & METRICS"
      ]
    },
    {
      "cell_type": "code",
      "metadata": {
        "colab": {
          "base_uri": "https://localhost:8080/"
        },
        "id": "SkXIhEyEZJNG",
        "outputId": "1d8add44-1fe9-4807-e538-941dfbf3f2e2"
      },
      "source": [
        "y_stacked_pred = stackedModel.predict(Xtest)\n",
        "\n",
        "confusionMatrix = confusion_matrix(ytest,y_stacked_pred)\n",
        "print('Confusion Matrix')\n",
        "print(confusionMatrix)\n",
        "print()\n",
        "print('TEST DATASET SIZE : {}'.format(len(Xtest)))\n",
        "print('')\n",
        "print('TRUE POSITIVIES  : {}'.format(confusionMatrix[1][1]))\n",
        "print('FALSE POSITIVIES : {}'.format(confusionMatrix[0][1]))\n",
        "print('TRUE NEGATIVES   : {}'.format(confusionMatrix[0][0]))\n",
        "print('FALSE NEGATIVES  : {}'.format(confusionMatrix[1][0]))\n",
        "\n",
        "print()\n",
        "print('Classification Report')\n",
        "print()\n",
        "classNames = ['No Disease', 'Disease']\n",
        "print(classification_report(ytest,y_stacked_pred, target_names=classNames))\n"
      ],
      "execution_count": null,
      "outputs": [
        {
          "output_type": "stream",
          "text": [
            "Confusion Matrix\n",
            "[[68 12]\n",
            " [ 3 92]]\n",
            "\n",
            "TEST DATASET SIZE : 175\n",
            "\n",
            "TRUE POSITIVIES  : 92\n",
            "FALSE POSITIVIES : 12\n",
            "TRUE NEGATIVES   : 68\n",
            "FALSE NEGATIVES  : 3\n",
            "\n",
            "Classification Report\n",
            "\n",
            "              precision    recall  f1-score   support\n",
            "\n",
            "  No Disease       0.96      0.85      0.90        80\n",
            "     Disease       0.88      0.97      0.92        95\n",
            "\n",
            "    accuracy                           0.91       175\n",
            "   macro avg       0.92      0.91      0.91       175\n",
            "weighted avg       0.92      0.91      0.91       175\n",
            "\n"
          ],
          "name": "stdout"
        }
      ]
    },
    {
      "cell_type": "code",
      "metadata": {
        "colab": {
          "base_uri": "https://localhost:8080/"
        },
        "id": "KsO3-0UIZJgQ",
        "outputId": "8ce1d3e3-01af-4339-96c9-5a1708537950"
      },
      "source": [
        "# saving the model to use it in applications\n",
        "import joblib\n",
        "HeartRiskModel = 'proceedit_ml_heart_risk_pred.sav'\n",
        "joblib.dump(stackedModel,HeartRiskModel)\n",
        "\n",
        "stacked_output = joblib.load(HeartRiskModel)\n",
        "\n",
        "result_jbl = stacked_output.score(Xtest,ytest)\n",
        "result_jbl"
      ],
      "execution_count": null,
      "outputs": [
        {
          "output_type": "execute_result",
          "data": {
            "text/plain": [
              "0.9485714285714286"
            ]
          },
          "metadata": {
            "tags": []
          },
          "execution_count": 27
        }
      ]
    },
    {
      "cell_type": "markdown",
      "metadata": {
        "id": "_teD7f9bHJKH"
      },
      "source": [
        "# Neural Network"
      ]
    },
    {
      "cell_type": "code",
      "metadata": {
        "id": "WWmcWN-TZ83p"
      },
      "source": [
        "# Negative log likelihood\n",
        "def negative_log_likelihood(y_true, y_pred):\n",
        "  \"\"\"\n",
        "  Minimizing the negative log-likelihood of our data with respect to θ given a Gaussian prior on θ \n",
        "  is equivalent to minimizing the binary cross-entropy (i.e. binary log loss) between the observed y \n",
        "  and our prediction of the probability thereof, plus the squared sum of (the elements of) θ itself.\n",
        "  \"\"\"\n",
        "  return -K.mean(y_true * K.log(y_pred))"
      ],
      "execution_count": null,
      "outputs": []
    },
    {
      "cell_type": "code",
      "metadata": {
        "id": "PR2QuCO7qq9w"
      },
      "source": [
        "del model"
      ],
      "execution_count": null,
      "outputs": []
    },
    {
      "cell_type": "code",
      "metadata": {
        "colab": {
          "base_uri": "https://localhost:8080/"
        },
        "id": "T5bPtE6j6gCn",
        "outputId": "b2943c9f-04f3-4ac4-e0ad-ab54053d7236"
      },
      "source": [
        "Xtest.shape"
      ],
      "execution_count": null,
      "outputs": [
        {
          "output_type": "execute_result",
          "data": {
            "text/plain": [
              "(175, 22)"
            ]
          },
          "metadata": {
            "tags": []
          },
          "execution_count": 44
        }
      ]
    },
    {
      "cell_type": "code",
      "metadata": {
        "id": "5wf9yN0xHJK8"
      },
      "source": [
        "def create_nn_model():\n",
        "  model = Sequential()\n",
        "  model.add(Dense(128,input_dim=X.shape[1],kernel_initializer='normal',kernel_regularizer=regularizers.l2(0.001),\n",
        "                  activation='relu'))   #activity_regularizer=regularizers.l1(0.001),\n",
        "  # model.add(BatchNormalization())\n",
        "  model.add(Dropout(0.20))\n",
        "  model.add(Dense(64,kernel_initializer='normal',kernel_regularizer=regularizers.l2(0.001),activation='relu'))\n",
        "  # model.add(Dropout(0.20))\n",
        "  # model.add(Dense(32,kernel_initializer='normal',kernel_regularizer=regularizers.l2(0.001),activation='relu'))\n",
        "\n",
        "  model.add(Dense(1, activation='sigmoid'))\n",
        "\n",
        "  # Compile\n",
        "  opt = Adam(lr=0.01,beta_1=0.9,beta_2=0.999,epsilon=1e-0)\n",
        "  # opt = SGD(lr=0.01, momentum=0.9)\n",
        "  model.compile(optimizer=opt, loss='binary_crossentropy', metrics=['accuracy','Precision','Recall']) #,'TruePositives','FalseNegatives'\n",
        "  return model"
      ],
      "execution_count": null,
      "outputs": []
    },
    {
      "cell_type": "code",
      "metadata": {
        "id": "EmTs_5X3SzBO",
        "colab": {
          "base_uri": "https://localhost:8080/",
          "height": 466
        },
        "outputId": "b3701963-5312-4623-d309-61d95b934f08"
      },
      "source": [
        "model = create_nn_model()\n",
        "tf.keras.utils.plot_model(model)"
      ],
      "execution_count": null,
      "outputs": [
        {
          "output_type": "execute_result",
          "data": {
            "image/png": "[encoded data removed]",
            "text/plain": [
              "<IPython.core.display.Image object>"
            ]
          },
          "metadata": {
            "tags": []
          },
          "execution_count": 21
        }
      ]
    },
    {
      "cell_type": "code",
      "metadata": {
        "id": "fd4bIi3uS_Rg",
        "colab": {
          "base_uri": "https://localhost:8080/"
        },
        "outputId": "5a24b98c-53f0-47a8-cac9-d06c2e6d5a32"
      },
      "source": [
        "model.summary()"
      ],
      "execution_count": null,
      "outputs": [
        {
          "output_type": "stream",
          "text": [
            "Model: \"sequential\"\n",
            "_________________________________________________________________\n",
            "Layer (type)                 Output Shape              Param #   \n",
            "=================================================================\n",
            "dense (Dense)                (None, 128)               2944      \n",
            "_________________________________________________________________\n",
            "dropout (Dropout)            (None, 128)               0         \n",
            "_________________________________________________________________\n",
            "dense_1 (Dense)              (None, 64)                8256      \n",
            "_________________________________________________________________\n",
            "dense_2 (Dense)              (None, 1)                 65        \n",
            "=================================================================\n",
            "Total params: 11,265\n",
            "Trainable params: 11,265\n",
            "Non-trainable params: 0\n",
            "_________________________________________________________________\n"
          ],
          "name": "stdout"
        }
      ]
    },
    {
      "cell_type": "code",
      "metadata": {
        "id": "DQdlNXcRFatH"
      },
      "source": [
        "from tensorflow.keras.callbacks import EarlyStopping\n",
        "\n",
        "learning_rate_reduction = tf.keras.callbacks.ReduceLROnPlateau( \n",
        "    monitor='val_loss',    # Quantity to be monitored.\n",
        "    factor=0.1,       # Factor by which the learning rate will be reduced. new_lr = lr * factor\n",
        "    patience=50,        # The number of epochs with no improvement after which learning rate will be reduced.\n",
        "    verbose=1,         # 0: quiet - 1: update messages.\n",
        "    mode=\"auto\",       # {auto, min, max}. In min mode, lr will be reduced when the quantity monitored has stopped decreasing; \n",
        "                       # in the max mode it will be reduced when the quantity monitored has stopped increasing; \n",
        "                       # in auto mode, the direction is automatically inferred from the name of the monitored quantity.\n",
        "    min_delta=0.0001,  # threshold for measuring the new optimum, to only focus on significant changes.\n",
        "    cooldown=0,        # number of epochs to wait before resuming normal operation after learning rate (lr) has been reduced.\n",
        "    min_lr=0.00001     # lower bound on the learning rate.\n",
        "    )\n",
        "\n",
        "es = EarlyStopping(monitor='val_loss', mode='min', verbose=1, patience=400, restore_best_weights=True)\n",
        "\n",
        "\n",
        "# callbacks=[learning_rate_reduction,es]"
      ],
      "execution_count": null,
      "outputs": []
    },
    {
      "cell_type": "code",
      "metadata": {
        "id": "na49kRLkHJK-",
        "colab": {
          "base_uri": "https://localhost:8080/"
        },
        "outputId": "68f800f2-0fbb-47e7-85ed-2e8df8da0b6d"
      },
      "source": [
        "history = model.fit(Xtrain,ytrain,validation_data=(Xtest,ytest),batch_size=16,epochs=200,verbose=2,callbacks=[learning_rate_reduction,es])"
      ],
      "execution_count": null,
      "outputs": [
        {
          "output_type": "stream",
          "text": [
            "Epoch 1/200\n",
            "44/44 - 2s - loss: 0.7230 - accuracy: 0.5014 - precision: 0.7679 - recall: 0.1141 - val_loss: 0.7208 - val_accuracy: 0.5086 - val_precision: 0.9091 - val_recall: 0.1053\n",
            "Epoch 2/200\n",
            "44/44 - 0s - loss: 0.7180 - accuracy: 0.5144 - precision: 0.7600 - recall: 0.1512 - val_loss: 0.7144 - val_accuracy: 0.5486 - val_precision: 0.8333 - val_recall: 0.2105\n",
            "Epoch 3/200\n",
            "44/44 - 0s - loss: 0.7128 - accuracy: 0.5460 - precision: 0.8081 - recall: 0.2122 - val_loss: 0.7066 - val_accuracy: 0.6114 - val_precision: 0.8462 - val_recall: 0.3474\n",
            "Epoch 4/200\n",
            "44/44 - 0s - loss: 0.7033 - accuracy: 0.6307 - precision: 0.7752 - recall: 0.4483 - val_loss: 0.6976 - val_accuracy: 0.7429 - val_precision: 0.8378 - val_recall: 0.6526\n",
            "Epoch 5/200\n",
            "44/44 - 0s - loss: 0.6940 - accuracy: 0.7256 - precision: 0.8298 - recall: 0.6207 - val_loss: 0.6877 - val_accuracy: 0.7829 - val_precision: 0.8202 - val_recall: 0.7684\n",
            "Epoch 6/200\n",
            "44/44 - 0s - loss: 0.6841 - accuracy: 0.7859 - precision: 0.8333 - recall: 0.7560 - val_loss: 0.6761 - val_accuracy: 0.8057 - val_precision: 0.8081 - val_recall: 0.8421\n",
            "Epoch 7/200\n",
            "44/44 - 0s - loss: 0.6751 - accuracy: 0.8147 - precision: 0.8316 - recall: 0.8249 - val_loss: 0.6639 - val_accuracy: 0.8171 - val_precision: 0.8000 - val_recall: 0.8842\n",
            "Epoch 8/200\n",
            "44/44 - 0s - loss: 0.6629 - accuracy: 0.8132 - precision: 0.8080 - recall: 0.8594 - val_loss: 0.6498 - val_accuracy: 0.8229 - val_precision: 0.8019 - val_recall: 0.8947\n",
            "Epoch 9/200\n",
            "44/44 - 0s - loss: 0.6472 - accuracy: 0.8319 - precision: 0.8218 - recall: 0.8806 - val_loss: 0.6342 - val_accuracy: 0.8400 - val_precision: 0.8073 - val_recall: 0.9263\n",
            "Epoch 10/200\n",
            "44/44 - 0s - loss: 0.6331 - accuracy: 0.8305 - precision: 0.8278 - recall: 0.8674 - val_loss: 0.6167 - val_accuracy: 0.8343 - val_precision: 0.8000 - val_recall: 0.9263\n",
            "Epoch 11/200\n",
            "44/44 - 0s - loss: 0.6151 - accuracy: 0.8362 - precision: 0.8279 - recall: 0.8806 - val_loss: 0.5959 - val_accuracy: 0.8400 - val_precision: 0.8018 - val_recall: 0.9368\n",
            "Epoch 12/200\n",
            "44/44 - 0s - loss: 0.5949 - accuracy: 0.8578 - precision: 0.8492 - recall: 0.8966 - val_loss: 0.5735 - val_accuracy: 0.8629 - val_precision: 0.8381 - val_recall: 0.9263\n",
            "Epoch 13/200\n",
            "44/44 - 0s - loss: 0.5731 - accuracy: 0.8448 - precision: 0.8458 - recall: 0.8727 - val_loss: 0.5494 - val_accuracy: 0.8514 - val_precision: 0.8286 - val_recall: 0.9158\n",
            "Epoch 14/200\n",
            "44/44 - 0s - loss: 0.5508 - accuracy: 0.8563 - precision: 0.8524 - recall: 0.8886 - val_loss: 0.5229 - val_accuracy: 0.8686 - val_precision: 0.8529 - val_recall: 0.9158\n",
            "Epoch 15/200\n",
            "44/44 - 0s - loss: 0.5248 - accuracy: 0.8463 - precision: 0.8534 - recall: 0.8647 - val_loss: 0.4968 - val_accuracy: 0.8629 - val_precision: 0.8447 - val_recall: 0.9158\n",
            "Epoch 16/200\n",
            "44/44 - 0s - loss: 0.5027 - accuracy: 0.8520 - precision: 0.8549 - recall: 0.8753 - val_loss: 0.4704 - val_accuracy: 0.8686 - val_precision: 0.8529 - val_recall: 0.9158\n",
            "Epoch 17/200\n",
            "44/44 - 0s - loss: 0.4787 - accuracy: 0.8491 - precision: 0.8598 - recall: 0.8621 - val_loss: 0.4466 - val_accuracy: 0.8743 - val_precision: 0.8614 - val_recall: 0.9158\n",
            "Epoch 18/200\n",
            "44/44 - 0s - loss: 0.4582 - accuracy: 0.8563 - precision: 0.8693 - recall: 0.8647 - val_loss: 0.4236 - val_accuracy: 0.8857 - val_precision: 0.8713 - val_recall: 0.9263\n",
            "Epoch 19/200\n",
            "44/44 - 0s - loss: 0.4406 - accuracy: 0.8534 - precision: 0.8609 - recall: 0.8700 - val_loss: 0.4025 - val_accuracy: 0.8914 - val_precision: 0.8800 - val_recall: 0.9263\n",
            "Epoch 20/200\n",
            "44/44 - 0s - loss: 0.4224 - accuracy: 0.8520 - precision: 0.8605 - recall: 0.8674 - val_loss: 0.3849 - val_accuracy: 0.8914 - val_precision: 0.8800 - val_recall: 0.9263\n",
            "Epoch 21/200\n",
            "44/44 - 0s - loss: 0.4068 - accuracy: 0.8578 - precision: 0.8757 - recall: 0.8594 - val_loss: 0.3688 - val_accuracy: 0.8971 - val_precision: 0.8889 - val_recall: 0.9263\n",
            "Epoch 22/200\n",
            "44/44 - 0s - loss: 0.3937 - accuracy: 0.8635 - precision: 0.8811 - recall: 0.8647 - val_loss: 0.3560 - val_accuracy: 0.9029 - val_precision: 0.8900 - val_recall: 0.9368\n",
            "Epoch 23/200\n",
            "44/44 - 0s - loss: 0.3797 - accuracy: 0.8606 - precision: 0.8784 - recall: 0.8621 - val_loss: 0.3453 - val_accuracy: 0.8971 - val_precision: 0.8812 - val_recall: 0.9368\n",
            "Epoch 24/200\n",
            "44/44 - 0s - loss: 0.3815 - accuracy: 0.8563 - precision: 0.8635 - recall: 0.8727 - val_loss: 0.3347 - val_accuracy: 0.9029 - val_precision: 0.8900 - val_recall: 0.9368\n",
            "Epoch 25/200\n",
            "44/44 - 0s - loss: 0.3682 - accuracy: 0.8621 - precision: 0.8787 - recall: 0.8647 - val_loss: 0.3267 - val_accuracy: 0.8971 - val_precision: 0.8812 - val_recall: 0.9368\n",
            "Epoch 26/200\n",
            "44/44 - 0s - loss: 0.3593 - accuracy: 0.8664 - precision: 0.8797 - recall: 0.8727 - val_loss: 0.3202 - val_accuracy: 0.8914 - val_precision: 0.8725 - val_recall: 0.9368\n",
            "Epoch 27/200\n",
            "44/44 - 0s - loss: 0.3545 - accuracy: 0.8693 - precision: 0.8886 - recall: 0.8674 - val_loss: 0.3149 - val_accuracy: 0.8914 - val_precision: 0.8725 - val_recall: 0.9368\n",
            "Epoch 28/200\n",
            "44/44 - 0s - loss: 0.3449 - accuracy: 0.8822 - precision: 0.8976 - recall: 0.8833 - val_loss: 0.3092 - val_accuracy: 0.8914 - val_precision: 0.8725 - val_recall: 0.9368\n",
            "Epoch 29/200\n",
            "44/44 - 0s - loss: 0.3438 - accuracy: 0.8750 - precision: 0.8877 - recall: 0.8806 - val_loss: 0.3030 - val_accuracy: 0.8914 - val_precision: 0.8725 - val_recall: 0.9368\n",
            "Epoch 30/200\n",
            "44/44 - 0s - loss: 0.3347 - accuracy: 0.8750 - precision: 0.8919 - recall: 0.8753 - val_loss: 0.2993 - val_accuracy: 0.8914 - val_precision: 0.8725 - val_recall: 0.9368\n",
            "Epoch 31/200\n",
            "44/44 - 0s - loss: 0.3300 - accuracy: 0.8750 - precision: 0.8856 - recall: 0.8833 - val_loss: 0.2961 - val_accuracy: 0.8914 - val_precision: 0.8725 - val_recall: 0.9368\n",
            "Epoch 32/200\n",
            "44/44 - 0s - loss: 0.3239 - accuracy: 0.8822 - precision: 0.8976 - recall: 0.8833 - val_loss: 0.2914 - val_accuracy: 0.8971 - val_precision: 0.8738 - val_recall: 0.9474\n",
            "Epoch 33/200\n",
            "44/44 - 0s - loss: 0.3243 - accuracy: 0.8865 - precision: 0.9005 - recall: 0.8886 - val_loss: 0.2894 - val_accuracy: 0.9029 - val_precision: 0.8750 - val_recall: 0.9579\n",
            "Epoch 34/200\n",
            "44/44 - 0s - loss: 0.3230 - accuracy: 0.8750 - precision: 0.8898 - recall: 0.8780 - val_loss: 0.2854 - val_accuracy: 0.9029 - val_precision: 0.8750 - val_recall: 0.9579\n",
            "Epoch 35/200\n",
            "44/44 - 0s - loss: 0.3167 - accuracy: 0.8865 - precision: 0.9049 - recall: 0.8833 - val_loss: 0.2827 - val_accuracy: 0.9029 - val_precision: 0.8750 - val_recall: 0.9579\n",
            "Epoch 36/200\n",
            "44/44 - 0s - loss: 0.3112 - accuracy: 0.8894 - precision: 0.9098 - recall: 0.8833 - val_loss: 0.2793 - val_accuracy: 0.9029 - val_precision: 0.8750 - val_recall: 0.9579\n",
            "Epoch 37/200\n",
            "44/44 - 0s - loss: 0.3102 - accuracy: 0.8865 - precision: 0.9049 - recall: 0.8833 - val_loss: 0.2768 - val_accuracy: 0.9086 - val_precision: 0.8835 - val_recall: 0.9579\n",
            "Epoch 38/200\n",
            "44/44 - 0s - loss: 0.2983 - accuracy: 0.8894 - precision: 0.9054 - recall: 0.8886 - val_loss: 0.2746 - val_accuracy: 0.9029 - val_precision: 0.8824 - val_recall: 0.9474\n",
            "Epoch 39/200\n",
            "44/44 - 0s - loss: 0.3024 - accuracy: 0.8851 - precision: 0.9024 - recall: 0.8833 - val_loss: 0.2719 - val_accuracy: 0.9029 - val_precision: 0.8824 - val_recall: 0.9474\n",
            "Epoch 40/200\n",
            "44/44 - 0s - loss: 0.2980 - accuracy: 0.8951 - precision: 0.9086 - recall: 0.8966 - val_loss: 0.2704 - val_accuracy: 0.9029 - val_precision: 0.8824 - val_recall: 0.9474\n",
            "Epoch 41/200\n",
            "44/44 - 0s - loss: 0.2965 - accuracy: 0.8922 - precision: 0.9059 - recall: 0.8939 - val_loss: 0.2672 - val_accuracy: 0.9029 - val_precision: 0.8824 - val_recall: 0.9474\n",
            "Epoch 42/200\n",
            "44/44 - 0s - loss: 0.2901 - accuracy: 0.8922 - precision: 0.9059 - recall: 0.8939 - val_loss: 0.2651 - val_accuracy: 0.9029 - val_precision: 0.8824 - val_recall: 0.9474\n",
            "Epoch 43/200\n",
            "44/44 - 0s - loss: 0.2877 - accuracy: 0.9009 - precision: 0.9140 - recall: 0.9019 - val_loss: 0.2618 - val_accuracy: 0.9029 - val_precision: 0.8824 - val_recall: 0.9474\n",
            "Epoch 44/200\n",
            "44/44 - 0s - loss: 0.2810 - accuracy: 0.9009 - precision: 0.9118 - recall: 0.9045 - val_loss: 0.2578 - val_accuracy: 0.9086 - val_precision: 0.8911 - val_recall: 0.9474\n",
            "Epoch 45/200\n",
            "44/44 - 0s - loss: 0.2875 - accuracy: 0.8937 - precision: 0.9040 - recall: 0.8992 - val_loss: 0.2561 - val_accuracy: 0.9086 - val_precision: 0.8911 - val_recall: 0.9474\n",
            "Epoch 46/200\n",
            "44/44 - 0s - loss: 0.2787 - accuracy: 0.8966 - precision: 0.9111 - recall: 0.8966 - val_loss: 0.2544 - val_accuracy: 0.9143 - val_precision: 0.9000 - val_recall: 0.9474\n",
            "Epoch 47/200\n",
            "44/44 - 0s - loss: 0.2717 - accuracy: 0.9080 - precision: 0.9173 - recall: 0.9125 - val_loss: 0.2514 - val_accuracy: 0.9200 - val_precision: 0.9091 - val_recall: 0.9474\n",
            "Epoch 48/200\n",
            "44/44 - 0s - loss: 0.2651 - accuracy: 0.9124 - precision: 0.9270 - recall: 0.9098 - val_loss: 0.2513 - val_accuracy: 0.9200 - val_precision: 0.9091 - val_recall: 0.9474\n",
            "Epoch 49/200\n",
            "44/44 - 0s - loss: 0.2669 - accuracy: 0.9080 - precision: 0.9241 - recall: 0.9045 - val_loss: 0.2478 - val_accuracy: 0.9200 - val_precision: 0.9091 - val_recall: 0.9474\n",
            "Epoch 50/200\n",
            "44/44 - 0s - loss: 0.2639 - accuracy: 0.9109 - precision: 0.9223 - recall: 0.9125 - val_loss: 0.2459 - val_accuracy: 0.9200 - val_precision: 0.9091 - val_recall: 0.9474\n",
            "Epoch 51/200\n",
            "44/44 - 0s - loss: 0.2620 - accuracy: 0.9095 - precision: 0.9198 - recall: 0.9125 - val_loss: 0.2434 - val_accuracy: 0.9257 - val_precision: 0.9100 - val_recall: 0.9579\n",
            "Epoch 52/200\n",
            "44/44 - 0s - loss: 0.2517 - accuracy: 0.9152 - precision: 0.9274 - recall: 0.9151 - val_loss: 0.2412 - val_accuracy: 0.9257 - val_precision: 0.9100 - val_recall: 0.9579\n",
            "Epoch 53/200\n",
            "44/44 - 0s - loss: 0.2562 - accuracy: 0.9080 - precision: 0.9218 - recall: 0.9072 - val_loss: 0.2390 - val_accuracy: 0.9257 - val_precision: 0.9100 - val_recall: 0.9579\n",
            "Epoch 54/200\n",
            "44/44 - 0s - loss: 0.2531 - accuracy: 0.9052 - precision: 0.9169 - recall: 0.9072 - val_loss: 0.2374 - val_accuracy: 0.9314 - val_precision: 0.9192 - val_recall: 0.9579\n",
            "Epoch 55/200\n",
            "44/44 - 0s - loss: 0.2563 - accuracy: 0.9080 - precision: 0.9264 - recall: 0.9019 - val_loss: 0.2371 - val_accuracy: 0.9314 - val_precision: 0.9192 - val_recall: 0.9579\n",
            "Epoch 56/200\n",
            "44/44 - 0s - loss: 0.2536 - accuracy: 0.9167 - precision: 0.9299 - recall: 0.9151 - val_loss: 0.2355 - val_accuracy: 0.9314 - val_precision: 0.9192 - val_recall: 0.9579\n",
            "Epoch 57/200\n",
            "44/44 - 0s - loss: 0.2438 - accuracy: 0.9181 - precision: 0.9348 - recall: 0.9125 - val_loss: 0.2327 - val_accuracy: 0.9314 - val_precision: 0.9192 - val_recall: 0.9579\n",
            "Epoch 58/200\n",
            "44/44 - 0s - loss: 0.2498 - accuracy: 0.9152 - precision: 0.9251 - recall: 0.9178 - val_loss: 0.2326 - val_accuracy: 0.9371 - val_precision: 0.9200 - val_recall: 0.9684\n",
            "Epoch 59/200\n",
            "44/44 - 0s - loss: 0.2415 - accuracy: 0.9181 - precision: 0.9278 - recall: 0.9204 - val_loss: 0.2310 - val_accuracy: 0.9314 - val_precision: 0.9192 - val_recall: 0.9579\n",
            "Epoch 60/200\n",
            "44/44 - 0s - loss: 0.2392 - accuracy: 0.9210 - precision: 0.9375 - recall: 0.9151 - val_loss: 0.2292 - val_accuracy: 0.9314 - val_precision: 0.9192 - val_recall: 0.9579\n",
            "Epoch 61/200\n",
            "44/44 - 0s - loss: 0.2321 - accuracy: 0.9267 - precision: 0.9382 - recall: 0.9257 - val_loss: 0.2284 - val_accuracy: 0.9314 - val_precision: 0.9192 - val_recall: 0.9579\n",
            "Epoch 62/200\n",
            "44/44 - 0s - loss: 0.2387 - accuracy: 0.9239 - precision: 0.9355 - recall: 0.9231 - val_loss: 0.2258 - val_accuracy: 0.9314 - val_precision: 0.9192 - val_recall: 0.9579\n",
            "Epoch 63/200\n",
            "44/44 - 0s - loss: 0.2314 - accuracy: 0.9253 - precision: 0.9310 - recall: 0.9310 - val_loss: 0.2245 - val_accuracy: 0.9314 - val_precision: 0.9192 - val_recall: 0.9579\n",
            "Epoch 64/200\n",
            "44/44 - 0s - loss: 0.2200 - accuracy: 0.9411 - precision: 0.9590 - recall: 0.9310 - val_loss: 0.2241 - val_accuracy: 0.9314 - val_precision: 0.9192 - val_recall: 0.9579\n",
            "Epoch 65/200\n",
            "44/44 - 0s - loss: 0.2202 - accuracy: 0.9310 - precision: 0.9458 - recall: 0.9257 - val_loss: 0.2233 - val_accuracy: 0.9314 - val_precision: 0.9192 - val_recall: 0.9579\n",
            "Epoch 66/200\n",
            "44/44 - 0s - loss: 0.2264 - accuracy: 0.9353 - precision: 0.9439 - recall: 0.9363 - val_loss: 0.2211 - val_accuracy: 0.9314 - val_precision: 0.9192 - val_recall: 0.9579\n",
            "Epoch 67/200\n",
            "44/44 - 0s - loss: 0.2207 - accuracy: 0.9353 - precision: 0.9486 - recall: 0.9310 - val_loss: 0.2195 - val_accuracy: 0.9314 - val_precision: 0.9192 - val_recall: 0.9579\n",
            "Epoch 68/200\n",
            "44/44 - 0s - loss: 0.2176 - accuracy: 0.9397 - precision: 0.9515 - recall: 0.9363 - val_loss: 0.2195 - val_accuracy: 0.9314 - val_precision: 0.9192 - val_recall: 0.9579\n",
            "Epoch 69/200\n",
            "44/44 - 0s - loss: 0.2166 - accuracy: 0.9325 - precision: 0.9412 - recall: 0.9337 - val_loss: 0.2171 - val_accuracy: 0.9314 - val_precision: 0.9192 - val_recall: 0.9579\n",
            "Epoch 70/200\n",
            "44/44 - 0s - loss: 0.2141 - accuracy: 0.9353 - precision: 0.9415 - recall: 0.9390 - val_loss: 0.2152 - val_accuracy: 0.9314 - val_precision: 0.9192 - val_recall: 0.9579\n",
            "Epoch 71/200\n",
            "44/44 - 0s - loss: 0.2138 - accuracy: 0.9353 - precision: 0.9462 - recall: 0.9337 - val_loss: 0.2139 - val_accuracy: 0.9314 - val_precision: 0.9192 - val_recall: 0.9579\n",
            "Epoch 72/200\n",
            "44/44 - 0s - loss: 0.2140 - accuracy: 0.9310 - precision: 0.9482 - recall: 0.9231 - val_loss: 0.2143 - val_accuracy: 0.9314 - val_precision: 0.9192 - val_recall: 0.9579\n",
            "Epoch 73/200\n",
            "44/44 - 0s - loss: 0.2043 - accuracy: 0.9368 - precision: 0.9537 - recall: 0.9284 - val_loss: 0.2144 - val_accuracy: 0.9314 - val_precision: 0.9192 - val_recall: 0.9579\n",
            "Epoch 74/200\n",
            "44/44 - 0s - loss: 0.2111 - accuracy: 0.9382 - precision: 0.9465 - recall: 0.9390 - val_loss: 0.2137 - val_accuracy: 0.9314 - val_precision: 0.9192 - val_recall: 0.9579\n",
            "Epoch 75/200\n",
            "44/44 - 0s - loss: 0.1963 - accuracy: 0.9440 - precision: 0.9568 - recall: 0.9390 - val_loss: 0.2113 - val_accuracy: 0.9314 - val_precision: 0.9192 - val_recall: 0.9579\n",
            "Epoch 76/200\n",
            "44/44 - 0s - loss: 0.2067 - accuracy: 0.9382 - precision: 0.9514 - recall: 0.9337 - val_loss: 0.2128 - val_accuracy: 0.9314 - val_precision: 0.9192 - val_recall: 0.9579\n",
            "Epoch 77/200\n",
            "44/44 - 0s - loss: 0.2057 - accuracy: 0.9425 - precision: 0.9542 - recall: 0.9390 - val_loss: 0.2117 - val_accuracy: 0.9314 - val_precision: 0.9192 - val_recall: 0.9579\n",
            "Epoch 78/200\n",
            "44/44 - 0s - loss: 0.1981 - accuracy: 0.9440 - precision: 0.9543 - recall: 0.9416 - val_loss: 0.2112 - val_accuracy: 0.9314 - val_precision: 0.9192 - val_recall: 0.9579\n",
            "Epoch 79/200\n",
            "44/44 - 0s - loss: 0.1934 - accuracy: 0.9497 - precision: 0.9622 - recall: 0.9443 - val_loss: 0.2091 - val_accuracy: 0.9314 - val_precision: 0.9192 - val_recall: 0.9579\n",
            "Epoch 80/200\n",
            "44/44 - 0s - loss: 0.2027 - accuracy: 0.9353 - precision: 0.9486 - recall: 0.9310 - val_loss: 0.2097 - val_accuracy: 0.9314 - val_precision: 0.9192 - val_recall: 0.9579\n",
            "Epoch 81/200\n",
            "44/44 - 0s - loss: 0.1935 - accuracy: 0.9454 - precision: 0.9544 - recall: 0.9443 - val_loss: 0.2080 - val_accuracy: 0.9314 - val_precision: 0.9192 - val_recall: 0.9579\n",
            "Epoch 82/200\n",
            "44/44 - 0s - loss: 0.1998 - accuracy: 0.9353 - precision: 0.9511 - recall: 0.9284 - val_loss: 0.2090 - val_accuracy: 0.9314 - val_precision: 0.9192 - val_recall: 0.9579\n",
            "Epoch 83/200\n",
            "44/44 - 0s - loss: 0.1901 - accuracy: 0.9468 - precision: 0.9645 - recall: 0.9363 - val_loss: 0.2082 - val_accuracy: 0.9314 - val_precision: 0.9192 - val_recall: 0.9579\n",
            "Epoch 84/200\n",
            "44/44 - 0s - loss: 0.1872 - accuracy: 0.9511 - precision: 0.9623 - recall: 0.9469 - val_loss: 0.2052 - val_accuracy: 0.9371 - val_precision: 0.9286 - val_recall: 0.9579\n",
            "Epoch 85/200\n",
            "44/44 - 0s - loss: 0.1979 - accuracy: 0.9353 - precision: 0.9462 - recall: 0.9337 - val_loss: 0.2054 - val_accuracy: 0.9314 - val_precision: 0.9192 - val_recall: 0.9579\n",
            "Epoch 86/200\n",
            "44/44 - 0s - loss: 0.1850 - accuracy: 0.9454 - precision: 0.9644 - recall: 0.9337 - val_loss: 0.2050 - val_accuracy: 0.9371 - val_precision: 0.9286 - val_recall: 0.9579\n",
            "Epoch 87/200\n",
            "44/44 - 0s - loss: 0.1820 - accuracy: 0.9483 - precision: 0.9571 - recall: 0.9469 - val_loss: 0.2062 - val_accuracy: 0.9371 - val_precision: 0.9286 - val_recall: 0.9579\n",
            "Epoch 88/200\n",
            "44/44 - 0s - loss: 0.1817 - accuracy: 0.9483 - precision: 0.9571 - recall: 0.9469 - val_loss: 0.2061 - val_accuracy: 0.9314 - val_precision: 0.9192 - val_recall: 0.9579\n",
            "Epoch 89/200\n",
            "44/44 - 0s - loss: 0.1862 - accuracy: 0.9511 - precision: 0.9648 - recall: 0.9443 - val_loss: 0.2056 - val_accuracy: 0.9371 - val_precision: 0.9286 - val_recall: 0.9579\n",
            "Epoch 90/200\n",
            "44/44 - 0s - loss: 0.1903 - accuracy: 0.9440 - precision: 0.9519 - recall: 0.9443 - val_loss: 0.2057 - val_accuracy: 0.9371 - val_precision: 0.9286 - val_recall: 0.9579\n",
            "Epoch 91/200\n",
            "44/44 - 0s - loss: 0.1815 - accuracy: 0.9483 - precision: 0.9621 - recall: 0.9416 - val_loss: 0.2068 - val_accuracy: 0.9314 - val_precision: 0.9192 - val_recall: 0.9579\n",
            "Epoch 92/200\n",
            "44/44 - 0s - loss: 0.1730 - accuracy: 0.9526 - precision: 0.9725 - recall: 0.9390 - val_loss: 0.2075 - val_accuracy: 0.9314 - val_precision: 0.9192 - val_recall: 0.9579\n",
            "Epoch 93/200\n",
            "44/44 - 0s - loss: 0.1706 - accuracy: 0.9526 - precision: 0.9649 - recall: 0.9469 - val_loss: 0.2066 - val_accuracy: 0.9314 - val_precision: 0.9192 - val_recall: 0.9579\n",
            "Epoch 94/200\n",
            "44/44 - 0s - loss: 0.1813 - accuracy: 0.9483 - precision: 0.9547 - recall: 0.9496 - val_loss: 0.2059 - val_accuracy: 0.9429 - val_precision: 0.9381 - val_recall: 0.9579\n",
            "Epoch 95/200\n",
            "44/44 - 0s - loss: 0.1759 - accuracy: 0.9555 - precision: 0.9601 - recall: 0.9576 - val_loss: 0.2052 - val_accuracy: 0.9429 - val_precision: 0.9381 - val_recall: 0.9579\n",
            "Epoch 96/200\n",
            "44/44 - 0s - loss: 0.1689 - accuracy: 0.9511 - precision: 0.9648 - recall: 0.9443 - val_loss: 0.2026 - val_accuracy: 0.9429 - val_precision: 0.9381 - val_recall: 0.9579\n",
            "Epoch 97/200\n",
            "44/44 - 0s - loss: 0.1610 - accuracy: 0.9626 - precision: 0.9782 - recall: 0.9523 - val_loss: 0.2052 - val_accuracy: 0.9371 - val_precision: 0.9286 - val_recall: 0.9579\n",
            "Epoch 98/200\n",
            "44/44 - 0s - loss: 0.1788 - accuracy: 0.9483 - precision: 0.9596 - recall: 0.9443 - val_loss: 0.2045 - val_accuracy: 0.9371 - val_precision: 0.9286 - val_recall: 0.9579\n",
            "Epoch 99/200\n",
            "44/44 - 0s - loss: 0.1694 - accuracy: 0.9483 - precision: 0.9571 - recall: 0.9469 - val_loss: 0.2056 - val_accuracy: 0.9371 - val_precision: 0.9286 - val_recall: 0.9579\n",
            "Epoch 100/200\n",
            "44/44 - 0s - loss: 0.1650 - accuracy: 0.9483 - precision: 0.9596 - recall: 0.9443 - val_loss: 0.2053 - val_accuracy: 0.9429 - val_precision: 0.9381 - val_recall: 0.9579\n",
            "Epoch 101/200\n",
            "44/44 - 0s - loss: 0.1661 - accuracy: 0.9540 - precision: 0.9576 - recall: 0.9576 - val_loss: 0.2044 - val_accuracy: 0.9371 - val_precision: 0.9286 - val_recall: 0.9579\n",
            "Epoch 102/200\n",
            "44/44 - 0s - loss: 0.1681 - accuracy: 0.9483 - precision: 0.9596 - recall: 0.9443 - val_loss: 0.2046 - val_accuracy: 0.9429 - val_precision: 0.9293 - val_recall: 0.9684\n",
            "Epoch 103/200\n",
            "44/44 - 0s - loss: 0.1679 - accuracy: 0.9526 - precision: 0.9599 - recall: 0.9523 - val_loss: 0.2052 - val_accuracy: 0.9371 - val_precision: 0.9286 - val_recall: 0.9579\n",
            "Epoch 104/200\n",
            "44/44 - 0s - loss: 0.1609 - accuracy: 0.9612 - precision: 0.9704 - recall: 0.9576 - val_loss: 0.2057 - val_accuracy: 0.9429 - val_precision: 0.9293 - val_recall: 0.9684\n",
            "Epoch 105/200\n",
            "44/44 - 0s - loss: 0.1651 - accuracy: 0.9540 - precision: 0.9600 - recall: 0.9549 - val_loss: 0.2039 - val_accuracy: 0.9371 - val_precision: 0.9286 - val_recall: 0.9579\n",
            "Epoch 106/200\n",
            "44/44 - 0s - loss: 0.1577 - accuracy: 0.9555 - precision: 0.9651 - recall: 0.9523 - val_loss: 0.2072 - val_accuracy: 0.9429 - val_precision: 0.9293 - val_recall: 0.9684\n",
            "Epoch 107/200\n",
            "44/44 - 0s - loss: 0.1567 - accuracy: 0.9583 - precision: 0.9703 - recall: 0.9523 - val_loss: 0.2055 - val_accuracy: 0.9429 - val_precision: 0.9293 - val_recall: 0.9684\n",
            "Epoch 108/200\n",
            "44/44 - 0s - loss: 0.1565 - accuracy: 0.9670 - precision: 0.9758 - recall: 0.9629 - val_loss: 0.2066 - val_accuracy: 0.9371 - val_precision: 0.9286 - val_recall: 0.9579\n",
            "Epoch 109/200\n",
            "44/44 - 0s - loss: 0.1517 - accuracy: 0.9626 - precision: 0.9705 - recall: 0.9602 - val_loss: 0.2077 - val_accuracy: 0.9429 - val_precision: 0.9293 - val_recall: 0.9684\n",
            "Epoch 110/200\n",
            "44/44 - 0s - loss: 0.1566 - accuracy: 0.9555 - precision: 0.9701 - recall: 0.9469 - val_loss: 0.2077 - val_accuracy: 0.9429 - val_precision: 0.9293 - val_recall: 0.9684\n",
            "Epoch 111/200\n",
            "44/44 - 0s - loss: 0.1624 - accuracy: 0.9612 - precision: 0.9730 - recall: 0.9549 - val_loss: 0.2077 - val_accuracy: 0.9429 - val_precision: 0.9293 - val_recall: 0.9684\n",
            "Epoch 112/200\n",
            "44/44 - 0s - loss: 0.1586 - accuracy: 0.9555 - precision: 0.9577 - recall: 0.9602 - val_loss: 0.2082 - val_accuracy: 0.9429 - val_precision: 0.9293 - val_recall: 0.9684\n",
            "Epoch 113/200\n",
            "44/44 - 0s - loss: 0.1516 - accuracy: 0.9555 - precision: 0.9626 - recall: 0.9549 - val_loss: 0.2067 - val_accuracy: 0.9429 - val_precision: 0.9293 - val_recall: 0.9684\n",
            "Epoch 114/200\n",
            "44/44 - 0s - loss: 0.1532 - accuracy: 0.9684 - precision: 0.9733 - recall: 0.9682 - val_loss: 0.2067 - val_accuracy: 0.9429 - val_precision: 0.9293 - val_recall: 0.9684\n",
            "Epoch 115/200\n",
            "44/44 - 0s - loss: 0.1512 - accuracy: 0.9569 - precision: 0.9651 - recall: 0.9549 - val_loss: 0.2070 - val_accuracy: 0.9486 - val_precision: 0.9388 - val_recall: 0.9684\n",
            "Epoch 116/200\n",
            "44/44 - 0s - loss: 0.1438 - accuracy: 0.9670 - precision: 0.9733 - recall: 0.9655 - val_loss: 0.2060 - val_accuracy: 0.9429 - val_precision: 0.9293 - val_recall: 0.9684\n",
            "Epoch 117/200\n",
            "44/44 - 0s - loss: 0.1609 - accuracy: 0.9583 - precision: 0.9677 - recall: 0.9549 - val_loss: 0.2096 - val_accuracy: 0.9429 - val_precision: 0.9293 - val_recall: 0.9684\n",
            "Epoch 118/200\n",
            "44/44 - 0s - loss: 0.1492 - accuracy: 0.9655 - precision: 0.9757 - recall: 0.9602 - val_loss: 0.2083 - val_accuracy: 0.9429 - val_precision: 0.9293 - val_recall: 0.9684\n",
            "Epoch 119/200\n",
            "44/44 - 0s - loss: 0.1525 - accuracy: 0.9555 - precision: 0.9676 - recall: 0.9496 - val_loss: 0.2110 - val_accuracy: 0.9429 - val_precision: 0.9293 - val_recall: 0.9684\n",
            "Epoch 120/200\n",
            "44/44 - 0s - loss: 0.1444 - accuracy: 0.9727 - precision: 0.9761 - recall: 0.9735 - val_loss: 0.2088 - val_accuracy: 0.9429 - val_precision: 0.9293 - val_recall: 0.9684\n",
            "Epoch 121/200\n",
            "44/44 - 0s - loss: 0.1523 - accuracy: 0.9626 - precision: 0.9705 - recall: 0.9602 - val_loss: 0.2073 - val_accuracy: 0.9486 - val_precision: 0.9388 - val_recall: 0.9684\n",
            "Epoch 122/200\n",
            "44/44 - 0s - loss: 0.1563 - accuracy: 0.9540 - precision: 0.9625 - recall: 0.9523 - val_loss: 0.2082 - val_accuracy: 0.9429 - val_precision: 0.9293 - val_recall: 0.9684\n",
            "Epoch 123/200\n",
            "44/44 - 0s - loss: 0.1462 - accuracy: 0.9569 - precision: 0.9627 - recall: 0.9576 - val_loss: 0.2099 - val_accuracy: 0.9429 - val_precision: 0.9293 - val_recall: 0.9684\n",
            "Epoch 124/200\n",
            "44/44 - 0s - loss: 0.1507 - accuracy: 0.9670 - precision: 0.9810 - recall: 0.9576 - val_loss: 0.2085 - val_accuracy: 0.9486 - val_precision: 0.9388 - val_recall: 0.9684\n",
            "Epoch 125/200\n",
            "44/44 - 0s - loss: 0.1487 - accuracy: 0.9583 - precision: 0.9703 - recall: 0.9523 - val_loss: 0.2102 - val_accuracy: 0.9429 - val_precision: 0.9293 - val_recall: 0.9684\n",
            "Epoch 126/200\n",
            "44/44 - 0s - loss: 0.1544 - accuracy: 0.9497 - precision: 0.9622 - recall: 0.9443 - val_loss: 0.2110 - val_accuracy: 0.9371 - val_precision: 0.9200 - val_recall: 0.9684\n",
            "Epoch 127/200\n",
            "44/44 - 0s - loss: 0.1353 - accuracy: 0.9684 - precision: 0.9810 - recall: 0.9602 - val_loss: 0.2132 - val_accuracy: 0.9371 - val_precision: 0.9200 - val_recall: 0.9684\n",
            "Epoch 128/200\n",
            "44/44 - 0s - loss: 0.1459 - accuracy: 0.9670 - precision: 0.9758 - recall: 0.9629 - val_loss: 0.2133 - val_accuracy: 0.9371 - val_precision: 0.9200 - val_recall: 0.9684\n",
            "Epoch 129/200\n",
            "44/44 - 0s - loss: 0.1450 - accuracy: 0.9555 - precision: 0.9626 - recall: 0.9549 - val_loss: 0.2103 - val_accuracy: 0.9486 - val_precision: 0.9388 - val_recall: 0.9684\n",
            "Epoch 130/200\n",
            "44/44 - 0s - loss: 0.1436 - accuracy: 0.9698 - precision: 0.9811 - recall: 0.9629 - val_loss: 0.2109 - val_accuracy: 0.9429 - val_precision: 0.9293 - val_recall: 0.9684\n",
            "Epoch 131/200\n",
            "44/44 - 0s - loss: 0.1414 - accuracy: 0.9641 - precision: 0.9757 - recall: 0.9576 - val_loss: 0.2121 - val_accuracy: 0.9486 - val_precision: 0.9388 - val_recall: 0.9684\n",
            "Epoch 132/200\n",
            "44/44 - 0s - loss: 0.1406 - accuracy: 0.9641 - precision: 0.9783 - recall: 0.9549 - val_loss: 0.2114 - val_accuracy: 0.9429 - val_precision: 0.9293 - val_recall: 0.9684\n",
            "Epoch 133/200\n",
            "44/44 - 0s - loss: 0.1478 - accuracy: 0.9612 - precision: 0.9704 - recall: 0.9576 - val_loss: 0.2158 - val_accuracy: 0.9371 - val_precision: 0.9200 - val_recall: 0.9684\n",
            "Epoch 134/200\n",
            "44/44 - 0s - loss: 0.1470 - accuracy: 0.9670 - precision: 0.9784 - recall: 0.9602 - val_loss: 0.2153 - val_accuracy: 0.9371 - val_precision: 0.9200 - val_recall: 0.9684\n",
            "Epoch 135/200\n",
            "44/44 - 0s - loss: 0.1396 - accuracy: 0.9698 - precision: 0.9709 - recall: 0.9735 - val_loss: 0.2131 - val_accuracy: 0.9371 - val_precision: 0.9200 - val_recall: 0.9684\n",
            "Epoch 136/200\n",
            "44/44 - 0s - loss: 0.1414 - accuracy: 0.9713 - precision: 0.9760 - recall: 0.9708 - val_loss: 0.2139 - val_accuracy: 0.9429 - val_precision: 0.9293 - val_recall: 0.9684\n",
            "Epoch 137/200\n",
            "44/44 - 0s - loss: 0.1405 - accuracy: 0.9655 - precision: 0.9783 - recall: 0.9576 - val_loss: 0.2140 - val_accuracy: 0.9371 - val_precision: 0.9200 - val_recall: 0.9684\n",
            "Epoch 138/200\n",
            "44/44 - 0s - loss: 0.1378 - accuracy: 0.9670 - precision: 0.9733 - recall: 0.9655 - val_loss: 0.2150 - val_accuracy: 0.9371 - val_precision: 0.9200 - val_recall: 0.9684\n",
            "Epoch 139/200\n",
            "44/44 - 0s - loss: 0.1390 - accuracy: 0.9626 - precision: 0.9756 - recall: 0.9549 - val_loss: 0.2170 - val_accuracy: 0.9371 - val_precision: 0.9200 - val_recall: 0.9684\n",
            "Epoch 140/200\n",
            "44/44 - 0s - loss: 0.1370 - accuracy: 0.9670 - precision: 0.9836 - recall: 0.9549 - val_loss: 0.2194 - val_accuracy: 0.9371 - val_precision: 0.9200 - val_recall: 0.9684\n",
            "Epoch 141/200\n",
            "44/44 - 0s - loss: 0.1450 - accuracy: 0.9655 - precision: 0.9707 - recall: 0.9655 - val_loss: 0.2173 - val_accuracy: 0.9371 - val_precision: 0.9200 - val_recall: 0.9684\n",
            "Epoch 142/200\n",
            "44/44 - 0s - loss: 0.1312 - accuracy: 0.9655 - precision: 0.9757 - recall: 0.9602 - val_loss: 0.2182 - val_accuracy: 0.9371 - val_precision: 0.9200 - val_recall: 0.9684\n",
            "Epoch 143/200\n",
            "44/44 - 0s - loss: 0.1355 - accuracy: 0.9670 - precision: 0.9784 - recall: 0.9602 - val_loss: 0.2153 - val_accuracy: 0.9371 - val_precision: 0.9200 - val_recall: 0.9684\n",
            "Epoch 144/200\n",
            "44/44 - 0s - loss: 0.1279 - accuracy: 0.9741 - precision: 0.9864 - recall: 0.9655 - val_loss: 0.2151 - val_accuracy: 0.9371 - val_precision: 0.9200 - val_recall: 0.9684\n",
            "Epoch 145/200\n",
            "44/44 - 0s - loss: 0.1312 - accuracy: 0.9698 - precision: 0.9785 - recall: 0.9655 - val_loss: 0.2140 - val_accuracy: 0.9371 - val_precision: 0.9200 - val_recall: 0.9684\n",
            "Epoch 146/200\n",
            "44/44 - 0s - loss: 0.1424 - accuracy: 0.9670 - precision: 0.9758 - recall: 0.9629 - val_loss: 0.2152 - val_accuracy: 0.9371 - val_precision: 0.9200 - val_recall: 0.9684\n",
            "\n",
            "Epoch 00146: ReduceLROnPlateau reducing learning rate to 0.0009999999776482583.\n",
            "Epoch 147/200\n",
            "44/44 - 0s - loss: 0.1356 - accuracy: 0.9641 - precision: 0.9731 - recall: 0.9602 - val_loss: 0.2153 - val_accuracy: 0.9371 - val_precision: 0.9200 - val_recall: 0.9684\n",
            "Epoch 148/200\n",
            "44/44 - 0s - loss: 0.1308 - accuracy: 0.9626 - precision: 0.9655 - recall: 0.9655 - val_loss: 0.2152 - val_accuracy: 0.9371 - val_precision: 0.9200 - val_recall: 0.9684\n",
            "Epoch 149/200\n",
            "44/44 - 0s - loss: 0.1332 - accuracy: 0.9626 - precision: 0.9730 - recall: 0.9576 - val_loss: 0.2152 - val_accuracy: 0.9371 - val_precision: 0.9200 - val_recall: 0.9684\n",
            "Epoch 150/200\n",
            "44/44 - 0s - loss: 0.1335 - accuracy: 0.9670 - precision: 0.9733 - recall: 0.9655 - val_loss: 0.2150 - val_accuracy: 0.9371 - val_precision: 0.9200 - val_recall: 0.9684\n",
            "Epoch 151/200\n",
            "44/44 - 0s - loss: 0.1303 - accuracy: 0.9713 - precision: 0.9710 - recall: 0.9761 - val_loss: 0.2151 - val_accuracy: 0.9371 - val_precision: 0.9200 - val_recall: 0.9684\n",
            "Epoch 152/200\n",
            "44/44 - 0s - loss: 0.1335 - accuracy: 0.9741 - precision: 0.9864 - recall: 0.9655 - val_loss: 0.2152 - val_accuracy: 0.9371 - val_precision: 0.9200 - val_recall: 0.9684\n",
            "Epoch 153/200\n",
            "44/44 - 0s - loss: 0.1335 - accuracy: 0.9641 - precision: 0.9706 - recall: 0.9629 - val_loss: 0.2156 - val_accuracy: 0.9371 - val_precision: 0.9200 - val_recall: 0.9684\n",
            "Epoch 154/200\n",
            "44/44 - 0s - loss: 0.1227 - accuracy: 0.9756 - precision: 0.9839 - recall: 0.9708 - val_loss: 0.2158 - val_accuracy: 0.9371 - val_precision: 0.9200 - val_recall: 0.9684\n",
            "Epoch 155/200\n",
            "44/44 - 0s - loss: 0.1371 - accuracy: 0.9655 - precision: 0.9757 - recall: 0.9602 - val_loss: 0.2159 - val_accuracy: 0.9371 - val_precision: 0.9200 - val_recall: 0.9684\n",
            "Epoch 156/200\n",
            "44/44 - 0s - loss: 0.1386 - accuracy: 0.9684 - precision: 0.9784 - recall: 0.9629 - val_loss: 0.2165 - val_accuracy: 0.9371 - val_precision: 0.9200 - val_recall: 0.9684\n",
            "Epoch 157/200\n",
            "44/44 - 0s - loss: 0.1277 - accuracy: 0.9626 - precision: 0.9680 - recall: 0.9629 - val_loss: 0.2168 - val_accuracy: 0.9371 - val_precision: 0.9200 - val_recall: 0.9684\n",
            "Epoch 158/200\n",
            "44/44 - 0s - loss: 0.1361 - accuracy: 0.9655 - precision: 0.9682 - recall: 0.9682 - val_loss: 0.2168 - val_accuracy: 0.9371 - val_precision: 0.9200 - val_recall: 0.9684\n",
            "Epoch 159/200\n",
            "44/44 - 0s - loss: 0.1342 - accuracy: 0.9698 - precision: 0.9837 - recall: 0.9602 - val_loss: 0.2164 - val_accuracy: 0.9371 - val_precision: 0.9200 - val_recall: 0.9684\n",
            "Epoch 160/200\n",
            "44/44 - 0s - loss: 0.1253 - accuracy: 0.9770 - precision: 0.9839 - recall: 0.9735 - val_loss: 0.2165 - val_accuracy: 0.9371 - val_precision: 0.9200 - val_recall: 0.9684\n",
            "Epoch 161/200\n",
            "44/44 - 0s - loss: 0.1325 - accuracy: 0.9641 - precision: 0.9656 - recall: 0.9682 - val_loss: 0.2169 - val_accuracy: 0.9371 - val_precision: 0.9200 - val_recall: 0.9684\n",
            "Epoch 162/200\n",
            "44/44 - 0s - loss: 0.1310 - accuracy: 0.9684 - precision: 0.9733 - recall: 0.9682 - val_loss: 0.2169 - val_accuracy: 0.9371 - val_precision: 0.9200 - val_recall: 0.9684\n",
            "Epoch 163/200\n",
            "44/44 - 0s - loss: 0.1244 - accuracy: 0.9727 - precision: 0.9812 - recall: 0.9682 - val_loss: 0.2169 - val_accuracy: 0.9371 - val_precision: 0.9200 - val_recall: 0.9684\n",
            "Epoch 164/200\n",
            "44/44 - 0s - loss: 0.1252 - accuracy: 0.9713 - precision: 0.9760 - recall: 0.9708 - val_loss: 0.2169 - val_accuracy: 0.9371 - val_precision: 0.9200 - val_recall: 0.9684\n",
            "Epoch 165/200\n",
            "44/44 - 0s - loss: 0.1310 - accuracy: 0.9698 - precision: 0.9811 - recall: 0.9629 - val_loss: 0.2170 - val_accuracy: 0.9371 - val_precision: 0.9200 - val_recall: 0.9684\n",
            "Epoch 166/200\n",
            "44/44 - 0s - loss: 0.1395 - accuracy: 0.9626 - precision: 0.9705 - recall: 0.9602 - val_loss: 0.2174 - val_accuracy: 0.9371 - val_precision: 0.9200 - val_recall: 0.9684\n",
            "Epoch 167/200\n",
            "44/44 - 0s - loss: 0.1370 - accuracy: 0.9626 - precision: 0.9730 - recall: 0.9576 - val_loss: 0.2178 - val_accuracy: 0.9371 - val_precision: 0.9200 - val_recall: 0.9684\n",
            "Epoch 168/200\n",
            "44/44 - 0s - loss: 0.1380 - accuracy: 0.9583 - precision: 0.9628 - recall: 0.9602 - val_loss: 0.2174 - val_accuracy: 0.9371 - val_precision: 0.9200 - val_recall: 0.9684\n",
            "Epoch 169/200\n",
            "44/44 - 0s - loss: 0.1476 - accuracy: 0.9598 - precision: 0.9629 - recall: 0.9629 - val_loss: 0.2174 - val_accuracy: 0.9371 - val_precision: 0.9200 - val_recall: 0.9684\n",
            "Epoch 170/200\n",
            "44/44 - 0s - loss: 0.1388 - accuracy: 0.9655 - precision: 0.9732 - recall: 0.9629 - val_loss: 0.2177 - val_accuracy: 0.9371 - val_precision: 0.9200 - val_recall: 0.9684\n",
            "Epoch 171/200\n",
            "44/44 - 0s - loss: 0.1314 - accuracy: 0.9626 - precision: 0.9655 - recall: 0.9655 - val_loss: 0.2175 - val_accuracy: 0.9371 - val_precision: 0.9200 - val_recall: 0.9684\n",
            "Epoch 172/200\n",
            "44/44 - 0s - loss: 0.1374 - accuracy: 0.9698 - precision: 0.9785 - recall: 0.9655 - val_loss: 0.2176 - val_accuracy: 0.9371 - val_precision: 0.9200 - val_recall: 0.9684\n",
            "Epoch 173/200\n",
            "44/44 - 0s - loss: 0.1240 - accuracy: 0.9684 - precision: 0.9733 - recall: 0.9682 - val_loss: 0.2175 - val_accuracy: 0.9371 - val_precision: 0.9200 - val_recall: 0.9684\n",
            "Epoch 174/200\n",
            "44/44 - 0s - loss: 0.1263 - accuracy: 0.9756 - precision: 0.9787 - recall: 0.9761 - val_loss: 0.2174 - val_accuracy: 0.9371 - val_precision: 0.9200 - val_recall: 0.9684\n",
            "Epoch 175/200\n",
            "44/44 - 0s - loss: 0.1261 - accuracy: 0.9727 - precision: 0.9812 - recall: 0.9682 - val_loss: 0.2177 - val_accuracy: 0.9371 - val_precision: 0.9200 - val_recall: 0.9684\n",
            "Epoch 176/200\n",
            "44/44 - 0s - loss: 0.1344 - accuracy: 0.9670 - precision: 0.9733 - recall: 0.9655 - val_loss: 0.2174 - val_accuracy: 0.9371 - val_precision: 0.9200 - val_recall: 0.9684\n",
            "Epoch 177/200\n",
            "44/44 - 0s - loss: 0.1194 - accuracy: 0.9741 - precision: 0.9812 - recall: 0.9708 - val_loss: 0.2174 - val_accuracy: 0.9371 - val_precision: 0.9200 - val_recall: 0.9684\n",
            "Epoch 178/200\n",
            "44/44 - 0s - loss: 0.1314 - accuracy: 0.9655 - precision: 0.9757 - recall: 0.9602 - val_loss: 0.2174 - val_accuracy: 0.9371 - val_precision: 0.9200 - val_recall: 0.9684\n",
            "Epoch 179/200\n",
            "44/44 - 0s - loss: 0.1294 - accuracy: 0.9698 - precision: 0.9811 - recall: 0.9629 - val_loss: 0.2176 - val_accuracy: 0.9371 - val_precision: 0.9200 - val_recall: 0.9684\n",
            "Epoch 180/200\n",
            "44/44 - 0s - loss: 0.1383 - accuracy: 0.9741 - precision: 0.9787 - recall: 0.9735 - val_loss: 0.2178 - val_accuracy: 0.9371 - val_precision: 0.9200 - val_recall: 0.9684\n",
            "Epoch 181/200\n",
            "44/44 - 0s - loss: 0.1338 - accuracy: 0.9727 - precision: 0.9761 - recall: 0.9735 - val_loss: 0.2177 - val_accuracy: 0.9371 - val_precision: 0.9200 - val_recall: 0.9684\n",
            "Epoch 182/200\n",
            "44/44 - 0s - loss: 0.1284 - accuracy: 0.9655 - precision: 0.9732 - recall: 0.9629 - val_loss: 0.2176 - val_accuracy: 0.9371 - val_precision: 0.9200 - val_recall: 0.9684\n",
            "Epoch 183/200\n",
            "44/44 - 0s - loss: 0.1289 - accuracy: 0.9741 - precision: 0.9812 - recall: 0.9708 - val_loss: 0.2176 - val_accuracy: 0.9371 - val_precision: 0.9200 - val_recall: 0.9684\n",
            "Epoch 184/200\n",
            "44/44 - 0s - loss: 0.1335 - accuracy: 0.9641 - precision: 0.9757 - recall: 0.9576 - val_loss: 0.2176 - val_accuracy: 0.9371 - val_precision: 0.9200 - val_recall: 0.9684\n",
            "Epoch 185/200\n",
            "44/44 - 0s - loss: 0.1292 - accuracy: 0.9698 - precision: 0.9863 - recall: 0.9576 - val_loss: 0.2179 - val_accuracy: 0.9371 - val_precision: 0.9200 - val_recall: 0.9684\n",
            "Epoch 186/200\n",
            "44/44 - 0s - loss: 0.1197 - accuracy: 0.9770 - precision: 0.9865 - recall: 0.9708 - val_loss: 0.2181 - val_accuracy: 0.9371 - val_precision: 0.9200 - val_recall: 0.9684\n",
            "Epoch 187/200\n",
            "44/44 - 0s - loss: 0.1350 - accuracy: 0.9670 - precision: 0.9758 - recall: 0.9629 - val_loss: 0.2184 - val_accuracy: 0.9371 - val_precision: 0.9200 - val_recall: 0.9684\n",
            "Epoch 188/200\n",
            "44/44 - 0s - loss: 0.1312 - accuracy: 0.9698 - precision: 0.9837 - recall: 0.9602 - val_loss: 0.2181 - val_accuracy: 0.9371 - val_precision: 0.9200 - val_recall: 0.9684\n",
            "Epoch 189/200\n",
            "44/44 - 0s - loss: 0.1279 - accuracy: 0.9655 - precision: 0.9707 - recall: 0.9655 - val_loss: 0.2184 - val_accuracy: 0.9371 - val_precision: 0.9200 - val_recall: 0.9684\n",
            "Epoch 190/200\n",
            "44/44 - 0s - loss: 0.1321 - accuracy: 0.9655 - precision: 0.9657 - recall: 0.9708 - val_loss: 0.2183 - val_accuracy: 0.9371 - val_precision: 0.9200 - val_recall: 0.9684\n",
            "Epoch 191/200\n",
            "44/44 - 0s - loss: 0.1384 - accuracy: 0.9598 - precision: 0.9629 - recall: 0.9629 - val_loss: 0.2183 - val_accuracy: 0.9371 - val_precision: 0.9200 - val_recall: 0.9684\n",
            "Epoch 192/200\n",
            "44/44 - 0s - loss: 0.1270 - accuracy: 0.9727 - precision: 0.9838 - recall: 0.9655 - val_loss: 0.2185 - val_accuracy: 0.9371 - val_precision: 0.9200 - val_recall: 0.9684\n",
            "Epoch 193/200\n",
            "44/44 - 0s - loss: 0.1298 - accuracy: 0.9756 - precision: 0.9813 - recall: 0.9735 - val_loss: 0.2186 - val_accuracy: 0.9371 - val_precision: 0.9200 - val_recall: 0.9684\n",
            "Epoch 194/200\n",
            "44/44 - 0s - loss: 0.1261 - accuracy: 0.9741 - precision: 0.9787 - recall: 0.9735 - val_loss: 0.2184 - val_accuracy: 0.9371 - val_precision: 0.9200 - val_recall: 0.9684\n",
            "Epoch 195/200\n",
            "44/44 - 0s - loss: 0.1285 - accuracy: 0.9727 - precision: 0.9761 - recall: 0.9735 - val_loss: 0.2185 - val_accuracy: 0.9371 - val_precision: 0.9200 - val_recall: 0.9684\n",
            "Epoch 196/200\n",
            "44/44 - 0s - loss: 0.1201 - accuracy: 0.9756 - precision: 0.9787 - recall: 0.9761 - val_loss: 0.2182 - val_accuracy: 0.9371 - val_precision: 0.9200 - val_recall: 0.9684\n",
            "\n",
            "Epoch 00196: ReduceLROnPlateau reducing learning rate to 9.999999310821295e-05.\n",
            "Epoch 197/200\n",
            "44/44 - 0s - loss: 0.1155 - accuracy: 0.9784 - precision: 0.9840 - recall: 0.9761 - val_loss: 0.2182 - val_accuracy: 0.9371 - val_precision: 0.9200 - val_recall: 0.9684\n",
            "Epoch 198/200\n",
            "44/44 - 0s - loss: 0.1227 - accuracy: 0.9713 - precision: 0.9917 - recall: 0.9549 - val_loss: 0.2182 - val_accuracy: 0.9371 - val_precision: 0.9200 - val_recall: 0.9684\n",
            "Epoch 199/200\n",
            "44/44 - 0s - loss: 0.1228 - accuracy: 0.9727 - precision: 0.9838 - recall: 0.9655 - val_loss: 0.2182 - val_accuracy: 0.9371 - val_precision: 0.9200 - val_recall: 0.9684\n",
            "Epoch 200/200\n",
            "44/44 - 0s - loss: 0.1286 - accuracy: 0.9727 - precision: 0.9891 - recall: 0.9602 - val_loss: 0.2182 - val_accuracy: 0.9371 - val_precision: 0.9200 - val_recall: 0.9684\n"
          ],
          "name": "stdout"
        }
      ]
    },
    {
      "cell_type": "code",
      "metadata": {
        "id": "v-Y5F8CwMudg",
        "colab": {
          "base_uri": "https://localhost:8080/"
        },
        "outputId": "d0f6474e-034f-4865-bc8e-f166d65ab32c"
      },
      "source": [
        "print(history.history.keys())"
      ],
      "execution_count": null,
      "outputs": [
        {
          "output_type": "stream",
          "text": [
            "dict_keys(['loss', 'accuracy', 'precision', 'recall', 'val_loss', 'val_accuracy', 'val_precision', 'val_recall', 'lr'])\n"
          ],
          "name": "stdout"
        }
      ]
    },
    {
      "cell_type": "code",
      "metadata": {
        "id": "5bXdOC9eRDjR",
        "colab": {
          "base_uri": "https://localhost:8080/",
          "height": 295
        },
        "outputId": "829ef912-9a64-4fed-eaa1-e2d3c1a23440"
      },
      "source": [
        "plt.plot(history.history['accuracy'])\n",
        "plt.plot(history.history['val_accuracy'])\n",
        "plt.title('Training Vs Validation Accuracy')\n",
        "plt.ylabel('Accuracy')\n",
        "plt.xlabel('Number of Epochs')\n",
        "plt.legend(['Train', 'Test'], loc='upper left')\n",
        "plt.savefig('Training_validation_accuracy_2L_1D_128_64_FLAT.png')\n",
        "plt.show()"
      ],
      "execution_count": null,
      "outputs": [
        {
          "output_type": "display_data",
          "data": {
            "image/png": "[encoded data removed]",
            "text/plain": [
              "<Figure size 432x288 with 1 Axes>"
            ]
          },
          "metadata": {
            "tags": [],
            "needs_background": "light"
          }
        }
      ]
    },
    {
      "cell_type": "code",
      "metadata": {
        "id": "k1_N8NsdRJjk",
        "colab": {
          "base_uri": "https://localhost:8080/",
          "height": 295
        },
        "outputId": "3158f253-714b-451d-e40a-9538ae501338"
      },
      "source": [
        "plt.plot(history.history['loss'])\n",
        "plt.plot(history.history['val_loss'])\n",
        "plt.title('Training Vs Validation Loss')\n",
        "plt.ylabel('Loss')\n",
        "plt.xlabel('Number of Epochs')\n",
        "plt.legend(['Train', 'Test'])\n",
        "plt.savefig('Training_Validation_loss_2L_1D_128_64_FLAT.png')\n",
        "plt.show()"
      ],
      "execution_count": null,
      "outputs": [
        {
          "output_type": "display_data",
          "data": {
            "image/png": "[encoded data removed]",
            "text/plain": [
              "<Figure size 432x288 with 1 Axes>"
            ]
          },
          "metadata": {
            "tags": [],
            "needs_background": "light"
          }
        }
      ]
    },
    {
      "cell_type": "code",
      "metadata": {
        "id": "bw3yhhq_-XPl"
      },
      "source": [
        ""
      ],
      "execution_count": null,
      "outputs": []
    },
    {
      "cell_type": "markdown",
      "metadata": {
        "id": "N_q5A-g_-GPU"
      },
      "source": [
        "### RESULTS & METRICS"
      ]
    },
    {
      "cell_type": "code",
      "metadata": {
        "id": "ppxAWWsZBwzz"
      },
      "source": [
        ""
      ],
      "execution_count": null,
      "outputs": []
    },
    {
      "cell_type": "code",
      "metadata": {
        "colab": {
          "base_uri": "https://localhost:8080/"
        },
        "id": "pnRaDaKdLWEF",
        "outputId": "9dc63793-ca3e-4c4c-bba1-aea2a2605e41"
      },
      "source": [
        "scores = model.evaluate(Xtrain, ytrain)\n",
        "print(f'Accuracy: {scores[1]} \\n Error: {1 - scores[1]}')"
      ],
      "execution_count": null,
      "outputs": [
        {
          "output_type": "stream",
          "text": [
            "22/22 [==============================] - 0s 3ms/step - loss: 0.1146 - accuracy: 0.9713 - precision: 0.9811 - recall: 0.9655\n",
            "Accuracy: 0.9712643623352051 \n",
            " Error: 0.028735637664794922\n"
          ],
          "name": "stdout"
        }
      ]
    },
    {
      "cell_type": "code",
      "metadata": {
        "colab": {
          "base_uri": "https://localhost:8080/"
        },
        "id": "t1A1qscVLWHG",
        "outputId": "38fbb109-5a08-418f-ba6d-660809bad5b7"
      },
      "source": [
        "# 2LAYERS , 1 DROPOUTS , 128 AND 64 NEURONS\n",
        "scores = model.evaluate(Xtest, ytest)\n",
        "print(f'Accuracy: {scores[1]} \\n Error: {1 - scores[1]}')"
      ],
      "execution_count": null,
      "outputs": [
        {
          "output_type": "stream",
          "text": [
            "6/6 [==============================] - 0s 2ms/step - loss: 0.2182 - accuracy: 0.9371 - precision: 0.9200 - recall: 0.9684\n",
            "Accuracy: 0.9371428489685059 \n",
            " Error: 0.06285715103149414\n"
          ],
          "name": "stdout"
        }
      ]
    },
    {
      "cell_type": "code",
      "metadata": {
        "id": "lVgr06KyLcep"
      },
      "source": [
        ""
      ],
      "execution_count": null,
      "outputs": []
    },
    {
      "cell_type": "code",
      "metadata": {
        "id": "ImCfp5Debn5C"
      },
      "source": [
        ""
      ],
      "execution_count": null,
      "outputs": []
    },
    {
      "cell_type": "markdown",
      "metadata": {
        "id": "nNa8jGBrbqTF"
      },
      "source": [
        "### Final Model on Full Data"
      ]
    },
    {
      "cell_type": "code",
      "metadata": {
        "colab": {
          "base_uri": "https://localhost:8080/"
        },
        "id": "CFyN3810yNvG",
        "outputId": "4c07877d-e23c-48c5-b49d-127e732fd01f"
      },
      "source": [
        "scores = model.evaluate(X, y)\n",
        "print(f'Accuracy: {scores[1]} \\n Error: {1 - scores[1]}')"
      ],
      "execution_count": null,
      "outputs": [
        {
          "output_type": "stream",
          "text": [
            "28/28 [==============================] - 0s 1ms/step - loss: 0.1161 - accuracy: 0.9736 - precision: 0.9849 - recall: 0.9661\n",
            "Accuracy: 0.9735935926437378 \n",
            " Error: 0.026406407356262207\n"
          ],
          "name": "stdout"
        }
      ]
    },
    {
      "cell_type": "code",
      "metadata": {
        "colab": {
          "base_uri": "https://localhost:8080/"
        },
        "id": "MWIseIcw-ZQc",
        "outputId": "ee30aaaa-5650-43a4-ce63-4cf57a45ebeb"
      },
      "source": [
        "# 2LAYERS , 2 DROPOUTS , 128 AND 64 NEURONS , ACCURACY = 94.86\n",
        "\n",
        "scores = model.evaluate(Xtest, ytest)\n",
        "print(f'Accuracy: {scores[1]} \\n Error: {1 - scores[1]}')"
      ],
      "execution_count": null,
      "outputs": [
        {
          "output_type": "stream",
          "text": [
            "6/6 [==============================] - 0s 2ms/step - loss: 0.1985 - accuracy: 0.9257 - precision: 0.9362 - recall: 0.9263\n",
            "Accuracy: 0.9257143139839172 \n",
            " Error: 0.07428568601608276\n"
          ],
          "name": "stdout"
        }
      ]
    },
    {
      "cell_type": "code",
      "metadata": {
        "id": "1ZSt9kgARPAU",
        "colab": {
          "base_uri": "https://localhost:8080/"
        },
        "outputId": "ba50f4f4-1030-44f4-b60f-80d1dd7147f2"
      },
      "source": [
        "y_neural_pred = model.predict(Xtest)\n",
        "\n",
        "y_label_predictions = tf.round(y_neural_pred).numpy().flatten()\n",
        "\n",
        "confusionMatrix = confusion_matrix(ytest,y_label_predictions)\n",
        "print('Confusion Matrix')\n",
        "print(confusionMatrix)\n",
        "print()\n",
        "print(len(Xtest))\n",
        "print()\n",
        "print('Classification Report')\n",
        "print()\n",
        "classNames = ['No Disease', 'Disease']\n",
        "print(classification_report(ytest,y_label_predictions, target_names=classNames))\n"
      ],
      "execution_count": null,
      "outputs": [
        {
          "output_type": "stream",
          "text": [
            "Confusion Matrix\n",
            "[[72  8]\n",
            " [ 3 92]]\n",
            "\n",
            "175\n",
            "\n",
            "Classification Report\n",
            "\n",
            "              precision    recall  f1-score   support\n",
            "\n",
            "  No Disease       0.96      0.90      0.93        80\n",
            "     Disease       0.92      0.97      0.94        95\n",
            "\n",
            "    accuracy                           0.94       175\n",
            "   macro avg       0.94      0.93      0.94       175\n",
            "weighted avg       0.94      0.94      0.94       175\n",
            "\n"
          ],
          "name": "stdout"
        }
      ]
    },
    {
      "cell_type": "markdown",
      "metadata": {
        "id": "o8BIeRb_2F1j"
      },
      "source": [
        "## SAVING ORIGINAL MODEL "
      ]
    },
    {
      "cell_type": "code",
      "metadata": {
        "id": "FAknTF3k2EqK"
      },
      "source": [
        "# Save the entire model as a SavedModel.\n",
        "# !mkdir -p saved_model\n",
        "model.save('saved_model/harp_orig_model.h5')"
      ],
      "execution_count": null,
      "outputs": []
    },
    {
      "cell_type": "code",
      "metadata": {
        "id": "yuqKsBxV2E1Z"
      },
      "source": [
        "new_model = tf.keras.models.load_model('saved_model/harp_orig_model.h5')"
      ],
      "execution_count": null,
      "outputs": []
    },
    {
      "cell_type": "code",
      "metadata": {
        "id": "6v6Otla03oWF"
      },
      "source": [
        "loss, acc = new_model.evaluate(test_images, test_labels, verbose=2)\n",
        "print('Restored model, accuracy: {:5.2f}%'.format(100 * acc))"
      ],
      "execution_count": null,
      "outputs": []
    },
    {
      "cell_type": "code",
      "metadata": {
        "colab": {
          "base_uri": "https://localhost:8080/"
        },
        "id": "PA29az5f5Wd3",
        "outputId": "54e1f1f0-1be9-4208-a359-c730fdca939b"
      },
      "source": [
        "Xtest[0].reshape(-1,22).shape"
      ],
      "execution_count": null,
      "outputs": [
        {
          "output_type": "execute_result",
          "data": {
            "text/plain": [
              "(1, 22)"
            ]
          },
          "metadata": {
            "tags": []
          },
          "execution_count": 48
        }
      ]
    },
    {
      "cell_type": "code",
      "metadata": {
        "colab": {
          "base_uri": "https://localhost:8080/"
        },
        "id": "5kvC-Kc63oZW",
        "outputId": "371365b1-3525-405f-bb51-5d97da809c31"
      },
      "source": [
        "res = model.predict_proba(Xtest[3].reshape(-1,22))\n",
        "res"
      ],
      "execution_count": null,
      "outputs": [
        {
          "output_type": "execute_result",
          "data": {
            "text/plain": [
              "array([[0.3967356]], dtype=float32)"
            ]
          },
          "metadata": {
            "tags": []
          },
          "execution_count": 62
        }
      ]
    },
    {
      "cell_type": "code",
      "metadata": {
        "colab": {
          "base_uri": "https://localhost:8080/"
        },
        "id": "1Ak_kOZM3obJ",
        "outputId": "42d742b6-2eae-4f74-80cb-26581142df82"
      },
      "source": [
        "disProb =   round(res[0][0],1)*100\n",
        "noDiseas =  100 - disProb\n",
        "noDiseas"
      ],
      "execution_count": null,
      "outputs": [
        {
          "output_type": "execute_result",
          "data": {
            "text/plain": [
              "59.99999940395355"
            ]
          },
          "metadata": {
            "tags": []
          },
          "execution_count": 65
        }
      ]
    },
    {
      "cell_type": "code",
      "metadata": {
        "colab": {
          "base_uri": "https://localhost:8080/"
        },
        "id": "eM8a-_8J3off",
        "outputId": "a53c99e9-ce51-4703-bcc3-47e4a6a598db"
      },
      "source": [
        "new_model.summary()"
      ],
      "execution_count": null,
      "outputs": [
        {
          "output_type": "stream",
          "text": [
            "Model: \"sequential\"\n",
            "_________________________________________________________________\n",
            "Layer (type)                 Output Shape              Param #   \n",
            "=================================================================\n",
            "dense (Dense)                (None, 128)               2944      \n",
            "_________________________________________________________________\n",
            "dropout (Dropout)            (None, 128)               0         \n",
            "_________________________________________________________________\n",
            "dense_1 (Dense)              (None, 64)                8256      \n",
            "_________________________________________________________________\n",
            "dense_2 (Dense)              (None, 1)                 65        \n",
            "=================================================================\n",
            "Total params: 11,265\n",
            "Trainable params: 11,265\n",
            "Non-trainable params: 0\n",
            "_________________________________________________________________\n"
          ],
          "name": "stdout"
        }
      ]
    },
    {
      "cell_type": "markdown",
      "metadata": {
        "id": "LuszjAl2BwjY"
      },
      "source": [
        "### TENSORFLOW LITE MODEL"
      ]
    },
    {
      "cell_type": "code",
      "metadata": {
        "colab": {
          "base_uri": "https://localhost:8080/"
        },
        "id": "4GiCoz93JTBF",
        "outputId": "62b110d3-ac91-4af2-dd89-52c9bf5a1a01"
      },
      "source": [
        "# Convert the model.\n",
        "converter = tf.lite.TFLiteConverter.from_keras_model(model)\n",
        "tflite_model = converter.convert()\n",
        "\n",
        "# Save the model.\n",
        "with open(path + 'proceedit_har_adam_tflite_model_2L_2D__16_9799_9429.tflite', 'wb') as f:\n",
        "  f.write(tflite_model)"
      ],
      "execution_count": null,
      "outputs": [
        {
          "output_type": "stream",
          "text": [
            "INFO:tensorflow:Assets written to: /tmp/tmpzxjoia18/assets\n"
          ],
          "name": "stdout"
        },
        {
          "output_type": "stream",
          "text": [
            "INFO:tensorflow:Assets written to: /tmp/tmpzxjoia18/assets\n"
          ],
          "name": "stderr"
        }
      ]
    },
    {
      "cell_type": "code",
      "metadata": {
        "colab": {
          "base_uri": "https://localhost:8080/"
        },
        "id": "5TkKkmwOB6c0",
        "outputId": "217c2a24-a6b8-4ae9-f33c-7cd414ca9375"
      },
      "source": [
        "# Convert the model.\n",
        "converter = tf.lite.TFLiteConverter.from_keras_model(model)\n",
        "converter.target_spec.supported_ops = [tf.lite.OpsSet.TFLITE_BUILTINS, tf.lite.OpsSet.SELECT_TF_OPS]\n",
        "converter.optimizations = [tf.lite.Optimize.OPTIMIZE_FOR_SIZE]\n",
        "tflite_model = converter.convert()\n",
        "\n",
        "# Save the model.\n",
        "with tf.io.gfile.GFile(path + 'proceedit_har_adam_tflite_model_2L_1D20_9856_92_gfile.tflite', 'wb') as f:\n",
        "  f.write(tflite_model)"
      ],
      "execution_count": null,
      "outputs": [
        {
          "output_type": "stream",
          "text": [
            "INFO:tensorflow:Assets written to: /tmp/tmpijaqr396/assets\n"
          ],
          "name": "stdout"
        },
        {
          "output_type": "stream",
          "text": [
            "INFO:tensorflow:Assets written to: /tmp/tmpijaqr396/assets\n"
          ],
          "name": "stderr"
        }
      ]
    },
    {
      "cell_type": "code",
      "metadata": {
        "id": "ZwMsjNT_-q7z",
        "colab": {
          "base_uri": "https://localhost:8080/"
        },
        "outputId": "45625909-5dae-4f18-effd-97f6e7fa77e6"
      },
      "source": [
        "import joblib\n",
        "deepL_har_model = path + 'proceedit_har_adam_tflite_model_2L_2D__16_9799_9429.tflite'\n",
        "joblib.dump(tflite_model,deepL_har_model)\n",
        "\n",
        "# deepL_har_model_output = joblib.load(deepL_har_model)"
      ],
      "execution_count": null,
      "outputs": [
        {
          "output_type": "execute_result",
          "data": {
            "text/plain": [
              "['/content/drive/My Drive/Colab Notebooks/Proceedit/proceedit_har_adam_tflite_model_2L_2D__16_9799_9429.tflite']"
            ]
          },
          "metadata": {
            "tags": []
          },
          "execution_count": 386
        }
      ]
    },
    {
      "cell_type": "code",
      "metadata": {
        "id": "2nfPz7b3kMf7"
      },
      "source": [
        ""
      ],
      "execution_count": null,
      "outputs": []
    }
  ]
}